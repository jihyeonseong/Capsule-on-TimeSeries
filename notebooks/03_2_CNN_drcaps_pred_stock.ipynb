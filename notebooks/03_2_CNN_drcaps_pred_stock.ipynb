{
 "cells": [
  {
   "cell_type": "markdown",
   "metadata": {},
   "source": [
    "# 1. Import Module & Data"
   ]
  },
  {
   "cell_type": "code",
   "execution_count": 1,
   "metadata": {},
   "outputs": [],
   "source": [
    "import numpy as np\n",
    "import pandas as pd\n",
    "%matplotlib inline\n",
    "from matplotlib import figure\n",
    "import matplotlib.pyplot as plt\n",
    "import math\n",
    "import os\n",
    "import time\n",
    "import random\n",
    "import gc\n",
    "from sklearn.preprocessing import StandardScaler, MinMaxScaler\n",
    "import seaborn as sns\n",
    "\n",
    "import warnings\n",
    "warnings.filterwarnings(action='ignore')"
   ]
  },
  {
   "cell_type": "code",
   "execution_count": 2,
   "metadata": {},
   "outputs": [],
   "source": [
    "os.environ['CUDA_VISIBLE_DEVICES'] = \"0\""
   ]
  },
  {
   "cell_type": "code",
   "execution_count": 3,
   "metadata": {},
   "outputs": [
    {
     "data": {
      "text/html": [
       "<div>\n",
       "<style scoped>\n",
       "    .dataframe tbody tr th:only-of-type {\n",
       "        vertical-align: middle;\n",
       "    }\n",
       "\n",
       "    .dataframe tbody tr th {\n",
       "        vertical-align: top;\n",
       "    }\n",
       "\n",
       "    .dataframe thead th {\n",
       "        text-align: right;\n",
       "    }\n",
       "</style>\n",
       "<table border=\"1\" class=\"dataframe\">\n",
       "  <thead>\n",
       "    <tr style=\"text-align: right;\">\n",
       "      <th></th>\n",
       "      <th>Open</th>\n",
       "      <th>High</th>\n",
       "      <th>Low</th>\n",
       "      <th>Close</th>\n",
       "      <th>Volume</th>\n",
       "      <th>Close_SMA10</th>\n",
       "      <th>Close_SMA20</th>\n",
       "      <th>Close_SMA30</th>\n",
       "      <th>Close_EMA10</th>\n",
       "      <th>Close_EMA20</th>\n",
       "      <th>...</th>\n",
       "      <th>Close_long</th>\n",
       "      <th>Close_MACD</th>\n",
       "      <th>Close_SignalLine</th>\n",
       "      <th>Close_7D</th>\n",
       "      <th>Close_1D</th>\n",
       "      <th>Close_Momentum</th>\n",
       "      <th>Close1diff</th>\n",
       "      <th>Close_up</th>\n",
       "      <th>Close_down</th>\n",
       "      <th>Close_RSI</th>\n",
       "    </tr>\n",
       "  </thead>\n",
       "  <tbody>\n",
       "    <tr>\n",
       "      <th>0</th>\n",
       "      <td>151.78</td>\n",
       "      <td>151.78</td>\n",
       "      <td>151.78</td>\n",
       "      <td>151.78</td>\n",
       "      <td>195.0</td>\n",
       "      <td>151.802</td>\n",
       "      <td>151.8685</td>\n",
       "      <td>151.851000</td>\n",
       "      <td>151.814923</td>\n",
       "      <td>151.837962</td>\n",
       "      <td>...</td>\n",
       "      <td>151.846566</td>\n",
       "      <td>-0.025605</td>\n",
       "      <td>-0.016996</td>\n",
       "      <td>151.80</td>\n",
       "      <td>151.80</td>\n",
       "      <td>0.000000</td>\n",
       "      <td>-0.02</td>\n",
       "      <td>0.00</td>\n",
       "      <td>-0.02</td>\n",
       "      <td>37.096774</td>\n",
       "    </tr>\n",
       "    <tr>\n",
       "      <th>1</th>\n",
       "      <td>151.78</td>\n",
       "      <td>151.78</td>\n",
       "      <td>151.78</td>\n",
       "      <td>151.78</td>\n",
       "      <td>465.0</td>\n",
       "      <td>151.803</td>\n",
       "      <td>151.8640</td>\n",
       "      <td>151.846333</td>\n",
       "      <td>151.808574</td>\n",
       "      <td>151.832442</td>\n",
       "      <td>...</td>\n",
       "      <td>151.841635</td>\n",
       "      <td>-0.026976</td>\n",
       "      <td>-0.018992</td>\n",
       "      <td>151.80</td>\n",
       "      <td>151.78</td>\n",
       "      <td>-0.000132</td>\n",
       "      <td>0.00</td>\n",
       "      <td>0.00</td>\n",
       "      <td>0.00</td>\n",
       "      <td>33.898305</td>\n",
       "    </tr>\n",
       "    <tr>\n",
       "      <th>2</th>\n",
       "      <td>151.75</td>\n",
       "      <td>151.75</td>\n",
       "      <td>151.65</td>\n",
       "      <td>151.69</td>\n",
       "      <td>1877.0</td>\n",
       "      <td>151.787</td>\n",
       "      <td>151.8525</td>\n",
       "      <td>151.837333</td>\n",
       "      <td>151.787015</td>\n",
       "      <td>151.818876</td>\n",
       "      <td>...</td>\n",
       "      <td>151.830403</td>\n",
       "      <td>-0.034922</td>\n",
       "      <td>-0.022178</td>\n",
       "      <td>151.81</td>\n",
       "      <td>151.78</td>\n",
       "      <td>-0.000198</td>\n",
       "      <td>-0.09</td>\n",
       "      <td>0.00</td>\n",
       "      <td>-0.09</td>\n",
       "      <td>28.358209</td>\n",
       "    </tr>\n",
       "    <tr>\n",
       "      <th>3</th>\n",
       "      <td>151.62</td>\n",
       "      <td>151.62</td>\n",
       "      <td>151.60</td>\n",
       "      <td>151.62</td>\n",
       "      <td>913.0</td>\n",
       "      <td>151.769</td>\n",
       "      <td>151.8365</td>\n",
       "      <td>151.826667</td>\n",
       "      <td>151.756648</td>\n",
       "      <td>151.799935</td>\n",
       "      <td>...</td>\n",
       "      <td>151.814817</td>\n",
       "      <td>-0.046334</td>\n",
       "      <td>-0.027009</td>\n",
       "      <td>151.81</td>\n",
       "      <td>151.69</td>\n",
       "      <td>-0.000790</td>\n",
       "      <td>-0.07</td>\n",
       "      <td>0.00</td>\n",
       "      <td>-0.07</td>\n",
       "      <td>29.687500</td>\n",
       "    </tr>\n",
       "    <tr>\n",
       "      <th>4</th>\n",
       "      <td>151.66</td>\n",
       "      <td>151.66</td>\n",
       "      <td>151.65</td>\n",
       "      <td>151.65</td>\n",
       "      <td>441.0</td>\n",
       "      <td>151.754</td>\n",
       "      <td>151.8210</td>\n",
       "      <td>151.824000</td>\n",
       "      <td>151.737258</td>\n",
       "      <td>151.785656</td>\n",
       "      <td>...</td>\n",
       "      <td>151.802609</td>\n",
       "      <td>-0.052353</td>\n",
       "      <td>-0.032078</td>\n",
       "      <td>151.81</td>\n",
       "      <td>151.62</td>\n",
       "      <td>-0.001252</td>\n",
       "      <td>0.03</td>\n",
       "      <td>0.03</td>\n",
       "      <td>0.00</td>\n",
       "      <td>22.413793</td>\n",
       "    </tr>\n",
       "    <tr>\n",
       "      <th>...</th>\n",
       "      <td>...</td>\n",
       "      <td>...</td>\n",
       "      <td>...</td>\n",
       "      <td>...</td>\n",
       "      <td>...</td>\n",
       "      <td>...</td>\n",
       "      <td>...</td>\n",
       "      <td>...</td>\n",
       "      <td>...</td>\n",
       "      <td>...</td>\n",
       "      <td>...</td>\n",
       "      <td>...</td>\n",
       "      <td>...</td>\n",
       "      <td>...</td>\n",
       "      <td>...</td>\n",
       "      <td>...</td>\n",
       "      <td>...</td>\n",
       "      <td>...</td>\n",
       "      <td>...</td>\n",
       "      <td>...</td>\n",
       "      <td>...</td>\n",
       "    </tr>\n",
       "    <tr>\n",
       "      <th>66784</th>\n",
       "      <td>166.28</td>\n",
       "      <td>166.33</td>\n",
       "      <td>166.28</td>\n",
       "      <td>166.33</td>\n",
       "      <td>1020.0</td>\n",
       "      <td>166.340</td>\n",
       "      <td>166.3450</td>\n",
       "      <td>166.359333</td>\n",
       "      <td>166.323779</td>\n",
       "      <td>166.337186</td>\n",
       "      <td>...</td>\n",
       "      <td>166.336513</td>\n",
       "      <td>-0.007955</td>\n",
       "      <td>0.005171</td>\n",
       "      <td>166.40</td>\n",
       "      <td>166.28</td>\n",
       "      <td>-0.000721</td>\n",
       "      <td>0.05</td>\n",
       "      <td>0.05</td>\n",
       "      <td>0.00</td>\n",
       "      <td>51.162791</td>\n",
       "    </tr>\n",
       "    <tr>\n",
       "      <th>66785</th>\n",
       "      <td>166.33</td>\n",
       "      <td>166.33</td>\n",
       "      <td>166.30</td>\n",
       "      <td>166.30</td>\n",
       "      <td>327.0</td>\n",
       "      <td>166.325</td>\n",
       "      <td>166.3450</td>\n",
       "      <td>166.351333</td>\n",
       "      <td>166.319455</td>\n",
       "      <td>166.333645</td>\n",
       "      <td>...</td>\n",
       "      <td>166.333808</td>\n",
       "      <td>-0.009644</td>\n",
       "      <td>0.002208</td>\n",
       "      <td>166.33</td>\n",
       "      <td>166.33</td>\n",
       "      <td>0.000000</td>\n",
       "      <td>-0.03</td>\n",
       "      <td>0.00</td>\n",
       "      <td>-0.03</td>\n",
       "      <td>42.307692</td>\n",
       "    </tr>\n",
       "    <tr>\n",
       "      <th>66786</th>\n",
       "      <td>166.30</td>\n",
       "      <td>166.35</td>\n",
       "      <td>166.30</td>\n",
       "      <td>166.35</td>\n",
       "      <td>3435.0</td>\n",
       "      <td>166.323</td>\n",
       "      <td>166.3500</td>\n",
       "      <td>166.349333</td>\n",
       "      <td>166.325009</td>\n",
       "      <td>166.335203</td>\n",
       "      <td>...</td>\n",
       "      <td>166.335008</td>\n",
       "      <td>-0.006868</td>\n",
       "      <td>0.000393</td>\n",
       "      <td>166.40</td>\n",
       "      <td>166.30</td>\n",
       "      <td>-0.000601</td>\n",
       "      <td>0.05</td>\n",
       "      <td>0.05</td>\n",
       "      <td>0.00</td>\n",
       "      <td>45.121951</td>\n",
       "    </tr>\n",
       "    <tr>\n",
       "      <th>66787</th>\n",
       "      <td>166.33</td>\n",
       "      <td>166.40</td>\n",
       "      <td>166.33</td>\n",
       "      <td>166.40</td>\n",
       "      <td>1519.0</td>\n",
       "      <td>166.323</td>\n",
       "      <td>166.3515</td>\n",
       "      <td>166.348667</td>\n",
       "      <td>166.338644</td>\n",
       "      <td>166.341374</td>\n",
       "      <td>...</td>\n",
       "      <td>166.339822</td>\n",
       "      <td>-0.000627</td>\n",
       "      <td>0.000189</td>\n",
       "      <td>166.35</td>\n",
       "      <td>166.35</td>\n",
       "      <td>0.000000</td>\n",
       "      <td>0.05</td>\n",
       "      <td>0.05</td>\n",
       "      <td>0.00</td>\n",
       "      <td>47.674419</td>\n",
       "    </tr>\n",
       "    <tr>\n",
       "      <th>66788</th>\n",
       "      <td>166.36</td>\n",
       "      <td>166.42</td>\n",
       "      <td>166.36</td>\n",
       "      <td>166.36</td>\n",
       "      <td>968.0</td>\n",
       "      <td>166.326</td>\n",
       "      <td>166.3530</td>\n",
       "      <td>166.349000</td>\n",
       "      <td>166.342527</td>\n",
       "      <td>166.343148</td>\n",
       "      <td>...</td>\n",
       "      <td>166.341317</td>\n",
       "      <td>0.001079</td>\n",
       "      <td>0.000367</td>\n",
       "      <td>166.23</td>\n",
       "      <td>166.40</td>\n",
       "      <td>0.001023</td>\n",
       "      <td>-0.04</td>\n",
       "      <td>0.00</td>\n",
       "      <td>-0.04</td>\n",
       "      <td>51.250000</td>\n",
       "    </tr>\n",
       "  </tbody>\n",
       "</table>\n",
       "<p>66789 rows × 24 columns</p>\n",
       "</div>"
      ],
      "text/plain": [
       "         Open    High     Low   Close  Volume  Close_SMA10  Close_SMA20  \\\n",
       "0      151.78  151.78  151.78  151.78   195.0      151.802     151.8685   \n",
       "1      151.78  151.78  151.78  151.78   465.0      151.803     151.8640   \n",
       "2      151.75  151.75  151.65  151.69  1877.0      151.787     151.8525   \n",
       "3      151.62  151.62  151.60  151.62   913.0      151.769     151.8365   \n",
       "4      151.66  151.66  151.65  151.65   441.0      151.754     151.8210   \n",
       "...       ...     ...     ...     ...     ...          ...          ...   \n",
       "66784  166.28  166.33  166.28  166.33  1020.0      166.340     166.3450   \n",
       "66785  166.33  166.33  166.30  166.30   327.0      166.325     166.3450   \n",
       "66786  166.30  166.35  166.30  166.35  3435.0      166.323     166.3500   \n",
       "66787  166.33  166.40  166.33  166.40  1519.0      166.323     166.3515   \n",
       "66788  166.36  166.42  166.36  166.36   968.0      166.326     166.3530   \n",
       "\n",
       "       Close_SMA30  Close_EMA10  Close_EMA20  ...  Close_long  Close_MACD  \\\n",
       "0       151.851000   151.814923   151.837962  ...  151.846566   -0.025605   \n",
       "1       151.846333   151.808574   151.832442  ...  151.841635   -0.026976   \n",
       "2       151.837333   151.787015   151.818876  ...  151.830403   -0.034922   \n",
       "3       151.826667   151.756648   151.799935  ...  151.814817   -0.046334   \n",
       "4       151.824000   151.737258   151.785656  ...  151.802609   -0.052353   \n",
       "...            ...          ...          ...  ...         ...         ...   \n",
       "66784   166.359333   166.323779   166.337186  ...  166.336513   -0.007955   \n",
       "66785   166.351333   166.319455   166.333645  ...  166.333808   -0.009644   \n",
       "66786   166.349333   166.325009   166.335203  ...  166.335008   -0.006868   \n",
       "66787   166.348667   166.338644   166.341374  ...  166.339822   -0.000627   \n",
       "66788   166.349000   166.342527   166.343148  ...  166.341317    0.001079   \n",
       "\n",
       "       Close_SignalLine  Close_7D  Close_1D  Close_Momentum  Close1diff  \\\n",
       "0             -0.016996    151.80    151.80        0.000000       -0.02   \n",
       "1             -0.018992    151.80    151.78       -0.000132        0.00   \n",
       "2             -0.022178    151.81    151.78       -0.000198       -0.09   \n",
       "3             -0.027009    151.81    151.69       -0.000790       -0.07   \n",
       "4             -0.032078    151.81    151.62       -0.001252        0.03   \n",
       "...                 ...       ...       ...             ...         ...   \n",
       "66784          0.005171    166.40    166.28       -0.000721        0.05   \n",
       "66785          0.002208    166.33    166.33        0.000000       -0.03   \n",
       "66786          0.000393    166.40    166.30       -0.000601        0.05   \n",
       "66787          0.000189    166.35    166.35        0.000000        0.05   \n",
       "66788          0.000367    166.23    166.40        0.001023       -0.04   \n",
       "\n",
       "       Close_up  Close_down  Close_RSI  \n",
       "0          0.00       -0.02  37.096774  \n",
       "1          0.00        0.00  33.898305  \n",
       "2          0.00       -0.09  28.358209  \n",
       "3          0.00       -0.07  29.687500  \n",
       "4          0.03        0.00  22.413793  \n",
       "...         ...         ...        ...  \n",
       "66784      0.05        0.00  51.162791  \n",
       "66785      0.00       -0.03  42.307692  \n",
       "66786      0.05        0.00  45.121951  \n",
       "66787      0.05        0.00  47.674419  \n",
       "66788      0.00       -0.04  51.250000  \n",
       "\n",
       "[66789 rows x 24 columns]"
      ]
     },
     "execution_count": 3,
     "metadata": {},
     "output_type": "execute_result"
    }
   ],
   "source": [
    "data_folder = '../data/'\n",
    "os.makedirs(data_folder, exist_ok=True)\n",
    "\n",
    "df = pd.read_csv(data_folder + 'aapl.csv')\n",
    "df = df.iloc[:, 1:]\n",
    "df"
   ]
  },
  {
   "cell_type": "markdown",
   "metadata": {},
   "source": [
    "### If you want Feature Engineering for uni-stock"
   ]
  },
  {
   "cell_type": "code",
   "execution_count": 4,
   "metadata": {},
   "outputs": [],
   "source": [
    "#Feature Engineering Class \n",
    "class FeatureEngineering:\n",
    "    def __init__(self, stock_name):\n",
    "        self.stock_name = stock_name\n",
    "\n",
    "    #Simple Moving Average\n",
    "    def SMA(self,  data, column='Close', period=30):\n",
    "        data = copy.deepcopy(data)\n",
    "        data[column+f'_SMA{period}'] = data[column].rolling(period).mean()\n",
    "        return data\n",
    "    \n",
    "    def SMA_(self,  data, column='Close', period=30):\n",
    "        data = copy.deepcopy(data)\n",
    "        return data[column].rolling(period).mean()\n",
    "\n",
    "    #Exponential Moving Average\n",
    "    def EMA(self, data, period=20, column='Close'):\n",
    "        data = copy.deepcopy(data)\n",
    "        data[column+f'_EMA{period}'] = data[column].ewm(span=period, adjust=False).mean()\n",
    "        return data\n",
    "    \n",
    "    def EMA_(self, data, period=20, column='Close'):\n",
    "        data = copy.deepcopy(data)\n",
    "        return data[column].ewm(span=period, adjust=False).mean()\n",
    "    \n",
    "    #BollingerBand with SMA\n",
    "    def Bollingerband(self, data, period=20, column='Close'):\n",
    "        data = copy.deepcopy(data)\n",
    "        \n",
    "        data[column+f'_SMA{period}'] = self.SMA_(data, column=column, period=period)\n",
    "        data[column+'_UB'] = data[column+f'_SMA{period}'] + 2*data[column+f'_SMA{period}'].std()\n",
    "        data[column+'_LB'] = data[column+f'_SMA{period}'] - 2*data[column+f'_SMA{period}'].std()\n",
    "        \n",
    "        return data\n",
    "    \n",
    "    #MACD\n",
    "    def MACD(self, data, period_long=26, period_short=12, period_signal=9, column='Close'):\n",
    "        data = copy.deepcopy(data)\n",
    "        \n",
    "        data[column+'_short'] = self.EMA_(data, period=period_short, column=column)\n",
    "\n",
    "        data[column+f'_long'] = self.EMA_(data, period=period_long, column=column)\n",
    "\n",
    "        data[column+'_MACD'] = data[column+f'_short']- data[column+f'_long']\n",
    "\n",
    "        #signal\n",
    "        data[column+'_SignalLine'] = self.EMA_(data, period=period_signal, column=column+'_MACD')\n",
    "\n",
    "        return data\n",
    "    \n",
    "    #Momentum\n",
    "    def Momentum(self, data, period=7, column='Close'):\n",
    "        data = copy.deepcopy(data)\n",
    "        \n",
    "        data[column+f'_{period}D'] = data[column].shift(period)\n",
    "        data[column+'_1D'] = data[column].shift(1)\n",
    "        data[column+'_Momentum'] = data[column+'_1D'] / data[column+f'_{period}D'] - 1\n",
    "        \n",
    "        return data\n",
    "    \n",
    "    #RSI\n",
    "    def RSI(self, data, period=14, column='Close'):\n",
    "        data = copy.deepcopy(data)\n",
    "        \n",
    "        data[column+'1diff'] = data[column].diff(1)\n",
    "        \n",
    "        delta = data[column].diff(1)\n",
    "        delta = delta.dropna()\n",
    "\n",
    "        up = delta.copy()\n",
    "        down = delta.copy()\n",
    "        up[up<0] = 0\n",
    "        down[down>0] = 0\n",
    "        data[column+'_up'] = up\n",
    "        data[column+'_down'] = down\n",
    "\n",
    "        AVG_Gain = self.SMA_(data, period=period, column=column+'_up')\n",
    "        AVG_Loss = abs(self.SMA_(data, period=period, column=column+'_down'))\n",
    "        RS = AVG_Gain / AVG_Loss\n",
    "\n",
    "        RSI = 100.0 - (100.0/(1.0+RS))\n",
    "        data[column+'_RSI'] = RSI\n",
    "  \n",
    "        return data\n",
    "    \n",
    "    #Get feature engineered data\n",
    "    def get_data(self, train):\n",
    "        #print('Feature Engineering...')\n",
    "        \n",
    "        self.train = copy.deepcopy(train)\n",
    "        c = self.stock_name\n",
    "        \n",
    "        self.train = self.SMA(self.train, column=c, period=10)\n",
    "        self.train = self.SMA(self.train, column=c, period=20)\n",
    "        self.train = self.SMA(self.train, column=c, period=30)\n",
    "        \n",
    "        self.train = self.EMA(self.train, column=c, period=10)\n",
    "        self.train = self.EMA(self.train, column=c, period=20)\n",
    "        self.train = self.EMA(self.train, column=c, period=30)\n",
    "        \n",
    "        self.train = self.Bollingerband(self.train, column=c)\n",
    "        self.train = self.MACD(self.train, column=c)\n",
    "        self.train = self.Momentum(self.train, column=c)\n",
    "        self.train = self.RSI(self.train, column=c)\n",
    "        \n",
    "        #print(\"Done!\")\n",
    "        \n",
    "        return self.train"
   ]
  },
  {
   "cell_type": "code",
   "execution_count": 5,
   "metadata": {},
   "outputs": [],
   "source": [
    "#fe = FeatureEngineering('AAPL')\n",
    "#df_fe = fe.get_data(df.loc[:, ['AAPL']])"
   ]
  },
  {
   "cell_type": "code",
   "execution_count": 6,
   "metadata": {},
   "outputs": [
    {
     "name": "stdout",
     "output_type": "stream",
     "text": [
      "3 24\n"
     ]
    }
   ],
   "source": [
    "#df = pd.concat([df_fe.iloc[:, 1:], df], axis=1)\n",
    "#df.dropna(inplace=True)\n",
    "target_loc = pd.Index(df.columns.tolist()).get_loc('Close')\n",
    "print(target_loc, len(df.columns))"
   ]
  },
  {
   "cell_type": "code",
   "execution_count": 7,
   "metadata": {},
   "outputs": [
    {
     "name": "stdout",
     "output_type": "stream",
     "text": [
      "60000 3800 2989\n"
     ]
    }
   ],
   "source": [
    "train = df[:60000]\n",
    "valid = df[60000:60000+3800]\n",
    "test = df[60000+3800:]\n",
    "\n",
    "print(len(train), len(valid), len(test))\n",
    "\n",
    "sc = MinMaxScaler()\n",
    "sc.fit(train.values)\n",
    "train_sc = pd.DataFrame(sc.transform(train.values), columns=df.columns)\n",
    "valid_sc = pd.DataFrame(sc.transform(valid.values), columns=df.columns)\n",
    "test_sc = pd.DataFrame(sc.transform(test.values), columns=df.columns)"
   ]
  },
  {
   "cell_type": "code",
   "execution_count": 8,
   "metadata": {
    "scrolled": true
   },
   "outputs": [
    {
     "data": {
      "image/png": "[encoded data removed]",
      "text/plain": [
       "<Figure size 1440x360 with 1 Axes>"
      ]
     },
     "metadata": {
      "needs_background": "light"
     },
     "output_type": "display_data"
    }
   ],
   "source": [
    "plt.figure(figsize=(20,5))\n",
    "plt.plot(train_sc.iloc[:10000, target_loc], label=train_sc.columns[target_loc])\n",
    "plt.legend()\n",
    "plt.show()"
   ]
  },
  {
   "cell_type": "code",
   "execution_count": 9,
   "metadata": {},
   "outputs": [],
   "source": [
    "from torch import nn\n",
    "from torch.utils.data import Dataset, WeightedRandomSampler\n",
    "from torch.optim.lr_scheduler import ReduceLROnPlateau\n",
    "import torch.nn.functional as F\n",
    "import torch\n",
    "\n",
    "import os\n",
    "import statistics\n",
    "import numpy as np\n",
    "import pandas as pd\n",
    "from tqdm import tqdm\n",
    "import json\n",
    "import matplotlib.pyplot as plt\n",
    "\n",
    "SEED = 10\n",
    "torch.manual_seed(SEED)\n",
    "torch.cuda.manual_seed_all(SEED)\n",
    "np.random.seed(SEED)"
   ]
  },
  {
   "cell_type": "code",
   "execution_count": 10,
   "metadata": {},
   "outputs": [],
   "source": [
    "class MyDataset(Dataset):\n",
    "    def __init__(self, data, window, pred, target_loc):\n",
    "        self.data = torch.Tensor(data.values)\n",
    "        self.window = window\n",
    "        self.pred = pred\n",
    "        self.target_loc = target_loc\n",
    "        self.use_cols = [x for x in range(len(data.columns)) if x != target_loc] #if x != target_loc\n",
    "        \n",
    "        self.shape = self.__getshape__()\n",
    "        self.size = self.__getsize__()\n",
    "\n",
    "    def __getitem__(self, index):\n",
    "        x = self.data[index:index+self.window, self.use_cols]\n",
    "        y = self.data[index+self.window+self.pred-1, self.target_loc]\n",
    "        return x, y\n",
    "\n",
    "    def __len__(self):\n",
    "        return len(self.data) - self.window - self.pred\n",
    "    \n",
    "    def __getshape__(self):\n",
    "        return (self.__len__(), *self.__getitem__(0)[0].shape) # row, col\n",
    "    \n",
    "    def __getsize__(self):\n",
    "        return (self.__len__())"
   ]
  },
  {
   "cell_type": "code",
   "execution_count": 11,
   "metadata": {},
   "outputs": [],
   "source": [
    "batch_size = 64\n",
    "num_workers = 4\n",
    "pin_memory = True\n",
    "device = 'cuda'\n",
    "num_epoch = 200\n",
    "lr = 1e-4\n",
    "window = 60\n",
    "pred_step = 10"
   ]
  },
  {
   "cell_type": "code",
   "execution_count": 12,
   "metadata": {},
   "outputs": [],
   "source": [
    "train_dataset = MyDataset(train_sc, window, pred_step, target_loc)\n",
    "valid_dataset = MyDataset(valid_sc, window, pred_step, target_loc)\n",
    "test_dataset = MyDataset(test_sc, window, pred_step, target_loc)\n",
    "\n",
    "train_loader = torch.utils.data.DataLoader(train_dataset, batch_size=batch_size, \n",
    "                                     drop_last=False, \n",
    "                                     num_workers=num_workers, pin_memory=pin_memory, shuffle=True) \n",
    "valid_loader = torch.utils.data.DataLoader(valid_dataset, batch_size=batch_size, \n",
    "                                     drop_last=False, \n",
    "                                     num_workers=num_workers, pin_memory=pin_memory, shuffle=False)\n",
    "test_loader = torch.utils.data.DataLoader(test_dataset, batch_size=batch_size, \n",
    "                                     drop_last=False, \n",
    "                                     num_workers=num_workers, pin_memory=pin_memory, shuffle=False)"
   ]
  },
  {
   "cell_type": "markdown",
   "metadata": {},
   "source": [
    "# 2. CNN Model (similar architecture w DynamicRouting CapsNet)"
   ]
  },
  {
   "cell_type": "code",
   "execution_count": 13,
   "metadata": {},
   "outputs": [],
   "source": [
    "result_folder = f'../check/cnn/stock_prediction_{pred_step}_aapl/'\n",
    "os.makedirs(result_folder, exist_ok=True)"
   ]
  },
  {
   "cell_type": "code",
   "execution_count": 14,
   "metadata": {},
   "outputs": [],
   "source": [
    "class CNN(nn.Module):\n",
    "    def __init__(self, in_features, out_features, pool_size, hidden_dim, capsule_num):\n",
    "        super().__init__()\n",
    "        self.output = out_features\n",
    "        self.pool_size = pool_size\n",
    "        \n",
    "        self.hidden_dim = hidden_dim\n",
    "        self.capsule_num = capsule_num\n",
    "        \n",
    "        self.conv1 = nn.Conv2d(in_features, self.hidden_dim, kernel_size=(9, 1), stride=1)\n",
    "        #self.pool1 = nn.MaxPool2d((1, self.pool_size),1)\n",
    "        \n",
    "        self.conv2 = nn.Conv2d(self.hidden_dim, self.hidden_dim, kernel_size=(9, 1), stride=(2,1))\n",
    "        #self.pool2 = nn.MaxPool2d((1, self.pool_size),1)\n",
    "        \n",
    "        self.conv3 = nn.Conv2d(self.hidden_dim, 5*capsule_num*2, kernel_size=(1,1), stride=1)\n",
    "        self.pool3 = nn.AdaptiveMaxPool2d(1)\n",
    "       \n",
    "        self.flatten = nn.Flatten()\n",
    "        \n",
    "        self.fc1 = nn.Linear(5*capsule_num*2, 512)\n",
    "        self.fc2 = nn.Linear(512, 1024)\n",
    "        self.out = nn.Linear(1024, out_features)\n",
    "\n",
    "    def forward(self, x):\n",
    "        x = F.relu(self.conv1(x.transpose(1,2).unsqueeze(-1)))# 2. CNN Model (similar architecture w DynamicRouting CapsNet)\n",
    "        x = F.relu(self.conv2(x))\n",
    "        x = F.relu(self.pool3(self.conv3(x)))\n",
    "        \n",
    "        x = self.flatten(x).unsqueeze(1)\n",
    "        \n",
    "        x = F.relu(self.fc1(x))\n",
    "        x = F.relu(self.fc2(x))\n",
    "        x = (self.out(x))\n",
    "        \n",
    "        return x"
   ]
  },
  {
   "cell_type": "code",
   "execution_count": 15,
   "metadata": {},
   "outputs": [],
   "source": [
    "model = CNN(in_features= 24-1,\n",
    "            out_features=1, #classifcation = 5\n",
    "            pool_size=3, hidden_dim = 256, capsule_num=8).to(device) \n",
    "\n",
    "optimizer = torch.optim.Adam(model.parameters(), lr=lr)\n",
    "scheduler = ReduceLROnPlateau(optimizer, 'min')\n",
    "criterion = nn.MSELoss()"
   ]
  },
  {
   "cell_type": "code",
   "execution_count": 16,
   "metadata": {},
   "outputs": [
    {
     "data": {
      "text/plain": [
       "CNN(\n",
       "  (conv1): Conv2d(23, 256, kernel_size=(9, 1), stride=(1, 1))\n",
       "  (conv2): Conv2d(256, 256, kernel_size=(9, 1), stride=(2, 1))\n",
       "  (conv3): Conv2d(256, 80, kernel_size=(1, 1), stride=(1, 1))\n",
       "  (pool3): AdaptiveMaxPool2d(output_size=1)\n",
       "  (flatten): Flatten()\n",
       "  (fc1): Linear(in_features=80, out_features=512, bias=True)\n",
       "  (fc2): Linear(in_features=512, out_features=1024, bias=True)\n",
       "  (out): Linear(in_features=1024, out_features=1, bias=True)\n",
       ")"
      ]
     },
     "execution_count": 16,
     "metadata": {},
     "output_type": "execute_result"
    }
   ],
   "source": [
    "model"
   ]
  },
  {
   "cell_type": "markdown",
   "metadata": {},
   "source": [
    "# Model Training & Evaluation #"
   ]
  },
  {
   "cell_type": "code",
   "execution_count": 17,
   "metadata": {
    "scrolled": true
   },
   "outputs": [
    {
     "name": "stderr",
     "output_type": "stream",
     "text": [
      "                                                  \r"
     ]
    },
    {
     "name": "stdout",
     "output_type": "stream",
     "text": [
      "epoch: 0/200 | trn_loss: 0.0277 | val_loss: 0.0180\n"
     ]
    },
    {
     "name": "stderr",
     "output_type": "stream",
     "text": [
      "                                                  \r"
     ]
    },
    {
     "name": "stdout",
     "output_type": "stream",
     "text": [
      "epoch: 1/200 | trn_loss: 0.0160 | val_loss: 0.0171\n"
     ]
    },
    {
     "name": "stderr",
     "output_type": "stream",
     "text": [
      "                                                  \r"
     ]
    },
    {
     "name": "stdout",
     "output_type": "stream",
     "text": [
      "epoch: 2/200 | trn_loss: 0.0149 | val_loss: 0.0166\n"
     ]
    },
    {
     "name": "stderr",
     "output_type": "stream",
     "text": [
      "                                                  \r"
     ]
    },
    {
     "name": "stdout",
     "output_type": "stream",
     "text": [
      "epoch: 3/200 | trn_loss: 0.0146 | val_loss: 0.0165\n"
     ]
    },
    {
     "name": "stderr",
     "output_type": "stream",
     "text": [
      "                                                  \r"
     ]
    },
    {
     "name": "stdout",
     "output_type": "stream",
     "text": [
      "epoch: 4/200 | trn_loss: 0.0142 | val_loss: 0.0180\n"
     ]
    },
    {
     "name": "stderr",
     "output_type": "stream",
     "text": [
      "                                                  \r"
     ]
    },
    {
     "name": "stdout",
     "output_type": "stream",
     "text": [
      "epoch: 5/200 | trn_loss: 0.0139 | val_loss: 0.0156\n"
     ]
    },
    {
     "name": "stderr",
     "output_type": "stream",
     "text": [
      "                                                  \r"
     ]
    },
    {
     "name": "stdout",
     "output_type": "stream",
     "text": [
      "epoch: 6/200 | trn_loss: 0.0133 | val_loss: 0.0159\n"
     ]
    },
    {
     "name": "stderr",
     "output_type": "stream",
     "text": [
      "                                                  \r"
     ]
    },
    {
     "name": "stdout",
     "output_type": "stream",
     "text": [
      "epoch: 7/200 | trn_loss: 0.0134 | val_loss: 0.0155\n"
     ]
    },
    {
     "name": "stderr",
     "output_type": "stream",
     "text": [
      "                                                  \r"
     ]
    },
    {
     "name": "stdout",
     "output_type": "stream",
     "text": [
      "epoch: 8/200 | trn_loss: 0.0132 | val_loss: 0.0167\n"
     ]
    },
    {
     "name": "stderr",
     "output_type": "stream",
     "text": [
      "                                                  \r"
     ]
    },
    {
     "name": "stdout",
     "output_type": "stream",
     "text": [
      "epoch: 9/200 | trn_loss: 0.0128 | val_loss: 0.0153\n"
     ]
    },
    {
     "name": "stderr",
     "output_type": "stream",
     "text": [
      "                                                  \r"
     ]
    },
    {
     "name": "stdout",
     "output_type": "stream",
     "text": [
      "epoch: 10/200 | trn_loss: 0.0126 | val_loss: 0.0166\n"
     ]
    },
    {
     "name": "stderr",
     "output_type": "stream",
     "text": [
      "                                                  \r"
     ]
    },
    {
     "name": "stdout",
     "output_type": "stream",
     "text": [
      "epoch: 11/200 | trn_loss: 0.0127 | val_loss: 0.0150\n"
     ]
    },
    {
     "name": "stderr",
     "output_type": "stream",
     "text": [
      "                                                  \r"
     ]
    },
    {
     "name": "stdout",
     "output_type": "stream",
     "text": [
      "epoch: 12/200 | trn_loss: 0.0125 | val_loss: 0.0152\n"
     ]
    },
    {
     "name": "stderr",
     "output_type": "stream",
     "text": [
      "                                                  \r"
     ]
    },
    {
     "name": "stdout",
     "output_type": "stream",
     "text": [
      "epoch: 13/200 | trn_loss: 0.0121 | val_loss: 0.0152\n"
     ]
    },
    {
     "name": "stderr",
     "output_type": "stream",
     "text": [
      "                                                  \r"
     ]
    },
    {
     "name": "stdout",
     "output_type": "stream",
     "text": [
      "epoch: 14/200 | trn_loss: 0.0121 | val_loss: 0.0167\n"
     ]
    },
    {
     "name": "stderr",
     "output_type": "stream",
     "text": [
      "                                                  \r"
     ]
    },
    {
     "name": "stdout",
     "output_type": "stream",
     "text": [
      "epoch: 15/200 | trn_loss: 0.0119 | val_loss: 0.0156\n"
     ]
    },
    {
     "name": "stderr",
     "output_type": "stream",
     "text": [
      "                                                  \r"
     ]
    },
    {
     "name": "stdout",
     "output_type": "stream",
     "text": [
      "epoch: 16/200 | trn_loss: 0.0117 | val_loss: 0.0174\n"
     ]
    },
    {
     "name": "stderr",
     "output_type": "stream",
     "text": [
      "                                                  \r"
     ]
    },
    {
     "name": "stdout",
     "output_type": "stream",
     "text": [
      "epoch: 17/200 | trn_loss: 0.0116 | val_loss: 0.0151\n"
     ]
    },
    {
     "name": "stderr",
     "output_type": "stream",
     "text": [
      "                                                  \r"
     ]
    },
    {
     "name": "stdout",
     "output_type": "stream",
     "text": [
      "epoch: 18/200 | trn_loss: 0.0115 | val_loss: 0.0163\n"
     ]
    },
    {
     "name": "stderr",
     "output_type": "stream",
     "text": [
      "                                                  \r"
     ]
    },
    {
     "name": "stdout",
     "output_type": "stream",
     "text": [
      "epoch: 19/200 | trn_loss: 0.0116 | val_loss: 0.0162\n"
     ]
    },
    {
     "name": "stderr",
     "output_type": "stream",
     "text": [
      "                                                  \r"
     ]
    },
    {
     "name": "stdout",
     "output_type": "stream",
     "text": [
      "epoch: 20/200 | trn_loss: 0.0113 | val_loss: 0.0156\n"
     ]
    },
    {
     "name": "stderr",
     "output_type": "stream",
     "text": [
      "                                                  \r"
     ]
    },
    {
     "name": "stdout",
     "output_type": "stream",
     "text": [
      "epoch: 21/200 | trn_loss: 0.0112 | val_loss: 0.0156\n"
     ]
    },
    {
     "name": "stderr",
     "output_type": "stream",
     "text": [
      "                                                  \r"
     ]
    },
    {
     "name": "stdout",
     "output_type": "stream",
     "text": [
      "epoch: 22/200 | trn_loss: 0.0112 | val_loss: 0.0167\n"
     ]
    },
    {
     "name": "stderr",
     "output_type": "stream",
     "text": [
      "                                                  \r"
     ]
    },
    {
     "name": "stdout",
     "output_type": "stream",
     "text": [
      "epoch: 23/200 | trn_loss: 0.0111 | val_loss: 0.0168\n"
     ]
    },
    {
     "name": "stderr",
     "output_type": "stream",
     "text": [
      "                                                  \r"
     ]
    },
    {
     "name": "stdout",
     "output_type": "stream",
     "text": [
      "epoch: 24/200 | trn_loss: 0.0110 | val_loss: 0.0165\n"
     ]
    },
    {
     "name": "stderr",
     "output_type": "stream",
     "text": [
      "                                                  \r"
     ]
    },
    {
     "name": "stdout",
     "output_type": "stream",
     "text": [
      "epoch: 25/200 | trn_loss: 0.0109 | val_loss: 0.0162\n"
     ]
    },
    {
     "name": "stderr",
     "output_type": "stream",
     "text": [
      "                                                  \r"
     ]
    },
    {
     "name": "stdout",
     "output_type": "stream",
     "text": [
      "epoch: 26/200 | trn_loss: 0.0109 | val_loss: 0.0160\n"
     ]
    },
    {
     "name": "stderr",
     "output_type": "stream",
     "text": [
      "                                                  \r"
     ]
    },
    {
     "name": "stdout",
     "output_type": "stream",
     "text": [
      "epoch: 27/200 | trn_loss: 0.0108 | val_loss: 0.0173\n"
     ]
    },
    {
     "name": "stderr",
     "output_type": "stream",
     "text": [
      "                                                  \r"
     ]
    },
    {
     "name": "stdout",
     "output_type": "stream",
     "text": [
      "epoch: 28/200 | trn_loss: 0.0105 | val_loss: 0.0157\n"
     ]
    },
    {
     "name": "stderr",
     "output_type": "stream",
     "text": [
      "                                                  \r"
     ]
    },
    {
     "name": "stdout",
     "output_type": "stream",
     "text": [
      "epoch: 29/200 | trn_loss: 0.0104 | val_loss: 0.0186\n"
     ]
    },
    {
     "name": "stderr",
     "output_type": "stream",
     "text": [
      "                                                  \r"
     ]
    },
    {
     "name": "stdout",
     "output_type": "stream",
     "text": [
      "epoch: 30/200 | trn_loss: 0.0104 | val_loss: 0.0161\n"
     ]
    },
    {
     "name": "stderr",
     "output_type": "stream",
     "text": [
      "                                                  \r"
     ]
    },
    {
     "name": "stdout",
     "output_type": "stream",
     "text": [
      "epoch: 31/200 | trn_loss: 0.0104 | val_loss: 0.0170\n"
     ]
    },
    {
     "name": "stderr",
     "output_type": "stream",
     "text": [
      "                                                  \r"
     ]
    },
    {
     "name": "stdout",
     "output_type": "stream",
     "text": [
      "epoch: 32/200 | trn_loss: 0.0103 | val_loss: 0.0162\n"
     ]
    },
    {
     "name": "stderr",
     "output_type": "stream",
     "text": [
      "                                                  \r"
     ]
    },
    {
     "name": "stdout",
     "output_type": "stream",
     "text": [
      "epoch: 33/200 | trn_loss: 0.0103 | val_loss: 0.0165\n"
     ]
    },
    {
     "name": "stderr",
     "output_type": "stream",
     "text": [
      "                                                  \r"
     ]
    },
    {
     "name": "stdout",
     "output_type": "stream",
     "text": [
      "epoch: 34/200 | trn_loss: 0.0102 | val_loss: 0.0165\n"
     ]
    },
    {
     "name": "stderr",
     "output_type": "stream",
     "text": [
      "                                                  \r"
     ]
    },
    {
     "name": "stdout",
     "output_type": "stream",
     "text": [
      "epoch: 35/200 | trn_loss: 0.0100 | val_loss: 0.0165\n"
     ]
    },
    {
     "name": "stderr",
     "output_type": "stream",
     "text": [
      "                                                  \r"
     ]
    },
    {
     "name": "stdout",
     "output_type": "stream",
     "text": [
      "epoch: 36/200 | trn_loss: 0.0101 | val_loss: 0.0167\n"
     ]
    },
    {
     "name": "stderr",
     "output_type": "stream",
     "text": [
      "                                                  \r"
     ]
    },
    {
     "name": "stdout",
     "output_type": "stream",
     "text": [
      "epoch: 37/200 | trn_loss: 0.0099 | val_loss: 0.0173\n"
     ]
    },
    {
     "name": "stderr",
     "output_type": "stream",
     "text": [
      "                                                  \r"
     ]
    },
    {
     "name": "stdout",
     "output_type": "stream",
     "text": [
      "epoch: 38/200 | trn_loss: 0.0099 | val_loss: 0.0165\n"
     ]
    },
    {
     "name": "stderr",
     "output_type": "stream",
     "text": [
      "                                                  \r"
     ]
    },
    {
     "name": "stdout",
     "output_type": "stream",
     "text": [
      "epoch: 39/200 | trn_loss: 0.0097 | val_loss: 0.0168\n"
     ]
    },
    {
     "name": "stderr",
     "output_type": "stream",
     "text": [
      "                                                  \r"
     ]
    },
    {
     "name": "stdout",
     "output_type": "stream",
     "text": [
      "epoch: 40/200 | trn_loss: 0.0097 | val_loss: 0.0170\n"
     ]
    },
    {
     "name": "stderr",
     "output_type": "stream",
     "text": [
      "                                                  \r"
     ]
    },
    {
     "name": "stdout",
     "output_type": "stream",
     "text": [
      "epoch: 41/200 | trn_loss: 0.0098 | val_loss: 0.0170\n"
     ]
    },
    {
     "name": "stderr",
     "output_type": "stream",
     "text": [
      "                                                  \r"
     ]
    },
    {
     "name": "stdout",
     "output_type": "stream",
     "text": [
      "epoch: 42/200 | trn_loss: 0.0096 | val_loss: 0.0166\n"
     ]
    },
    {
     "name": "stderr",
     "output_type": "stream",
     "text": [
      "                                                  \r"
     ]
    },
    {
     "name": "stdout",
     "output_type": "stream",
     "text": [
      "epoch: 43/200 | trn_loss: 0.0095 | val_loss: 0.0167\n"
     ]
    },
    {
     "name": "stderr",
     "output_type": "stream",
     "text": [
      "                                                  \r"
     ]
    },
    {
     "name": "stdout",
     "output_type": "stream",
     "text": [
      "epoch: 44/200 | trn_loss: 0.0094 | val_loss: 0.0168\n"
     ]
    },
    {
     "name": "stderr",
     "output_type": "stream",
     "text": [
      "                                                  \r"
     ]
    },
    {
     "name": "stdout",
     "output_type": "stream",
     "text": [
      "epoch: 45/200 | trn_loss: 0.0094 | val_loss: 0.0172\n"
     ]
    },
    {
     "name": "stderr",
     "output_type": "stream",
     "text": [
      "                                                  \r"
     ]
    },
    {
     "name": "stdout",
     "output_type": "stream",
     "text": [
      "epoch: 46/200 | trn_loss: 0.0094 | val_loss: 0.0179\n"
     ]
    },
    {
     "name": "stderr",
     "output_type": "stream",
     "text": [
      "                                                  \r"
     ]
    },
    {
     "name": "stdout",
     "output_type": "stream",
     "text": [
      "epoch: 47/200 | trn_loss: 0.0094 | val_loss: 0.0178\n"
     ]
    },
    {
     "name": "stderr",
     "output_type": "stream",
     "text": [
      "                                                  \r"
     ]
    },
    {
     "name": "stdout",
     "output_type": "stream",
     "text": [
      "epoch: 48/200 | trn_loss: 0.0092 | val_loss: 0.0178\n"
     ]
    },
    {
     "name": "stderr",
     "output_type": "stream",
     "text": [
      "                                                  \r"
     ]
    },
    {
     "name": "stdout",
     "output_type": "stream",
     "text": [
      "epoch: 49/200 | trn_loss: 0.0092 | val_loss: 0.0167\n"
     ]
    },
    {
     "name": "stderr",
     "output_type": "stream",
     "text": [
      "                                                  \r"
     ]
    },
    {
     "name": "stdout",
     "output_type": "stream",
     "text": [
      "epoch: 50/200 | trn_loss: 0.0091 | val_loss: 0.0170\n"
     ]
    },
    {
     "name": "stderr",
     "output_type": "stream",
     "text": [
      "                                                  \r"
     ]
    },
    {
     "name": "stdout",
     "output_type": "stream",
     "text": [
      "epoch: 51/200 | trn_loss: 0.0091 | val_loss: 0.0172\n"
     ]
    },
    {
     "name": "stderr",
     "output_type": "stream",
     "text": [
      "                                                  \r"
     ]
    },
    {
     "name": "stdout",
     "output_type": "stream",
     "text": [
      "epoch: 52/200 | trn_loss: 0.0091 | val_loss: 0.0171\n"
     ]
    },
    {
     "name": "stderr",
     "output_type": "stream",
     "text": [
      "                                                  \r"
     ]
    },
    {
     "name": "stdout",
     "output_type": "stream",
     "text": [
      "epoch: 53/200 | trn_loss: 0.0090 | val_loss: 0.0175\n"
     ]
    },
    {
     "name": "stderr",
     "output_type": "stream",
     "text": [
      "                                                  \r"
     ]
    },
    {
     "name": "stdout",
     "output_type": "stream",
     "text": [
      "epoch: 54/200 | trn_loss: 0.0090 | val_loss: 0.0172\n"
     ]
    },
    {
     "name": "stderr",
     "output_type": "stream",
     "text": [
      "                                                  \r"
     ]
    },
    {
     "name": "stdout",
     "output_type": "stream",
     "text": [
      "epoch: 55/200 | trn_loss: 0.0089 | val_loss: 0.0172\n"
     ]
    },
    {
     "name": "stderr",
     "output_type": "stream",
     "text": [
      "                                                  \r"
     ]
    },
    {
     "name": "stdout",
     "output_type": "stream",
     "text": [
      "epoch: 56/200 | trn_loss: 0.0088 | val_loss: 0.0176\n"
     ]
    },
    {
     "name": "stderr",
     "output_type": "stream",
     "text": [
      "                                                  \r"
     ]
    },
    {
     "name": "stdout",
     "output_type": "stream",
     "text": [
      "epoch: 57/200 | trn_loss: 0.0088 | val_loss: 0.0171\n"
     ]
    },
    {
     "name": "stderr",
     "output_type": "stream",
     "text": [
      "                                                  \r"
     ]
    },
    {
     "name": "stdout",
     "output_type": "stream",
     "text": [
      "epoch: 58/200 | trn_loss: 0.0089 | val_loss: 0.0177\n"
     ]
    },
    {
     "name": "stderr",
     "output_type": "stream",
     "text": [
      "                                                  \r"
     ]
    },
    {
     "name": "stdout",
     "output_type": "stream",
     "text": [
      "epoch: 59/200 | trn_loss: 0.0086 | val_loss: 0.0171\n"
     ]
    },
    {
     "name": "stderr",
     "output_type": "stream",
     "text": [
      "                                                  \r"
     ]
    },
    {
     "name": "stdout",
     "output_type": "stream",
     "text": [
      "epoch: 60/200 | trn_loss: 0.0087 | val_loss: 0.0173\n"
     ]
    },
    {
     "name": "stderr",
     "output_type": "stream",
     "text": [
      "                                                  \r"
     ]
    },
    {
     "name": "stdout",
     "output_type": "stream",
     "text": [
      "epoch: 61/200 | trn_loss: 0.0086 | val_loss: 0.0174\n"
     ]
    },
    {
     "name": "stderr",
     "output_type": "stream",
     "text": [
      "                                                  \r"
     ]
    },
    {
     "name": "stdout",
     "output_type": "stream",
     "text": [
      "epoch: 62/200 | trn_loss: 0.0085 | val_loss: 0.0172\n"
     ]
    },
    {
     "name": "stderr",
     "output_type": "stream",
     "text": [
      "                                                  \r"
     ]
    },
    {
     "name": "stdout",
     "output_type": "stream",
     "text": [
      "epoch: 63/200 | trn_loss: 0.0087 | val_loss: 0.0178\n"
     ]
    },
    {
     "name": "stderr",
     "output_type": "stream",
     "text": [
      "                                                  \r"
     ]
    },
    {
     "name": "stdout",
     "output_type": "stream",
     "text": [
      "epoch: 64/200 | trn_loss: 0.0086 | val_loss: 0.0174\n"
     ]
    },
    {
     "name": "stderr",
     "output_type": "stream",
     "text": [
      "                                                  \r"
     ]
    },
    {
     "name": "stdout",
     "output_type": "stream",
     "text": [
      "epoch: 65/200 | trn_loss: 0.0084 | val_loss: 0.0173\n"
     ]
    },
    {
     "name": "stderr",
     "output_type": "stream",
     "text": [
      "                                                  \r"
     ]
    },
    {
     "name": "stdout",
     "output_type": "stream",
     "text": [
      "epoch: 66/200 | trn_loss: 0.0085 | val_loss: 0.0185\n"
     ]
    },
    {
     "name": "stderr",
     "output_type": "stream",
     "text": [
      "                                                  \r"
     ]
    },
    {
     "name": "stdout",
     "output_type": "stream",
     "text": [
      "epoch: 67/200 | trn_loss: 0.0084 | val_loss: 0.0174\n"
     ]
    },
    {
     "name": "stderr",
     "output_type": "stream",
     "text": [
      "                                                  \r"
     ]
    },
    {
     "name": "stdout",
     "output_type": "stream",
     "text": [
      "epoch: 68/200 | trn_loss: 0.0084 | val_loss: 0.0175\n"
     ]
    },
    {
     "name": "stderr",
     "output_type": "stream",
     "text": [
      "                                                  \r"
     ]
    },
    {
     "name": "stdout",
     "output_type": "stream",
     "text": [
      "epoch: 69/200 | trn_loss: 0.0085 | val_loss: 0.0175\n"
     ]
    },
    {
     "name": "stderr",
     "output_type": "stream",
     "text": [
      "                                                  \r"
     ]
    },
    {
     "name": "stdout",
     "output_type": "stream",
     "text": [
      "epoch: 70/200 | trn_loss: 0.0084 | val_loss: 0.0174\n"
     ]
    },
    {
     "name": "stderr",
     "output_type": "stream",
     "text": [
      "                                                  \r"
     ]
    },
    {
     "name": "stdout",
     "output_type": "stream",
     "text": [
      "epoch: 71/200 | trn_loss: 0.0082 | val_loss: 0.0176\n"
     ]
    },
    {
     "name": "stderr",
     "output_type": "stream",
     "text": [
      "                                                  \r"
     ]
    },
    {
     "name": "stdout",
     "output_type": "stream",
     "text": [
      "epoch: 72/200 | trn_loss: 0.0083 | val_loss: 0.0177\n"
     ]
    },
    {
     "name": "stderr",
     "output_type": "stream",
     "text": [
      "                                                  \r"
     ]
    },
    {
     "name": "stdout",
     "output_type": "stream",
     "text": [
      "epoch: 73/200 | trn_loss: 0.0082 | val_loss: 0.0170\n"
     ]
    },
    {
     "name": "stderr",
     "output_type": "stream",
     "text": [
      "                                                  \r"
     ]
    },
    {
     "name": "stdout",
     "output_type": "stream",
     "text": [
      "epoch: 74/200 | trn_loss: 0.0083 | val_loss: 0.0180\n"
     ]
    },
    {
     "name": "stderr",
     "output_type": "stream",
     "text": [
      "                                                  \r"
     ]
    },
    {
     "name": "stdout",
     "output_type": "stream",
     "text": [
      "epoch: 75/200 | trn_loss: 0.0083 | val_loss: 0.0173\n"
     ]
    },
    {
     "name": "stderr",
     "output_type": "stream",
     "text": [
      "                                                  \r"
     ]
    },
    {
     "name": "stdout",
     "output_type": "stream",
     "text": [
      "epoch: 76/200 | trn_loss: 0.0082 | val_loss: 0.0193\n"
     ]
    },
    {
     "name": "stderr",
     "output_type": "stream",
     "text": [
      "                                                  \r"
     ]
    },
    {
     "name": "stdout",
     "output_type": "stream",
     "text": [
      "epoch: 77/200 | trn_loss: 0.0080 | val_loss: 0.0184\n"
     ]
    },
    {
     "name": "stderr",
     "output_type": "stream",
     "text": [
      "                                                  \r"
     ]
    },
    {
     "name": "stdout",
     "output_type": "stream",
     "text": [
      "epoch: 78/200 | trn_loss: 0.0080 | val_loss: 0.0173\n"
     ]
    },
    {
     "name": "stderr",
     "output_type": "stream",
     "text": [
      "                                                  \r"
     ]
    },
    {
     "name": "stdout",
     "output_type": "stream",
     "text": [
      "epoch: 79/200 | trn_loss: 0.0080 | val_loss: 0.0183\n"
     ]
    },
    {
     "name": "stderr",
     "output_type": "stream",
     "text": [
      "                                                  \r"
     ]
    },
    {
     "name": "stdout",
     "output_type": "stream",
     "text": [
      "epoch: 80/200 | trn_loss: 0.0081 | val_loss: 0.0181\n"
     ]
    },
    {
     "name": "stderr",
     "output_type": "stream",
     "text": [
      "                                                  \r"
     ]
    },
    {
     "name": "stdout",
     "output_type": "stream",
     "text": [
      "epoch: 81/200 | trn_loss: 0.0078 | val_loss: 0.0183\n"
     ]
    },
    {
     "name": "stderr",
     "output_type": "stream",
     "text": [
      "                                                  \r"
     ]
    },
    {
     "name": "stdout",
     "output_type": "stream",
     "text": [
      "epoch: 82/200 | trn_loss: 0.0080 | val_loss: 0.0175\n"
     ]
    },
    {
     "name": "stderr",
     "output_type": "stream",
     "text": [
      "                                                  \r"
     ]
    },
    {
     "name": "stdout",
     "output_type": "stream",
     "text": [
      "epoch: 83/200 | trn_loss: 0.0079 | val_loss: 0.0179\n"
     ]
    },
    {
     "name": "stderr",
     "output_type": "stream",
     "text": [
      "                                                  \r"
     ]
    },
    {
     "name": "stdout",
     "output_type": "stream",
     "text": [
      "epoch: 84/200 | trn_loss: 0.0078 | val_loss: 0.0185\n"
     ]
    },
    {
     "name": "stderr",
     "output_type": "stream",
     "text": [
      "                                                  \r"
     ]
    },
    {
     "name": "stdout",
     "output_type": "stream",
     "text": [
      "epoch: 85/200 | trn_loss: 0.0077 | val_loss: 0.0179\n"
     ]
    },
    {
     "name": "stderr",
     "output_type": "stream",
     "text": [
      "                                                  \r"
     ]
    },
    {
     "name": "stdout",
     "output_type": "stream",
     "text": [
      "epoch: 86/200 | trn_loss: 0.0078 | val_loss: 0.0179\n"
     ]
    },
    {
     "name": "stderr",
     "output_type": "stream",
     "text": [
      "                                                  \r"
     ]
    },
    {
     "name": "stdout",
     "output_type": "stream",
     "text": [
      "epoch: 87/200 | trn_loss: 0.0078 | val_loss: 0.0182\n"
     ]
    },
    {
     "name": "stderr",
     "output_type": "stream",
     "text": [
      "                                                  \r"
     ]
    },
    {
     "name": "stdout",
     "output_type": "stream",
     "text": [
      "epoch: 88/200 | trn_loss: 0.0077 | val_loss: 0.0177\n"
     ]
    },
    {
     "name": "stderr",
     "output_type": "stream",
     "text": [
      "                                                  \r"
     ]
    },
    {
     "name": "stdout",
     "output_type": "stream",
     "text": [
      "epoch: 89/200 | trn_loss: 0.0076 | val_loss: 0.0182\n"
     ]
    },
    {
     "name": "stderr",
     "output_type": "stream",
     "text": [
      "                                                  \r"
     ]
    },
    {
     "name": "stdout",
     "output_type": "stream",
     "text": [
      "epoch: 90/200 | trn_loss: 0.0077 | val_loss: 0.0177\n"
     ]
    },
    {
     "name": "stderr",
     "output_type": "stream",
     "text": [
      "                                                  \r"
     ]
    },
    {
     "name": "stdout",
     "output_type": "stream",
     "text": [
      "epoch: 91/200 | trn_loss: 0.0077 | val_loss: 0.0190\n"
     ]
    },
    {
     "name": "stderr",
     "output_type": "stream",
     "text": [
      "                                                  \r"
     ]
    },
    {
     "name": "stdout",
     "output_type": "stream",
     "text": [
      "epoch: 92/200 | trn_loss: 0.0076 | val_loss: 0.0179\n"
     ]
    },
    {
     "name": "stderr",
     "output_type": "stream",
     "text": [
      "                                                  \r"
     ]
    },
    {
     "name": "stdout",
     "output_type": "stream",
     "text": [
      "epoch: 93/200 | trn_loss: 0.0076 | val_loss: 0.0176\n"
     ]
    },
    {
     "name": "stderr",
     "output_type": "stream",
     "text": [
      "                                                  \r"
     ]
    },
    {
     "name": "stdout",
     "output_type": "stream",
     "text": [
      "epoch: 94/200 | trn_loss: 0.0076 | val_loss: 0.0179\n"
     ]
    },
    {
     "name": "stderr",
     "output_type": "stream",
     "text": [
      "                                                  \r"
     ]
    },
    {
     "name": "stdout",
     "output_type": "stream",
     "text": [
      "epoch: 95/200 | trn_loss: 0.0077 | val_loss: 0.0182\n"
     ]
    },
    {
     "name": "stderr",
     "output_type": "stream",
     "text": [
      "                                                  \r"
     ]
    },
    {
     "name": "stdout",
     "output_type": "stream",
     "text": [
      "epoch: 96/200 | trn_loss: 0.0075 | val_loss: 0.0185\n"
     ]
    },
    {
     "name": "stderr",
     "output_type": "stream",
     "text": [
      "                                                  \r"
     ]
    },
    {
     "name": "stdout",
     "output_type": "stream",
     "text": [
      "epoch: 97/200 | trn_loss: 0.0074 | val_loss: 0.0179\n"
     ]
    },
    {
     "name": "stderr",
     "output_type": "stream",
     "text": [
      "                                                  \r"
     ]
    },
    {
     "name": "stdout",
     "output_type": "stream",
     "text": [
      "epoch: 98/200 | trn_loss: 0.0075 | val_loss: 0.0184\n"
     ]
    },
    {
     "name": "stderr",
     "output_type": "stream",
     "text": [
      "                                                  \r"
     ]
    },
    {
     "name": "stdout",
     "output_type": "stream",
     "text": [
      "epoch: 99/200 | trn_loss: 0.0074 | val_loss: 0.0193\n"
     ]
    },
    {
     "name": "stderr",
     "output_type": "stream",
     "text": [
      "                                                  \r"
     ]
    },
    {
     "name": "stdout",
     "output_type": "stream",
     "text": [
      "epoch: 100/200 | trn_loss: 0.0075 | val_loss: 0.0183\n"
     ]
    },
    {
     "name": "stderr",
     "output_type": "stream",
     "text": [
      "                                                  \r"
     ]
    },
    {
     "name": "stdout",
     "output_type": "stream",
     "text": [
      "epoch: 101/200 | trn_loss: 0.0074 | val_loss: 0.0180\n"
     ]
    },
    {
     "name": "stderr",
     "output_type": "stream",
     "text": [
      "                                                  \r"
     ]
    },
    {
     "name": "stdout",
     "output_type": "stream",
     "text": [
      "epoch: 102/200 | trn_loss: 0.0073 | val_loss: 0.0178\n"
     ]
    },
    {
     "name": "stderr",
     "output_type": "stream",
     "text": [
      "                                                  \r"
     ]
    },
    {
     "name": "stdout",
     "output_type": "stream",
     "text": [
      "epoch: 103/200 | trn_loss: 0.0073 | val_loss: 0.0177\n"
     ]
    },
    {
     "name": "stderr",
     "output_type": "stream",
     "text": [
      "                                                  \r"
     ]
    },
    {
     "name": "stdout",
     "output_type": "stream",
     "text": [
      "epoch: 104/200 | trn_loss: 0.0073 | val_loss: 0.0178\n"
     ]
    },
    {
     "name": "stderr",
     "output_type": "stream",
     "text": [
      "                                                  \r"
     ]
    },
    {
     "name": "stdout",
     "output_type": "stream",
     "text": [
      "epoch: 105/200 | trn_loss: 0.0073 | val_loss: 0.0182\n"
     ]
    },
    {
     "name": "stderr",
     "output_type": "stream",
     "text": [
      "                                                  \r"
     ]
    },
    {
     "name": "stdout",
     "output_type": "stream",
     "text": [
      "epoch: 106/200 | trn_loss: 0.0074 | val_loss: 0.0184\n"
     ]
    },
    {
     "name": "stderr",
     "output_type": "stream",
     "text": [
      "                                                  \r"
     ]
    },
    {
     "name": "stdout",
     "output_type": "stream",
     "text": [
      "epoch: 107/200 | trn_loss: 0.0072 | val_loss: 0.0181\n"
     ]
    },
    {
     "name": "stderr",
     "output_type": "stream",
     "text": [
      "                                                  \r"
     ]
    },
    {
     "name": "stdout",
     "output_type": "stream",
     "text": [
      "epoch: 108/200 | trn_loss: 0.0072 | val_loss: 0.0177\n"
     ]
    },
    {
     "name": "stderr",
     "output_type": "stream",
     "text": [
      "                                                  \r"
     ]
    },
    {
     "name": "stdout",
     "output_type": "stream",
     "text": [
      "epoch: 109/200 | trn_loss: 0.0072 | val_loss: 0.0190\n"
     ]
    },
    {
     "name": "stderr",
     "output_type": "stream",
     "text": [
      "                                                  \r"
     ]
    },
    {
     "name": "stdout",
     "output_type": "stream",
     "text": [
      "epoch: 110/200 | trn_loss: 0.0072 | val_loss: 0.0177\n"
     ]
    },
    {
     "name": "stderr",
     "output_type": "stream",
     "text": [
      "                                                  \r"
     ]
    },
    {
     "name": "stdout",
     "output_type": "stream",
     "text": [
      "epoch: 111/200 | trn_loss: 0.0072 | val_loss: 0.0190\n"
     ]
    },
    {
     "name": "stderr",
     "output_type": "stream",
     "text": [
      "                                                  \r"
     ]
    },
    {
     "name": "stdout",
     "output_type": "stream",
     "text": [
      "epoch: 112/200 | trn_loss: 0.0070 | val_loss: 0.0183\n"
     ]
    },
    {
     "name": "stderr",
     "output_type": "stream",
     "text": [
      "                                                  \r"
     ]
    },
    {
     "name": "stdout",
     "output_type": "stream",
     "text": [
      "epoch: 113/200 | trn_loss: 0.0071 | val_loss: 0.0178\n"
     ]
    },
    {
     "name": "stderr",
     "output_type": "stream",
     "text": [
      "                                                  \r"
     ]
    },
    {
     "name": "stdout",
     "output_type": "stream",
     "text": [
      "epoch: 114/200 | trn_loss: 0.0072 | val_loss: 0.0191\n"
     ]
    },
    {
     "name": "stderr",
     "output_type": "stream",
     "text": [
      "                                                  \r"
     ]
    },
    {
     "name": "stdout",
     "output_type": "stream",
     "text": [
      "epoch: 115/200 | trn_loss: 0.0070 | val_loss: 0.0178\n"
     ]
    },
    {
     "name": "stderr",
     "output_type": "stream",
     "text": [
      "                                                  \r"
     ]
    },
    {
     "name": "stdout",
     "output_type": "stream",
     "text": [
      "epoch: 116/200 | trn_loss: 0.0071 | val_loss: 0.0180\n"
     ]
    },
    {
     "name": "stderr",
     "output_type": "stream",
     "text": [
      "                                                  \r"
     ]
    },
    {
     "name": "stdout",
     "output_type": "stream",
     "text": [
      "epoch: 117/200 | trn_loss: 0.0070 | val_loss: 0.0185\n"
     ]
    },
    {
     "name": "stderr",
     "output_type": "stream",
     "text": [
      "                                                  \r"
     ]
    },
    {
     "name": "stdout",
     "output_type": "stream",
     "text": [
      "epoch: 118/200 | trn_loss: 0.0070 | val_loss: 0.0177\n"
     ]
    },
    {
     "name": "stderr",
     "output_type": "stream",
     "text": [
      "                                                  \r"
     ]
    },
    {
     "name": "stdout",
     "output_type": "stream",
     "text": [
      "epoch: 119/200 | trn_loss: 0.0071 | val_loss: 0.0180\n"
     ]
    },
    {
     "name": "stderr",
     "output_type": "stream",
     "text": [
      "                                                  \r"
     ]
    },
    {
     "name": "stdout",
     "output_type": "stream",
     "text": [
      "epoch: 120/200 | trn_loss: 0.0069 | val_loss: 0.0181\n"
     ]
    },
    {
     "name": "stderr",
     "output_type": "stream",
     "text": [
      "                                                  \r"
     ]
    },
    {
     "name": "stdout",
     "output_type": "stream",
     "text": [
      "epoch: 121/200 | trn_loss: 0.0070 | val_loss: 0.0181\n"
     ]
    },
    {
     "name": "stderr",
     "output_type": "stream",
     "text": [
      "                                                  \r"
     ]
    },
    {
     "name": "stdout",
     "output_type": "stream",
     "text": [
      "epoch: 122/200 | trn_loss: 0.0069 | val_loss: 0.0192\n"
     ]
    },
    {
     "name": "stderr",
     "output_type": "stream",
     "text": [
      "                                                  \r"
     ]
    },
    {
     "name": "stdout",
     "output_type": "stream",
     "text": [
      "epoch: 123/200 | trn_loss: 0.0070 | val_loss: 0.0182\n"
     ]
    },
    {
     "name": "stderr",
     "output_type": "stream",
     "text": [
      "                                                  \r"
     ]
    },
    {
     "name": "stdout",
     "output_type": "stream",
     "text": [
      "epoch: 124/200 | trn_loss: 0.0069 | val_loss: 0.0180\n"
     ]
    },
    {
     "name": "stderr",
     "output_type": "stream",
     "text": [
      "                                                  \r"
     ]
    },
    {
     "name": "stdout",
     "output_type": "stream",
     "text": [
      "epoch: 125/200 | trn_loss: 0.0069 | val_loss: 0.0178\n"
     ]
    },
    {
     "name": "stderr",
     "output_type": "stream",
     "text": [
      "                                                  \r"
     ]
    },
    {
     "name": "stdout",
     "output_type": "stream",
     "text": [
      "epoch: 126/200 | trn_loss: 0.0068 | val_loss: 0.0187\n"
     ]
    },
    {
     "name": "stderr",
     "output_type": "stream",
     "text": [
      "                                                  \r"
     ]
    },
    {
     "name": "stdout",
     "output_type": "stream",
     "text": [
      "epoch: 127/200 | trn_loss: 0.0068 | val_loss: 0.0188\n"
     ]
    },
    {
     "name": "stderr",
     "output_type": "stream",
     "text": [
      "                                                  \r"
     ]
    },
    {
     "name": "stdout",
     "output_type": "stream",
     "text": [
      "epoch: 128/200 | trn_loss: 0.0068 | val_loss: 0.0186\n"
     ]
    },
    {
     "name": "stderr",
     "output_type": "stream",
     "text": [
      "                                                  \r"
     ]
    },
    {
     "name": "stdout",
     "output_type": "stream",
     "text": [
      "epoch: 129/200 | trn_loss: 0.0069 | val_loss: 0.0179\n"
     ]
    },
    {
     "name": "stderr",
     "output_type": "stream",
     "text": [
      "                                                  \r"
     ]
    },
    {
     "name": "stdout",
     "output_type": "stream",
     "text": [
      "epoch: 130/200 | trn_loss: 0.0067 | val_loss: 0.0182\n"
     ]
    },
    {
     "name": "stderr",
     "output_type": "stream",
     "text": [
      "                                                  \r"
     ]
    },
    {
     "name": "stdout",
     "output_type": "stream",
     "text": [
      "epoch: 131/200 | trn_loss: 0.0067 | val_loss: 0.0182\n"
     ]
    },
    {
     "name": "stderr",
     "output_type": "stream",
     "text": [
      "                                                  \r"
     ]
    },
    {
     "name": "stdout",
     "output_type": "stream",
     "text": [
      "epoch: 132/200 | trn_loss: 0.0067 | val_loss: 0.0186\n"
     ]
    },
    {
     "name": "stderr",
     "output_type": "stream",
     "text": [
      "                                                  \r"
     ]
    },
    {
     "name": "stdout",
     "output_type": "stream",
     "text": [
      "epoch: 133/200 | trn_loss: 0.0068 | val_loss: 0.0189\n"
     ]
    },
    {
     "name": "stderr",
     "output_type": "stream",
     "text": [
      "                                                  \r"
     ]
    },
    {
     "name": "stdout",
     "output_type": "stream",
     "text": [
      "epoch: 134/200 | trn_loss: 0.0066 | val_loss: 0.0184\n"
     ]
    },
    {
     "name": "stderr",
     "output_type": "stream",
     "text": [
      "                                                  \r"
     ]
    },
    {
     "name": "stdout",
     "output_type": "stream",
     "text": [
      "epoch: 135/200 | trn_loss: 0.0066 | val_loss: 0.0184\n"
     ]
    },
    {
     "name": "stderr",
     "output_type": "stream",
     "text": [
      "                                                  \r"
     ]
    },
    {
     "name": "stdout",
     "output_type": "stream",
     "text": [
      "epoch: 136/200 | trn_loss: 0.0067 | val_loss: 0.0184\n"
     ]
    },
    {
     "name": "stderr",
     "output_type": "stream",
     "text": [
      "                                                  \r"
     ]
    },
    {
     "name": "stdout",
     "output_type": "stream",
     "text": [
      "epoch: 137/200 | trn_loss: 0.0066 | val_loss: 0.0181\n"
     ]
    },
    {
     "name": "stderr",
     "output_type": "stream",
     "text": [
      "                                                  \r"
     ]
    },
    {
     "name": "stdout",
     "output_type": "stream",
     "text": [
      "epoch: 138/200 | trn_loss: 0.0067 | val_loss: 0.0188\n"
     ]
    },
    {
     "name": "stderr",
     "output_type": "stream",
     "text": [
      "                                                  \r"
     ]
    },
    {
     "name": "stdout",
     "output_type": "stream",
     "text": [
      "epoch: 139/200 | trn_loss: 0.0065 | val_loss: 0.0184\n"
     ]
    },
    {
     "name": "stderr",
     "output_type": "stream",
     "text": [
      "                                                  \r"
     ]
    },
    {
     "name": "stdout",
     "output_type": "stream",
     "text": [
      "epoch: 140/200 | trn_loss: 0.0066 | val_loss: 0.0187\n"
     ]
    },
    {
     "name": "stderr",
     "output_type": "stream",
     "text": [
      "                                                  \r"
     ]
    },
    {
     "name": "stdout",
     "output_type": "stream",
     "text": [
      "epoch: 141/200 | trn_loss: 0.0065 | val_loss: 0.0188\n"
     ]
    },
    {
     "name": "stderr",
     "output_type": "stream",
     "text": [
      "                                                  \r"
     ]
    },
    {
     "name": "stdout",
     "output_type": "stream",
     "text": [
      "epoch: 142/200 | trn_loss: 0.0065 | val_loss: 0.0185\n"
     ]
    },
    {
     "name": "stderr",
     "output_type": "stream",
     "text": [
      "                                                  \r"
     ]
    },
    {
     "name": "stdout",
     "output_type": "stream",
     "text": [
      "epoch: 143/200 | trn_loss: 0.0066 | val_loss: 0.0185\n"
     ]
    },
    {
     "name": "stderr",
     "output_type": "stream",
     "text": [
      "                                                  \r"
     ]
    },
    {
     "name": "stdout",
     "output_type": "stream",
     "text": [
      "epoch: 144/200 | trn_loss: 0.0065 | val_loss: 0.0186\n"
     ]
    },
    {
     "name": "stderr",
     "output_type": "stream",
     "text": [
      "                                                  \r"
     ]
    },
    {
     "name": "stdout",
     "output_type": "stream",
     "text": [
      "epoch: 145/200 | trn_loss: 0.0065 | val_loss: 0.0189\n"
     ]
    },
    {
     "name": "stderr",
     "output_type": "stream",
     "text": [
      "                                                  \r"
     ]
    },
    {
     "name": "stdout",
     "output_type": "stream",
     "text": [
      "epoch: 146/200 | trn_loss: 0.0064 | val_loss: 0.0189\n"
     ]
    },
    {
     "name": "stderr",
     "output_type": "stream",
     "text": [
      "                                                  \r"
     ]
    },
    {
     "name": "stdout",
     "output_type": "stream",
     "text": [
      "epoch: 147/200 | trn_loss: 0.0064 | val_loss: 0.0190\n"
     ]
    },
    {
     "name": "stderr",
     "output_type": "stream",
     "text": [
      "                                                  \r"
     ]
    },
    {
     "name": "stdout",
     "output_type": "stream",
     "text": [
      "epoch: 148/200 | trn_loss: 0.0064 | val_loss: 0.0183\n"
     ]
    },
    {
     "name": "stderr",
     "output_type": "stream",
     "text": [
      "                                                  \r"
     ]
    },
    {
     "name": "stdout",
     "output_type": "stream",
     "text": [
      "epoch: 149/200 | trn_loss: 0.0064 | val_loss: 0.0186\n"
     ]
    },
    {
     "name": "stderr",
     "output_type": "stream",
     "text": [
      "                                                  \r"
     ]
    },
    {
     "name": "stdout",
     "output_type": "stream",
     "text": [
      "epoch: 150/200 | trn_loss: 0.0065 | val_loss: 0.0184\n"
     ]
    },
    {
     "name": "stderr",
     "output_type": "stream",
     "text": [
      "                                                  \r"
     ]
    },
    {
     "name": "stdout",
     "output_type": "stream",
     "text": [
      "epoch: 151/200 | trn_loss: 0.0064 | val_loss: 0.0185\n"
     ]
    },
    {
     "name": "stderr",
     "output_type": "stream",
     "text": [
      "                                                  \r"
     ]
    },
    {
     "name": "stdout",
     "output_type": "stream",
     "text": [
      "epoch: 152/200 | trn_loss: 0.0063 | val_loss: 0.0197\n"
     ]
    },
    {
     "name": "stderr",
     "output_type": "stream",
     "text": [
      "                                                  \r"
     ]
    },
    {
     "name": "stdout",
     "output_type": "stream",
     "text": [
      "epoch: 153/200 | trn_loss: 0.0063 | val_loss: 0.0189\n"
     ]
    },
    {
     "name": "stderr",
     "output_type": "stream",
     "text": [
      "                                                  \r"
     ]
    },
    {
     "name": "stdout",
     "output_type": "stream",
     "text": [
      "epoch: 154/200 | trn_loss: 0.0063 | val_loss: 0.0190\n"
     ]
    },
    {
     "name": "stderr",
     "output_type": "stream",
     "text": [
      "                                                  \r"
     ]
    },
    {
     "name": "stdout",
     "output_type": "stream",
     "text": [
      "epoch: 155/200 | trn_loss: 0.0063 | val_loss: 0.0190\n"
     ]
    },
    {
     "name": "stderr",
     "output_type": "stream",
     "text": [
      "                                                  \r"
     ]
    },
    {
     "name": "stdout",
     "output_type": "stream",
     "text": [
      "epoch: 156/200 | trn_loss: 0.0064 | val_loss: 0.0193\n"
     ]
    },
    {
     "name": "stderr",
     "output_type": "stream",
     "text": [
      "                                                  \r"
     ]
    },
    {
     "name": "stdout",
     "output_type": "stream",
     "text": [
      "epoch: 157/200 | trn_loss: 0.0063 | val_loss: 0.0185\n"
     ]
    },
    {
     "name": "stderr",
     "output_type": "stream",
     "text": [
      "                                                  \r"
     ]
    },
    {
     "name": "stdout",
     "output_type": "stream",
     "text": [
      "epoch: 158/200 | trn_loss: 0.0064 | val_loss: 0.0188\n"
     ]
    },
    {
     "name": "stderr",
     "output_type": "stream",
     "text": [
      "                                                  \r"
     ]
    },
    {
     "name": "stdout",
     "output_type": "stream",
     "text": [
      "epoch: 159/200 | trn_loss: 0.0062 | val_loss: 0.0189\n"
     ]
    },
    {
     "name": "stderr",
     "output_type": "stream",
     "text": [
      "                                                  \r"
     ]
    },
    {
     "name": "stdout",
     "output_type": "stream",
     "text": [
      "epoch: 160/200 | trn_loss: 0.0062 | val_loss: 0.0187\n"
     ]
    },
    {
     "name": "stderr",
     "output_type": "stream",
     "text": [
      "                                                  \r"
     ]
    },
    {
     "name": "stdout",
     "output_type": "stream",
     "text": [
      "epoch: 161/200 | trn_loss: 0.0062 | val_loss: 0.0187\n"
     ]
    },
    {
     "name": "stderr",
     "output_type": "stream",
     "text": [
      "                                                  \r"
     ]
    },
    {
     "name": "stdout",
     "output_type": "stream",
     "text": [
      "epoch: 162/200 | trn_loss: 0.0061 | val_loss: 0.0193\n"
     ]
    },
    {
     "name": "stderr",
     "output_type": "stream",
     "text": [
      "                                                  \r"
     ]
    },
    {
     "name": "stdout",
     "output_type": "stream",
     "text": [
      "epoch: 163/200 | trn_loss: 0.0062 | val_loss: 0.0188\n"
     ]
    },
    {
     "name": "stderr",
     "output_type": "stream",
     "text": [
      "                                                  \r"
     ]
    },
    {
     "name": "stdout",
     "output_type": "stream",
     "text": [
      "epoch: 164/200 | trn_loss: 0.0062 | val_loss: 0.0187\n"
     ]
    },
    {
     "name": "stderr",
     "output_type": "stream",
     "text": [
      "                                                  \r"
     ]
    },
    {
     "name": "stdout",
     "output_type": "stream",
     "text": [
      "epoch: 165/200 | trn_loss: 0.0061 | val_loss: 0.0187\n"
     ]
    },
    {
     "name": "stderr",
     "output_type": "stream",
     "text": [
      "                                                  \r"
     ]
    },
    {
     "name": "stdout",
     "output_type": "stream",
     "text": [
      "epoch: 166/200 | trn_loss: 0.0062 | val_loss: 0.0200\n"
     ]
    },
    {
     "name": "stderr",
     "output_type": "stream",
     "text": [
      "                                                  \r"
     ]
    },
    {
     "name": "stdout",
     "output_type": "stream",
     "text": [
      "epoch: 167/200 | trn_loss: 0.0060 | val_loss: 0.0187\n"
     ]
    },
    {
     "name": "stderr",
     "output_type": "stream",
     "text": [
      "                                                  \r"
     ]
    },
    {
     "name": "stdout",
     "output_type": "stream",
     "text": [
      "epoch: 168/200 | trn_loss: 0.0062 | val_loss: 0.0189\n"
     ]
    },
    {
     "name": "stderr",
     "output_type": "stream",
     "text": [
      "                                                  \r"
     ]
    },
    {
     "name": "stdout",
     "output_type": "stream",
     "text": [
      "epoch: 169/200 | trn_loss: 0.0062 | val_loss: 0.0191\n"
     ]
    },
    {
     "name": "stderr",
     "output_type": "stream",
     "text": [
      "                                                  \r"
     ]
    },
    {
     "name": "stdout",
     "output_type": "stream",
     "text": [
      "epoch: 170/200 | trn_loss: 0.0060 | val_loss: 0.0190\n"
     ]
    },
    {
     "name": "stderr",
     "output_type": "stream",
     "text": [
      "                                                  \r"
     ]
    },
    {
     "name": "stdout",
     "output_type": "stream",
     "text": [
      "epoch: 171/200 | trn_loss: 0.0061 | val_loss: 0.0194\n"
     ]
    },
    {
     "name": "stderr",
     "output_type": "stream",
     "text": [
      "                                                  \r"
     ]
    },
    {
     "name": "stdout",
     "output_type": "stream",
     "text": [
      "epoch: 172/200 | trn_loss: 0.0060 | val_loss: 0.0190\n"
     ]
    },
    {
     "name": "stderr",
     "output_type": "stream",
     "text": [
      "                                                  \r"
     ]
    },
    {
     "name": "stdout",
     "output_type": "stream",
     "text": [
      "epoch: 173/200 | trn_loss: 0.0061 | val_loss: 0.0191\n"
     ]
    },
    {
     "name": "stderr",
     "output_type": "stream",
     "text": [
      "                                                  \r"
     ]
    },
    {
     "name": "stdout",
     "output_type": "stream",
     "text": [
      "epoch: 174/200 | trn_loss: 0.0060 | val_loss: 0.0190\n"
     ]
    },
    {
     "name": "stderr",
     "output_type": "stream",
     "text": [
      "                                                  \r"
     ]
    },
    {
     "name": "stdout",
     "output_type": "stream",
     "text": [
      "epoch: 175/200 | trn_loss: 0.0060 | val_loss: 0.0194\n"
     ]
    },
    {
     "name": "stderr",
     "output_type": "stream",
     "text": [
      "                                                  \r"
     ]
    },
    {
     "name": "stdout",
     "output_type": "stream",
     "text": [
      "epoch: 176/200 | trn_loss: 0.0061 | val_loss: 0.0191\n"
     ]
    },
    {
     "name": "stderr",
     "output_type": "stream",
     "text": [
      "                                                  \r"
     ]
    },
    {
     "name": "stdout",
     "output_type": "stream",
     "text": [
      "epoch: 177/200 | trn_loss: 0.0060 | val_loss: 0.0195\n"
     ]
    },
    {
     "name": "stderr",
     "output_type": "stream",
     "text": [
      "                                                  \r"
     ]
    },
    {
     "name": "stdout",
     "output_type": "stream",
     "text": [
      "epoch: 178/200 | trn_loss: 0.0059 | val_loss: 0.0189\n"
     ]
    },
    {
     "name": "stderr",
     "output_type": "stream",
     "text": [
      "                                                  \r"
     ]
    },
    {
     "name": "stdout",
     "output_type": "stream",
     "text": [
      "epoch: 179/200 | trn_loss: 0.0059 | val_loss: 0.0196\n"
     ]
    },
    {
     "name": "stderr",
     "output_type": "stream",
     "text": [
      "                                                  \r"
     ]
    },
    {
     "name": "stdout",
     "output_type": "stream",
     "text": [
      "epoch: 180/200 | trn_loss: 0.0060 | val_loss: 0.0194\n"
     ]
    },
    {
     "name": "stderr",
     "output_type": "stream",
     "text": [
      "                                                  \r"
     ]
    },
    {
     "name": "stdout",
     "output_type": "stream",
     "text": [
      "epoch: 181/200 | trn_loss: 0.0059 | val_loss: 0.0196\n"
     ]
    },
    {
     "name": "stderr",
     "output_type": "stream",
     "text": [
      "                                                  \r"
     ]
    },
    {
     "name": "stdout",
     "output_type": "stream",
     "text": [
      "epoch: 182/200 | trn_loss: 0.0060 | val_loss: 0.0201\n"
     ]
    },
    {
     "name": "stderr",
     "output_type": "stream",
     "text": [
      "                                                  \r"
     ]
    },
    {
     "name": "stdout",
     "output_type": "stream",
     "text": [
      "epoch: 183/200 | trn_loss: 0.0060 | val_loss: 0.0193\n"
     ]
    },
    {
     "name": "stderr",
     "output_type": "stream",
     "text": [
      "                                                  \r"
     ]
    },
    {
     "name": "stdout",
     "output_type": "stream",
     "text": [
      "epoch: 184/200 | trn_loss: 0.0059 | val_loss: 0.0192\n"
     ]
    },
    {
     "name": "stderr",
     "output_type": "stream",
     "text": [
      "                                                  \r"
     ]
    },
    {
     "name": "stdout",
     "output_type": "stream",
     "text": [
      "epoch: 185/200 | trn_loss: 0.0059 | val_loss: 0.0192\n"
     ]
    },
    {
     "name": "stderr",
     "output_type": "stream",
     "text": [
      "                                                  \r"
     ]
    },
    {
     "name": "stdout",
     "output_type": "stream",
     "text": [
      "epoch: 186/200 | trn_loss: 0.0058 | val_loss: 0.0195\n"
     ]
    },
    {
     "name": "stderr",
     "output_type": "stream",
     "text": [
      "                                                  \r"
     ]
    },
    {
     "name": "stdout",
     "output_type": "stream",
     "text": [
      "epoch: 187/200 | trn_loss: 0.0060 | val_loss: 0.0192\n"
     ]
    },
    {
     "name": "stderr",
     "output_type": "stream",
     "text": [
      "                                                  \r"
     ]
    },
    {
     "name": "stdout",
     "output_type": "stream",
     "text": [
      "epoch: 188/200 | trn_loss: 0.0058 | val_loss: 0.0192\n"
     ]
    },
    {
     "name": "stderr",
     "output_type": "stream",
     "text": [
      "                                                  \r"
     ]
    },
    {
     "name": "stdout",
     "output_type": "stream",
     "text": [
      "epoch: 189/200 | trn_loss: 0.0059 | val_loss: 0.0195\n"
     ]
    },
    {
     "name": "stderr",
     "output_type": "stream",
     "text": [
      "                                                  \r"
     ]
    },
    {
     "name": "stdout",
     "output_type": "stream",
     "text": [
      "epoch: 190/200 | trn_loss: 0.0057 | val_loss: 0.0196\n"
     ]
    },
    {
     "name": "stderr",
     "output_type": "stream",
     "text": [
      "                                                  \r"
     ]
    },
    {
     "name": "stdout",
     "output_type": "stream",
     "text": [
      "epoch: 191/200 | trn_loss: 0.0058 | val_loss: 0.0193\n"
     ]
    },
    {
     "name": "stderr",
     "output_type": "stream",
     "text": [
      "                                                  \r"
     ]
    },
    {
     "name": "stdout",
     "output_type": "stream",
     "text": [
      "epoch: 192/200 | trn_loss: 0.0059 | val_loss: 0.0194\n"
     ]
    },
    {
     "name": "stderr",
     "output_type": "stream",
     "text": [
      "                                                  \r"
     ]
    },
    {
     "name": "stdout",
     "output_type": "stream",
     "text": [
      "epoch: 193/200 | trn_loss: 0.0058 | val_loss: 0.0199\n"
     ]
    },
    {
     "name": "stderr",
     "output_type": "stream",
     "text": [
      "                                                  \r"
     ]
    },
    {
     "name": "stdout",
     "output_type": "stream",
     "text": [
      "epoch: 194/200 | trn_loss: 0.0057 | val_loss: 0.0196\n"
     ]
    },
    {
     "name": "stderr",
     "output_type": "stream",
     "text": [
      "                                                  \r"
     ]
    },
    {
     "name": "stdout",
     "output_type": "stream",
     "text": [
      "epoch: 195/200 | trn_loss: 0.0059 | val_loss: 0.0193\n"
     ]
    },
    {
     "name": "stderr",
     "output_type": "stream",
     "text": [
      "                                                  \r"
     ]
    },
    {
     "name": "stdout",
     "output_type": "stream",
     "text": [
      "epoch: 196/200 | trn_loss: 0.0056 | val_loss: 0.0196\n"
     ]
    },
    {
     "name": "stderr",
     "output_type": "stream",
     "text": [
      "                                                  \r"
     ]
    },
    {
     "name": "stdout",
     "output_type": "stream",
     "text": [
      "epoch: 197/200 | trn_loss: 0.0057 | val_loss: 0.0193\n"
     ]
    },
    {
     "name": "stderr",
     "output_type": "stream",
     "text": [
      "                                                  \r"
     ]
    },
    {
     "name": "stdout",
     "output_type": "stream",
     "text": [
      "epoch: 198/200 | trn_loss: 0.0058 | val_loss: 0.0194\n"
     ]
    },
    {
     "name": "stderr",
     "output_type": "stream",
     "text": [
      "                                                  \r"
     ]
    },
    {
     "name": "stdout",
     "output_type": "stream",
     "text": [
      "epoch: 199/200 | trn_loss: 0.0057 | val_loss: 0.0199\n"
     ]
    },
    {
     "name": "stderr",
     "output_type": "stream",
     "text": [
      "                                                  "
     ]
    },
    {
     "name": "stdout",
     "output_type": "stream",
     "text": [
      "epoch: 200/200 | trn_loss: 0.0057 | val_loss: 0.0194\n"
     ]
    },
    {
     "name": "stderr",
     "output_type": "stream",
     "text": [
      "\r"
     ]
    }
   ],
   "source": [
    "train_loss_list = []\n",
    "valid_loss_list = []\n",
    "    \n",
    "for epoch in range(0, num_epoch+1):\n",
    "    model = model.train()\n",
    "\n",
    "    train_loss = []\n",
    "    for (x, y) in tqdm(train_loader, leave=False):\n",
    "        x = x.to(device)\n",
    "        y = y.to(device)\n",
    "        \n",
    "        optimizer.zero_grad()\n",
    "        outputs = model(x)\n",
    "\n",
    "        loss = torch.sqrt(criterion(outputs.squeeze(), y.squeeze()))\n",
    "        \n",
    "        loss.backward()\n",
    "        optimizer.step()\n",
    "        \n",
    "        train_loss.append(loss.item())\n",
    "\n",
    "    train_loss = np.mean(train_loss)\n",
    "    \n",
    "    model = model.eval()\n",
    "    predictions = []\n",
    "    answers = []\n",
    "    valid_loss = []\n",
    "    with torch.no_grad():\n",
    "        for (x, y) in tqdm(valid_loader, leave=False):\n",
    "            x = x.to(device)\n",
    "            y = y.to(device)\n",
    "            answers.extend(y.detach().cpu().numpy())\n",
    "\n",
    "            outputs = model(x)\n",
    "\n",
    "            loss = torch.sqrt(criterion(outputs.squeeze(), y.squeeze()))\n",
    "        \n",
    "            predictions.extend(outputs.squeeze().detach().cpu().numpy())\n",
    "            valid_loss.append(loss.item())    \n",
    "\n",
    "    valid_loss = np.mean(valid_loss)\n",
    "    \n",
    "    print(\"epoch: {}/{} | trn_loss: {:.4f} | val_loss: {:.4f}\".format(\n",
    "                epoch, num_epoch, train_loss, valid_loss\n",
    "            ))\n",
    "    train_loss_list.append(train_loss)\n",
    "    valid_loss_list.append(valid_loss)\n",
    "    \n",
    "    \"\"\"\n",
    "    if epoch % 20 ==0 :       \n",
    "        torch.save({\n",
    "            'epoch': epoch,\n",
    "            'loss': valid_loss_list[-1],\n",
    "            'model_state_dict' : model.state_dict(),\n",
    "            'optimizer_state_dict' : optimizer.state_dict(),\n",
    "            'criterion' : criterion\n",
    "        }, result_folder + f'cnn-swcapsule-pred-stock-best.pt')s\n",
    "    \"\"\"\n",
    "    \n",
    "    if (epoch==0) or (epoch>0 and (min(valid_loss_list[:-1])>valid_loss_list[-1])):\n",
    "        torch.save({\n",
    "            'epoch': epoch,\n",
    "            'loss': valid_loss_list[-1],\n",
    "            'model_state_dict' : model.state_dict(),\n",
    "            'optimizer_state_dict' : optimizer.state_dict(),\n",
    "            'criterion' : criterion\n",
    "        }, result_folder + f'cnn-swcapsule-pred-stock-best.pt')"
   ]
  },
  {
   "cell_type": "code",
   "execution_count": 18,
   "metadata": {},
   "outputs": [
    {
     "data": {
      "image/png": "[encoded data removed]",
      "text/plain": [
       "<Figure size 1440x360 with 2 Axes>"
      ]
     },
     "metadata": {
      "needs_background": "light"
     },
     "output_type": "display_data"
    }
   ],
   "source": [
    "fig, ax = plt.subplots(1,2,figsize=(20,5))\n",
    "\n",
    "ax0 = ax[0]\n",
    "ax0.plot(train_loss_list, c= 'blue')\n",
    "ax0.plot(valid_loss_list, c='red')\n",
    "\n",
    "ax1 = ax[1]\n",
    "ax1.plot(valid_loss_list, c='red', marker='o')\n",
    "\n",
    "fig.suptitle(\"Loss\", fontsize=15)\n",
    "plt.savefig(result_folder+'cnn_loss.png')"
   ]
  },
  {
   "cell_type": "code",
   "execution_count": 19,
   "metadata": {},
   "outputs": [],
   "source": [
    "pd.DataFrame([train_loss_list, valid_loss_list]).to_csv(result_folder + 'cnn_loss.csv', index=0)"
   ]
  },
  {
   "cell_type": "markdown",
   "metadata": {},
   "source": [
    "### Performance Evaluation"
   ]
  },
  {
   "cell_type": "code",
   "execution_count": 20,
   "metadata": {},
   "outputs": [
    {
     "name": "stdout",
     "output_type": "stream",
     "text": [
      "11 0.014996228644908485\n"
     ]
    }
   ],
   "source": [
    "checkpoint = torch.load(result_folder + 'cnn-swcapsule-pred-stock-best.pt')\n",
    "model.load_state_dict(checkpoint['model_state_dict'])\n",
    "optimizer.load_state_dict(checkpoint['optimizer_state_dict'])\n",
    "criterion = checkpoint['criterion']\n",
    "print(checkpoint['epoch'], checkpoint['loss'])"
   ]
  },
  {
   "cell_type": "code",
   "execution_count": 21,
   "metadata": {
    "scrolled": true
   },
   "outputs": [
    {
     "name": "stderr",
     "output_type": "stream",
     "text": [
      "                                                "
     ]
    },
    {
     "name": "stdout",
     "output_type": "stream",
     "text": [
      "test loss: 0.012596161631138428\n"
     ]
    },
    {
     "name": "stderr",
     "output_type": "stream",
     "text": [
      "\r"
     ]
    }
   ],
   "source": [
    "model = model.eval()\n",
    "test_loss = []\n",
    "answers = []\n",
    "predictions = []\n",
    "\n",
    "with torch.no_grad():\n",
    "    for (x, y) in tqdm(test_loader, leave=False):\n",
    "        x = x.to(device)\n",
    "        y = y.to(device)\n",
    "\n",
    "        outputs = model(x)\n",
    "        \n",
    "        loss = torch.sqrt(criterion(outputs.squeeze(), y.squeeze()))\n",
    "        \n",
    "        answers.extend((y.squeeze()).squeeze().detach().cpu().numpy())\n",
    "        predictions.extend((outputs.squeeze()).squeeze().detach().cpu().numpy())\n",
    "        test_loss.append(loss.item())  \n",
    "        \n",
    "test_loss = np.mean(test_loss)\n",
    "print(f'test loss: {test_loss}')"
   ]
  },
  {
   "cell_type": "code",
   "execution_count": 23,
   "metadata": {},
   "outputs": [
    {
     "name": "stdout",
     "output_type": "stream",
     "text": [
      "(2928, 24) (2928, 24) (2989, 24)\n"
     ]
    }
   ],
   "source": [
    "answers = pd.DataFrame(answers)\n",
    "answers = pd.concat([answers, test_sc.iloc[61:, 1:].reset_index(drop=True)], axis=1)\n",
    "predictions = pd.DataFrame(predictions)\n",
    "predictions = pd.concat([predictions, test_sc.iloc[61:, 1:].reset_index(drop=True)], axis=1)\n",
    "print(answers.shape, predictions.shape, test_sc.shape)\n",
    "\n",
    "result_ans = pd.DataFrame(sc.inverse_transform(answers), columns = test_sc.columns)\n",
    "result_pred= pd.DataFrame(sc.inverse_transform(predictions), columns = test_sc.columns)\n",
    "\n",
    "\n",
    "result_ans.to_csv(result_folder + 'result_ans.csv')\n",
    "result_pred.to_csv(result_folder + 'result_pred.csv')"
   ]
  },
  {
   "cell_type": "code",
   "execution_count": 24,
   "metadata": {},
   "outputs": [
    {
     "name": "stdout",
     "output_type": "stream",
     "text": [
      "(2928, 24)\n"
     ]
    }
   ],
   "source": [
    "print(result_ans.shape)"
   ]
  },
  {
   "cell_type": "code",
   "execution_count": 25,
   "metadata": {
    "scrolled": true
   },
   "outputs": [
    {
     "data": {
      "image/png": "[encoded data removed]",
      "text/plain": [
       "<Figure size 1440x216 with 1 Axes>"
      ]
     },
     "metadata": {
      "needs_background": "light"
     },
     "output_type": "display_data"
    },
    {
     "data": {
      "image/png": "[encoded data removed]",
      "text/plain": [
       "<Figure size 1440x216 with 1 Axes>"
      ]
     },
     "metadata": {
      "needs_background": "light"
     },
     "output_type": "display_data"
    },
    {
     "data": {
      "image/png": "[encoded data removed]",
      "text/plain": [
       "<Figure size 1440x216 with 1 Axes>"
      ]
     },
     "metadata": {
      "needs_background": "light"
     },
     "output_type": "display_data"
    },
    {
     "data": {
      "image/png": "[encoded data removed]",
      "text/plain": [
       "<Figure size 1440x216 with 1 Axes>"
      ]
     },
     "metadata": {
      "needs_background": "light"
     },
     "output_type": "display_data"
    },
    {
     "data": {
      "image/png": "[encoded data removed]",
      "text/plain": [
       "<Figure size 1440x216 with 1 Axes>"
      ]
     },
     "metadata": {
      "needs_background": "light"
     },
     "output_type": "display_data"
    }
   ],
   "source": [
    "for i in range(0,1000,200):\n",
    "    plt.figure(figsize=(20,3))\n",
    "    plt.plot(result_ans.iloc[i:i+400, 0], c='black', ls=':', label = 'GroundTruth')\n",
    "    plt.plot(result_pred.iloc[i:i+400, 0], c='blue', label='Reconstruction')\n",
    "    plt.legend()\n",
    "    plt.show()"
   ]
  },
  {
   "cell_type": "code",
   "execution_count": null,
   "metadata": {},
   "outputs": [],
   "source": []
  }
 ],
 "metadata": {
  "kernelspec": {
   "display_name": "Python 3",
   "language": "python",
   "name": "python3"
  },
  "language_info": {
   "codemirror_mode": {
    "name": "ipython",
    "version": 3
   },
   "file_extension": ".py",
   "mimetype": "text/x-python",
   "name": "python",
   "nbconvert_exporter": "python",
   "pygments_lexer": "ipython3",
   "version": "3.7.4"
  }
 },
 "nbformat": 4,
 "nbformat_minor": 4
}
