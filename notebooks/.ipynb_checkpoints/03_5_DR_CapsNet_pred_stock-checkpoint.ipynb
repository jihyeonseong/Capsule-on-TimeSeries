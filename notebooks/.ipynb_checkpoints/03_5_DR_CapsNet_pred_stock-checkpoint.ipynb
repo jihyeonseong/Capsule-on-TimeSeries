{
 "cells": [
  {
   "cell_type": "markdown",
   "metadata": {},
   "source": [
    "# 1. Import Module & Data"
   ]
  },
  {
   "cell_type": "code",
   "execution_count": 1,
   "metadata": {},
   "outputs": [],
   "source": [
    "import numpy as np\n",
    "import pandas as pd\n",
    "%matplotlib inline\n",
    "from matplotlib import figure\n",
    "import matplotlib.pyplot as plt\n",
    "import math\n",
    "import os\n",
    "import time\n",
    "import random\n",
    "import gc\n",
    "from sklearn.preprocessing import StandardScaler, MinMaxScaler\n",
    "import seaborn as sns\n",
    "\n",
    "import warnings\n",
    "warnings.filterwarnings(action='ignore')"
   ]
  },
  {
   "cell_type": "code",
   "execution_count": 2,
   "metadata": {},
   "outputs": [],
   "source": [
    "os.environ['CUDA_VISIBLE_DEVICES'] = \"0\""
   ]
  },
  {
   "cell_type": "code",
   "execution_count": 3,
   "metadata": {},
   "outputs": [
    {
     "data": {
      "text/html": [
       "<div>\n",
       "<style scoped>\n",
       "    .dataframe tbody tr th:only-of-type {\n",
       "        vertical-align: middle;\n",
       "    }\n",
       "\n",
       "    .dataframe tbody tr th {\n",
       "        vertical-align: top;\n",
       "    }\n",
       "\n",
       "    .dataframe thead th {\n",
       "        text-align: right;\n",
       "    }\n",
       "</style>\n",
       "<table border=\"1\" class=\"dataframe\">\n",
       "  <thead>\n",
       "    <tr style=\"text-align: right;\">\n",
       "      <th></th>\n",
       "      <th>Open</th>\n",
       "      <th>High</th>\n",
       "      <th>Low</th>\n",
       "      <th>Close</th>\n",
       "      <th>Volume</th>\n",
       "      <th>Close_SMA10</th>\n",
       "      <th>Close_SMA20</th>\n",
       "      <th>Close_SMA30</th>\n",
       "      <th>Close_EMA10</th>\n",
       "      <th>Close_EMA20</th>\n",
       "      <th>...</th>\n",
       "      <th>Close_long</th>\n",
       "      <th>Close_MACD</th>\n",
       "      <th>Close_SignalLine</th>\n",
       "      <th>Close_7D</th>\n",
       "      <th>Close_1D</th>\n",
       "      <th>Close_Momentum</th>\n",
       "      <th>Close1diff</th>\n",
       "      <th>Close_up</th>\n",
       "      <th>Close_down</th>\n",
       "      <th>Close_RSI</th>\n",
       "    </tr>\n",
       "  </thead>\n",
       "  <tbody>\n",
       "    <tr>\n",
       "      <td>0</td>\n",
       "      <td>151.78</td>\n",
       "      <td>151.78</td>\n",
       "      <td>151.78</td>\n",
       "      <td>151.78</td>\n",
       "      <td>195.0</td>\n",
       "      <td>151.802</td>\n",
       "      <td>151.8685</td>\n",
       "      <td>151.851000</td>\n",
       "      <td>151.814923</td>\n",
       "      <td>151.837962</td>\n",
       "      <td>...</td>\n",
       "      <td>151.846566</td>\n",
       "      <td>-0.025605</td>\n",
       "      <td>-0.016996</td>\n",
       "      <td>151.80</td>\n",
       "      <td>151.80</td>\n",
       "      <td>0.000000</td>\n",
       "      <td>-0.02</td>\n",
       "      <td>0.00</td>\n",
       "      <td>-0.02</td>\n",
       "      <td>37.096774</td>\n",
       "    </tr>\n",
       "    <tr>\n",
       "      <td>1</td>\n",
       "      <td>151.78</td>\n",
       "      <td>151.78</td>\n",
       "      <td>151.78</td>\n",
       "      <td>151.78</td>\n",
       "      <td>465.0</td>\n",
       "      <td>151.803</td>\n",
       "      <td>151.8640</td>\n",
       "      <td>151.846333</td>\n",
       "      <td>151.808574</td>\n",
       "      <td>151.832442</td>\n",
       "      <td>...</td>\n",
       "      <td>151.841635</td>\n",
       "      <td>-0.026976</td>\n",
       "      <td>-0.018992</td>\n",
       "      <td>151.80</td>\n",
       "      <td>151.78</td>\n",
       "      <td>-0.000132</td>\n",
       "      <td>0.00</td>\n",
       "      <td>0.00</td>\n",
       "      <td>0.00</td>\n",
       "      <td>33.898305</td>\n",
       "    </tr>\n",
       "    <tr>\n",
       "      <td>2</td>\n",
       "      <td>151.75</td>\n",
       "      <td>151.75</td>\n",
       "      <td>151.65</td>\n",
       "      <td>151.69</td>\n",
       "      <td>1877.0</td>\n",
       "      <td>151.787</td>\n",
       "      <td>151.8525</td>\n",
       "      <td>151.837333</td>\n",
       "      <td>151.787015</td>\n",
       "      <td>151.818876</td>\n",
       "      <td>...</td>\n",
       "      <td>151.830403</td>\n",
       "      <td>-0.034922</td>\n",
       "      <td>-0.022178</td>\n",
       "      <td>151.81</td>\n",
       "      <td>151.78</td>\n",
       "      <td>-0.000198</td>\n",
       "      <td>-0.09</td>\n",
       "      <td>0.00</td>\n",
       "      <td>-0.09</td>\n",
       "      <td>28.358209</td>\n",
       "    </tr>\n",
       "    <tr>\n",
       "      <td>3</td>\n",
       "      <td>151.62</td>\n",
       "      <td>151.62</td>\n",
       "      <td>151.60</td>\n",
       "      <td>151.62</td>\n",
       "      <td>913.0</td>\n",
       "      <td>151.769</td>\n",
       "      <td>151.8365</td>\n",
       "      <td>151.826667</td>\n",
       "      <td>151.756648</td>\n",
       "      <td>151.799935</td>\n",
       "      <td>...</td>\n",
       "      <td>151.814817</td>\n",
       "      <td>-0.046334</td>\n",
       "      <td>-0.027009</td>\n",
       "      <td>151.81</td>\n",
       "      <td>151.69</td>\n",
       "      <td>-0.000790</td>\n",
       "      <td>-0.07</td>\n",
       "      <td>0.00</td>\n",
       "      <td>-0.07</td>\n",
       "      <td>29.687500</td>\n",
       "    </tr>\n",
       "    <tr>\n",
       "      <td>4</td>\n",
       "      <td>151.66</td>\n",
       "      <td>151.66</td>\n",
       "      <td>151.65</td>\n",
       "      <td>151.65</td>\n",
       "      <td>441.0</td>\n",
       "      <td>151.754</td>\n",
       "      <td>151.8210</td>\n",
       "      <td>151.824000</td>\n",
       "      <td>151.737258</td>\n",
       "      <td>151.785656</td>\n",
       "      <td>...</td>\n",
       "      <td>151.802609</td>\n",
       "      <td>-0.052353</td>\n",
       "      <td>-0.032078</td>\n",
       "      <td>151.81</td>\n",
       "      <td>151.62</td>\n",
       "      <td>-0.001252</td>\n",
       "      <td>0.03</td>\n",
       "      <td>0.03</td>\n",
       "      <td>0.00</td>\n",
       "      <td>22.413793</td>\n",
       "    </tr>\n",
       "    <tr>\n",
       "      <td>...</td>\n",
       "      <td>...</td>\n",
       "      <td>...</td>\n",
       "      <td>...</td>\n",
       "      <td>...</td>\n",
       "      <td>...</td>\n",
       "      <td>...</td>\n",
       "      <td>...</td>\n",
       "      <td>...</td>\n",
       "      <td>...</td>\n",
       "      <td>...</td>\n",
       "      <td>...</td>\n",
       "      <td>...</td>\n",
       "      <td>...</td>\n",
       "      <td>...</td>\n",
       "      <td>...</td>\n",
       "      <td>...</td>\n",
       "      <td>...</td>\n",
       "      <td>...</td>\n",
       "      <td>...</td>\n",
       "      <td>...</td>\n",
       "      <td>...</td>\n",
       "    </tr>\n",
       "    <tr>\n",
       "      <td>66784</td>\n",
       "      <td>166.28</td>\n",
       "      <td>166.33</td>\n",
       "      <td>166.28</td>\n",
       "      <td>166.33</td>\n",
       "      <td>1020.0</td>\n",
       "      <td>166.340</td>\n",
       "      <td>166.3450</td>\n",
       "      <td>166.359333</td>\n",
       "      <td>166.323779</td>\n",
       "      <td>166.337186</td>\n",
       "      <td>...</td>\n",
       "      <td>166.336513</td>\n",
       "      <td>-0.007955</td>\n",
       "      <td>0.005171</td>\n",
       "      <td>166.40</td>\n",
       "      <td>166.28</td>\n",
       "      <td>-0.000721</td>\n",
       "      <td>0.05</td>\n",
       "      <td>0.05</td>\n",
       "      <td>0.00</td>\n",
       "      <td>51.162791</td>\n",
       "    </tr>\n",
       "    <tr>\n",
       "      <td>66785</td>\n",
       "      <td>166.33</td>\n",
       "      <td>166.33</td>\n",
       "      <td>166.30</td>\n",
       "      <td>166.30</td>\n",
       "      <td>327.0</td>\n",
       "      <td>166.325</td>\n",
       "      <td>166.3450</td>\n",
       "      <td>166.351333</td>\n",
       "      <td>166.319455</td>\n",
       "      <td>166.333645</td>\n",
       "      <td>...</td>\n",
       "      <td>166.333808</td>\n",
       "      <td>-0.009644</td>\n",
       "      <td>0.002208</td>\n",
       "      <td>166.33</td>\n",
       "      <td>166.33</td>\n",
       "      <td>0.000000</td>\n",
       "      <td>-0.03</td>\n",
       "      <td>0.00</td>\n",
       "      <td>-0.03</td>\n",
       "      <td>42.307692</td>\n",
       "    </tr>\n",
       "    <tr>\n",
       "      <td>66786</td>\n",
       "      <td>166.30</td>\n",
       "      <td>166.35</td>\n",
       "      <td>166.30</td>\n",
       "      <td>166.35</td>\n",
       "      <td>3435.0</td>\n",
       "      <td>166.323</td>\n",
       "      <td>166.3500</td>\n",
       "      <td>166.349333</td>\n",
       "      <td>166.325009</td>\n",
       "      <td>166.335203</td>\n",
       "      <td>...</td>\n",
       "      <td>166.335008</td>\n",
       "      <td>-0.006868</td>\n",
       "      <td>0.000393</td>\n",
       "      <td>166.40</td>\n",
       "      <td>166.30</td>\n",
       "      <td>-0.000601</td>\n",
       "      <td>0.05</td>\n",
       "      <td>0.05</td>\n",
       "      <td>0.00</td>\n",
       "      <td>45.121951</td>\n",
       "    </tr>\n",
       "    <tr>\n",
       "      <td>66787</td>\n",
       "      <td>166.33</td>\n",
       "      <td>166.40</td>\n",
       "      <td>166.33</td>\n",
       "      <td>166.40</td>\n",
       "      <td>1519.0</td>\n",
       "      <td>166.323</td>\n",
       "      <td>166.3515</td>\n",
       "      <td>166.348667</td>\n",
       "      <td>166.338644</td>\n",
       "      <td>166.341374</td>\n",
       "      <td>...</td>\n",
       "      <td>166.339822</td>\n",
       "      <td>-0.000627</td>\n",
       "      <td>0.000189</td>\n",
       "      <td>166.35</td>\n",
       "      <td>166.35</td>\n",
       "      <td>0.000000</td>\n",
       "      <td>0.05</td>\n",
       "      <td>0.05</td>\n",
       "      <td>0.00</td>\n",
       "      <td>47.674419</td>\n",
       "    </tr>\n",
       "    <tr>\n",
       "      <td>66788</td>\n",
       "      <td>166.36</td>\n",
       "      <td>166.42</td>\n",
       "      <td>166.36</td>\n",
       "      <td>166.36</td>\n",
       "      <td>968.0</td>\n",
       "      <td>166.326</td>\n",
       "      <td>166.3530</td>\n",
       "      <td>166.349000</td>\n",
       "      <td>166.342527</td>\n",
       "      <td>166.343148</td>\n",
       "      <td>...</td>\n",
       "      <td>166.341317</td>\n",
       "      <td>0.001079</td>\n",
       "      <td>0.000367</td>\n",
       "      <td>166.23</td>\n",
       "      <td>166.40</td>\n",
       "      <td>0.001023</td>\n",
       "      <td>-0.04</td>\n",
       "      <td>0.00</td>\n",
       "      <td>-0.04</td>\n",
       "      <td>51.250000</td>\n",
       "    </tr>\n",
       "  </tbody>\n",
       "</table>\n",
       "<p>66789 rows × 24 columns</p>\n",
       "</div>"
      ],
      "text/plain": [
       "         Open    High     Low   Close  Volume  Close_SMA10  Close_SMA20  \\\n",
       "0      151.78  151.78  151.78  151.78   195.0      151.802     151.8685   \n",
       "1      151.78  151.78  151.78  151.78   465.0      151.803     151.8640   \n",
       "2      151.75  151.75  151.65  151.69  1877.0      151.787     151.8525   \n",
       "3      151.62  151.62  151.60  151.62   913.0      151.769     151.8365   \n",
       "4      151.66  151.66  151.65  151.65   441.0      151.754     151.8210   \n",
       "...       ...     ...     ...     ...     ...          ...          ...   \n",
       "66784  166.28  166.33  166.28  166.33  1020.0      166.340     166.3450   \n",
       "66785  166.33  166.33  166.30  166.30   327.0      166.325     166.3450   \n",
       "66786  166.30  166.35  166.30  166.35  3435.0      166.323     166.3500   \n",
       "66787  166.33  166.40  166.33  166.40  1519.0      166.323     166.3515   \n",
       "66788  166.36  166.42  166.36  166.36   968.0      166.326     166.3530   \n",
       "\n",
       "       Close_SMA30  Close_EMA10  Close_EMA20  ...  Close_long  Close_MACD  \\\n",
       "0       151.851000   151.814923   151.837962  ...  151.846566   -0.025605   \n",
       "1       151.846333   151.808574   151.832442  ...  151.841635   -0.026976   \n",
       "2       151.837333   151.787015   151.818876  ...  151.830403   -0.034922   \n",
       "3       151.826667   151.756648   151.799935  ...  151.814817   -0.046334   \n",
       "4       151.824000   151.737258   151.785656  ...  151.802609   -0.052353   \n",
       "...            ...          ...          ...  ...         ...         ...   \n",
       "66784   166.359333   166.323779   166.337186  ...  166.336513   -0.007955   \n",
       "66785   166.351333   166.319455   166.333645  ...  166.333808   -0.009644   \n",
       "66786   166.349333   166.325009   166.335203  ...  166.335008   -0.006868   \n",
       "66787   166.348667   166.338644   166.341374  ...  166.339822   -0.000627   \n",
       "66788   166.349000   166.342527   166.343148  ...  166.341317    0.001079   \n",
       "\n",
       "       Close_SignalLine  Close_7D  Close_1D  Close_Momentum  Close1diff  \\\n",
       "0             -0.016996    151.80    151.80        0.000000       -0.02   \n",
       "1             -0.018992    151.80    151.78       -0.000132        0.00   \n",
       "2             -0.022178    151.81    151.78       -0.000198       -0.09   \n",
       "3             -0.027009    151.81    151.69       -0.000790       -0.07   \n",
       "4             -0.032078    151.81    151.62       -0.001252        0.03   \n",
       "...                 ...       ...       ...             ...         ...   \n",
       "66784          0.005171    166.40    166.28       -0.000721        0.05   \n",
       "66785          0.002208    166.33    166.33        0.000000       -0.03   \n",
       "66786          0.000393    166.40    166.30       -0.000601        0.05   \n",
       "66787          0.000189    166.35    166.35        0.000000        0.05   \n",
       "66788          0.000367    166.23    166.40        0.001023       -0.04   \n",
       "\n",
       "       Close_up  Close_down  Close_RSI  \n",
       "0          0.00       -0.02  37.096774  \n",
       "1          0.00        0.00  33.898305  \n",
       "2          0.00       -0.09  28.358209  \n",
       "3          0.00       -0.07  29.687500  \n",
       "4          0.03        0.00  22.413793  \n",
       "...         ...         ...        ...  \n",
       "66784      0.05        0.00  51.162791  \n",
       "66785      0.00       -0.03  42.307692  \n",
       "66786      0.05        0.00  45.121951  \n",
       "66787      0.05        0.00  47.674419  \n",
       "66788      0.00       -0.04  51.250000  \n",
       "\n",
       "[66789 rows x 24 columns]"
      ]
     },
     "execution_count": 3,
     "metadata": {},
     "output_type": "execute_result"
    }
   ],
   "source": [
    "data_folder = '../data/'\n",
    "os.makedirs(data_folder, exist_ok=True)\n",
    "\n",
    "df = pd.read_csv(data_folder + 'aapl.csv')\n",
    "df = df.iloc[:, 1:]\n",
    "df"
   ]
  },
  {
   "cell_type": "markdown",
   "metadata": {},
   "source": [
    "### If you want Feature Engineering for uni-stock"
   ]
  },
  {
   "cell_type": "code",
   "execution_count": 4,
   "metadata": {},
   "outputs": [],
   "source": [
    "#Feature Engineering Class \n",
    "class FeatureEngineering:\n",
    "    def __init__(self, stock_name):\n",
    "        self.stock_name = stock_name\n",
    "\n",
    "    #Simple Moving Average\n",
    "    def SMA(self,  data, column='Close', period=30):\n",
    "        data = copy.deepcopy(data)\n",
    "        data[column+f'_SMA{period}'] = data[column].rolling(period).mean()\n",
    "        return data\n",
    "    \n",
    "    def SMA_(self,  data, column='Close', period=30):\n",
    "        data = copy.deepcopy(data)\n",
    "        return data[column].rolling(period).mean()\n",
    "\n",
    "    #Exponential Moving Average\n",
    "    def EMA(self, data, period=20, column='Close'):\n",
    "        data = copy.deepcopy(data)\n",
    "        data[column+f'_EMA{period}'] = data[column].ewm(span=period, adjust=False).mean()\n",
    "        return data\n",
    "    \n",
    "    def EMA_(self, data, period=20, column='Close'):\n",
    "        data = copy.deepcopy(data)\n",
    "        return data[column].ewm(span=period, adjust=False).mean()\n",
    "    \n",
    "    #BollingerBand with SMA\n",
    "    def Bollingerband(self, data, period=20, column='Close'):\n",
    "        data = copy.deepcopy(data)\n",
    "        \n",
    "        data[column+f'_SMA{period}'] = self.SMA_(data, column=column, period=period)\n",
    "        data[column+'_UB'] = data[column+f'_SMA{period}'] + 2*data[column+f'_SMA{period}'].std()\n",
    "        data[column+'_LB'] = data[column+f'_SMA{period}'] - 2*data[column+f'_SMA{period}'].std()\n",
    "        \n",
    "        return data\n",
    "    \n",
    "    #MACD\n",
    "    def MACD(self, data, period_long=26, period_short=12, period_signal=9, column='Close'):\n",
    "        data = copy.deepcopy(data)\n",
    "        \n",
    "        data[column+'_short'] = self.EMA_(data, period=period_short, column=column)\n",
    "\n",
    "        data[column+f'_long'] = self.EMA_(data, period=period_long, column=column)\n",
    "\n",
    "        data[column+'_MACD'] = data[column+f'_short']- data[column+f'_long']\n",
    "\n",
    "        #signal\n",
    "        data[column+'_SignalLine'] = self.EMA_(data, period=period_signal, column=column+'_MACD')\n",
    "\n",
    "        return data\n",
    "    \n",
    "    #Momentum\n",
    "    def Momentum(self, data, period=7, column='Close'):\n",
    "        data = copy.deepcopy(data)\n",
    "        \n",
    "        data[column+f'_{period}D'] = data[column].shift(period)\n",
    "        data[column+'_1D'] = data[column].shift(1)\n",
    "        data[column+'_Momentum'] = data[column+'_1D'] / data[column+f'_{period}D'] - 1\n",
    "        \n",
    "        return data\n",
    "    \n",
    "    #RSI\n",
    "    def RSI(self, data, period=14, column='Close'):\n",
    "        data = copy.deepcopy(data)\n",
    "        \n",
    "        data[column+'1diff'] = data[column].diff(1)\n",
    "        \n",
    "        delta = data[column].diff(1)\n",
    "        delta = delta.dropna()\n",
    "\n",
    "        up = delta.copy()\n",
    "        down = delta.copy()\n",
    "        up[up<0] = 0\n",
    "        down[down>0] = 0\n",
    "        data[column+'_up'] = up\n",
    "        data[column+'_down'] = down\n",
    "\n",
    "        AVG_Gain = self.SMA_(data, period=period, column=column+'_up')\n",
    "        AVG_Loss = abs(self.SMA_(data, period=period, column=column+'_down'))\n",
    "        RS = AVG_Gain / AVG_Loss\n",
    "\n",
    "        RSI = 100.0 - (100.0/(1.0+RS))\n",
    "        data[column+'_RSI'] = RSI\n",
    "  \n",
    "        return data\n",
    "    \n",
    "    #Get feature engineered data\n",
    "    def get_data(self, train):\n",
    "        #print('Feature Engineering...')\n",
    "        \n",
    "        self.train = copy.deepcopy(train)\n",
    "        c = self.stock_name\n",
    "        \n",
    "        self.train = self.SMA(self.train, column=c, period=10)\n",
    "        self.train = self.SMA(self.train, column=c, period=20)\n",
    "        self.train = self.SMA(self.train, column=c, period=30)\n",
    "        \n",
    "        self.train = self.EMA(self.train, column=c, period=10)\n",
    "        self.train = self.EMA(self.train, column=c, period=20)\n",
    "        self.train = self.EMA(self.train, column=c, period=30)\n",
    "        \n",
    "        self.train = self.Bollingerband(self.train, column=c)\n",
    "        self.train = self.MACD(self.train, column=c)\n",
    "        self.train = self.Momentum(self.train, column=c)\n",
    "        self.train = self.RSI(self.train, column=c)\n",
    "        \n",
    "        #print(\"Done!\")\n",
    "        \n",
    "        return self.train"
   ]
  },
  {
   "cell_type": "code",
   "execution_count": 5,
   "metadata": {},
   "outputs": [],
   "source": [
    "#fe = FeatureEngineering('AAPL')\n",
    "#df_fe = fe.get_data(df.loc[:, ['AAPL']])"
   ]
  },
  {
   "cell_type": "code",
   "execution_count": 6,
   "metadata": {},
   "outputs": [
    {
     "name": "stdout",
     "output_type": "stream",
     "text": [
      "3 24\n"
     ]
    }
   ],
   "source": [
    "#df = pd.concat([df_fe.iloc[:, 1:], df], axis=1)\n",
    "#df.dropna(inplace=True)\n",
    "target_loc = pd.Index(df.columns.tolist()).get_loc('Close')\n",
    "print(target_loc, len(df.columns))"
   ]
  },
  {
   "cell_type": "code",
   "execution_count": 7,
   "metadata": {},
   "outputs": [
    {
     "name": "stdout",
     "output_type": "stream",
     "text": [
      "60000 3800 2989\n"
     ]
    }
   ],
   "source": [
    "train = df[:60000]\n",
    "valid = df[60000:60000+3800]\n",
    "test = df[60000+3800:]\n",
    "\n",
    "print(len(train), len(valid), len(test))\n",
    "\n",
    "sc = MinMaxScaler()\n",
    "sc.fit(train.values)\n",
    "train_sc = pd.DataFrame(sc.transform(train.values), columns=df.columns)\n",
    "valid_sc = pd.DataFrame(sc.transform(valid.values), columns=df.columns)\n",
    "test_sc = pd.DataFrame(sc.transform(test.values), columns=df.columns)"
   ]
  },
  {
   "cell_type": "code",
   "execution_count": 8,
   "metadata": {
    "scrolled": true
   },
   "outputs": [
    {
     "data": {
      "image/png": "[encoded data removed]",
      "text/plain": [
       "<Figure size 1440x360 with 1 Axes>"
      ]
     },
     "metadata": {
      "needs_background": "light"
     },
     "output_type": "display_data"
    }
   ],
   "source": [
    "plt.figure(figsize=(20,5))\n",
    "plt.plot(train_sc.iloc[:10000, 0], label=train_sc.columns[0])\n",
    "plt.legend()\n",
    "plt.show()"
   ]
  },
  {
   "cell_type": "code",
   "execution_count": 9,
   "metadata": {},
   "outputs": [],
   "source": [
    "from torch import nn\n",
    "from torch.utils.data import Dataset, WeightedRandomSampler\n",
    "from torch.optim.lr_scheduler import ReduceLROnPlateau\n",
    "import torch.nn.functional as F\n",
    "import torch\n",
    "\n",
    "import os\n",
    "import statistics\n",
    "import numpy as np\n",
    "import pandas as pd\n",
    "from tqdm.notebook import tqdm\n",
    "import json\n",
    "import matplotlib.pyplot as plt\n",
    "\n",
    "SEED = 10\n",
    "torch.manual_seed(SEED)\n",
    "torch.cuda.manual_seed_all(SEED)\n",
    "np.random.seed(SEED)"
   ]
  },
  {
   "cell_type": "code",
   "execution_count": 10,
   "metadata": {},
   "outputs": [],
   "source": [
    "class MyDataset(Dataset):\n",
    "    def __init__(self, data, window, pred, target_loc):\n",
    "        self.data = torch.Tensor(data.values)\n",
    "        self.window = window\n",
    "        self.pred = pred\n",
    "        self.target_loc = target_loc\n",
    "        self.use_cols = [x for x in range(len(data.columns))] #if x != target_loc\n",
    "        \n",
    "        self.shape = self.__getshape__()\n",
    "        self.size = self.__getsize__()\n",
    "\n",
    "    def __getitem__(self, index):\n",
    "        x = self.data[index:index+self.window, self.use_cols]\n",
    "        y = self.data[index+self.window+self.pred-1, self.target_loc]\n",
    "        return x, y\n",
    "\n",
    "    def __len__(self):\n",
    "        return len(self.data) - self.window - self.pred\n",
    "    \n",
    "    def __getshape__(self):\n",
    "        return (self.__len__(), *self.__getitem__(0)[0].shape) # row, col\n",
    "    \n",
    "    def __getsize__(self):\n",
    "        return (self.__len__())"
   ]
  },
  {
   "cell_type": "code",
   "execution_count": 11,
   "metadata": {},
   "outputs": [],
   "source": [
    "batch_size = 64\n",
    "num_workers = 4\n",
    "pin_memory = True\n",
    "device = 'cuda'\n",
    "num_epoch = 150\n",
    "lr = 1e-4\n",
    "window = 120\n",
    "pred_step = 1"
   ]
  },
  {
   "cell_type": "code",
   "execution_count": 12,
   "metadata": {},
   "outputs": [],
   "source": [
    "train_dataset = MyDataset(train_sc, window, pred_step, target_loc)\n",
    "valid_dataset = MyDataset(valid_sc, window, pred_step, target_loc)\n",
    "test_dataset = MyDataset(test_sc, window, pred_step, target_loc)\n",
    "\n",
    "train_loader = torch.utils.data.DataLoader(train_dataset, batch_size=batch_size, \n",
    "                                     drop_last=False, \n",
    "                                     num_workers=num_workers, pin_memory=pin_memory, shuffle=True) \n",
    "valid_loader = torch.utils.data.DataLoader(valid_dataset, batch_size=batch_size, \n",
    "                                     drop_last=False, \n",
    "                                     num_workers=num_workers, pin_memory=pin_memory, shuffle=False)\n",
    "test_loader = torch.utils.data.DataLoader(test_dataset, batch_size=batch_size, \n",
    "                                     drop_last=False, \n",
    "                                     num_workers=num_workers, pin_memory=pin_memory, shuffle=False)"
   ]
  },
  {
   "cell_type": "markdown",
   "metadata": {},
   "source": [
    "# 2. DynamicRouting CapsNet"
   ]
  },
  {
   "cell_type": "code",
   "execution_count": 13,
   "metadata": {},
   "outputs": [],
   "source": [
    "result_folder = f'../check/drcaps/pred_stock_{pred_step}_aapl/'\n",
    "os.makedirs(result_folder, exist_ok=True)"
   ]
  },
  {
   "cell_type": "code",
   "execution_count": 14,
   "metadata": {},
   "outputs": [],
   "source": [
    "import torch\n",
    "import torch.nn as nn\n",
    "import torch.nn.functional as F\n",
    "from torch.autograd import Variable\n",
    "\n",
    "\n",
    "def squash(inputs, axis=-1):\n",
    "    \"\"\"\n",
    "    The non-linear activation used in Capsule. It drives the length of a large vector to near 1 and small vector to 0\n",
    "    :param inputs: vectors to be squashed\n",
    "    :param axis: the axis to squash\n",
    "    :return: a Tensor with same size as inputs\n",
    "    \"\"\"\n",
    "    norm = torch.norm(inputs, p=2, dim=axis, keepdim=True)\n",
    "    scale = norm**2 / (1 + norm**2) / (norm + 1e-8)\n",
    "    return scale * inputs\n",
    "\n",
    "\n",
    "class DenseCapsule(nn.Module):\n",
    "    \"\"\"\n",
    "    The dense capsule layer. It is similar to Dense (FC) layer. Dense layer has `in_num` inputs, each is a scalar, the\n",
    "    output of the neuron from the former layer, and it has `out_num` output neurons. DenseCapsule just expands the\n",
    "    output of the neuron from scalar to vector. So its input size = [None, in_num_caps, in_dim_caps] and output size = \\\n",
    "    [None, out_num_caps, out_dim_caps]. For Dense Layer, in_dim_caps = out_dim_caps = 1.\n",
    "    :param in_num_caps: number of cpasules inputted to this layer\n",
    "    :param in_dim_caps: dimension of input capsules\n",
    "    :param out_num_caps: number of capsules outputted from this layer\n",
    "    :param out_dim_caps: dimension of output capsules\n",
    "    :param routings: number of iterations for the routing algorithm\n",
    "    \"\"\"\n",
    "    def __init__(self, in_num_caps, in_dim_caps, out_num_caps, out_dim_caps, routings=3):\n",
    "        super(DenseCapsule, self).__init__()\n",
    "        self.in_num_caps = in_num_caps\n",
    "        self.in_dim_caps = in_dim_caps\n",
    "        self.out_num_caps = out_num_caps\n",
    "        self.out_dim_caps = out_dim_caps\n",
    "        self.routings = routings\n",
    "        self.weight = nn.Parameter(0.01 * torch.randn(out_num_caps, in_num_caps, out_dim_caps, in_dim_caps))\n",
    "\n",
    "    def forward(self, x):\n",
    "        # x.size=[batch, in_num_caps, in_dim_caps]\n",
    "        # expanded to    [batch, 1,            in_num_caps, in_dim_caps,  1]\n",
    "        # weight.size   =[       out_num_caps, in_num_caps, out_dim_caps, in_dim_caps]\n",
    "        # torch.matmul: [out_dim_caps, in_dim_caps] x [in_dim_caps, 1] -> [out_dim_caps, 1]\n",
    "        # => x_hat.size =[batch, out_num_caps, in_num_caps, out_dim_caps]\n",
    "        x_hat = torch.squeeze(torch.matmul(self.weight, x[:, None, :, :, None]), dim=-1)\n",
    "\n",
    "        # In forward pass, `x_hat_detached` = `x_hat`;\n",
    "        # In backward, no gradient can flow from `x_hat_detached` back to `x_hat`.\n",
    "        x_hat_detached = x_hat.detach()\n",
    "\n",
    "        # The prior for coupling coefficient, initialized as zeros.\n",
    "        # b.size = [batch, out_num_caps, in_num_caps]\n",
    "        b = Variable(torch.zeros(x.size(0), self.out_num_caps, self.in_num_caps)).cuda()\n",
    "        #b = Variable(x_hat_detached).cuda()\n",
    "        assert self.routings > 0, 'The \\'routings\\' should be > 0.'\n",
    "        for i in range(self.routings):\n",
    "            # c.size = [batch, out_num_caps, in_num_caps]\n",
    "            c = F.softmax(b, dim=1)\n",
    "\n",
    "            # At last iteration, use `x_hat` to compute `outputs` in order to backpropagate gradient\n",
    "            if i == self.routings - 1:\n",
    "                # c.size expanded to [batch, out_num_caps, in_num_caps, 1           ]\n",
    "                # x_hat.size     =   [batch, out_num_caps, in_num_caps, out_dim_caps]\n",
    "                # => outputs.size=   [batch, out_num_caps, 1,           out_dim_caps]\n",
    "                outputs = squash(torch.sum(c[:, :, :, None] * x_hat, dim=-2, keepdim=True))\n",
    "                #outputs = squash(torch.sum(c[:, :, :, :] * x_hat, dim=-2, keepdim=True))  \n",
    "            else:  # Otherwise, use `x_hat_detached` to update `b`. No gradients flow on this path.\n",
    "                outputs = squash(torch.sum(c[:, :, :, None] * x_hat_detached, dim=-2, keepdim=True))\n",
    "                #outputs = squash(torch.sum(c[:, :, :, :] * x_hat, dim=-2, keepdim=True))  \n",
    "\n",
    "                # outputs.size       =[batch, out_num_caps, 1,           out_dim_caps]\n",
    "                # x_hat_detached.size=[batch, out_num_caps, in_num_caps, out_dim_caps]\n",
    "                # => b.size          =[batch, out_num_caps, in_num_caps]\n",
    "                b = b + torch.sum(outputs * x_hat_detached, dim=-1)\n",
    "\n",
    "        return torch.squeeze(outputs, dim=-2)\n",
    "\n",
    "\n",
    "class PrimaryCapsule(nn.Module):\n",
    "    \"\"\"\n",
    "    Apply Conv2D with `out_channels` and then reshape to get capsules\n",
    "    :param in_channels: input channels\n",
    "    :param out_channels: output channels\n",
    "    :param dim_caps: dimension of capsule\n",
    "    :param kernel_size: kernel size\n",
    "    :return: output tensor, size=[batch, num_caps, dim_caps]\n",
    "    \"\"\"\n",
    "    def __init__(self, in_channels, out_channels, dim_caps, kernel_size, stride=1, padding=0):\n",
    "        super(PrimaryCapsule, self).__init__()\n",
    "        self.dim_caps = dim_caps\n",
    "        self.conv2d = nn.Conv2d(in_channels, out_channels, kernel_size=kernel_size, stride=stride, padding=padding)\n",
    "\n",
    "    def forward(self, x):\n",
    "        outputs = self.conv2d(x)\n",
    "        outputs = outputs.reshape(x.size(0), -1, self.dim_caps)\n",
    "        return squash(outputs)"
   ]
  },
  {
   "cell_type": "code",
   "execution_count": 15,
   "metadata": {},
   "outputs": [],
   "source": [
    "class CapsuleNet(nn.Module):\n",
    "    \"\"\"\n",
    "    A Capsule Network on MNIST.\n",
    "    :param input_size: data size = [channels, width, height]\n",
    "    :param classes: number of classes\n",
    "    :param routings: number of routing iterations\n",
    "    Shape:\n",
    "        - Input: (batch, channels, width, height), optional (batch, classes) .\n",
    "        - Output:((batch, classes), (batch, channels, width, height))\n",
    "    \"\"\"\n",
    "    def __init__(self, input_size, classes, routings):\n",
    "        super(CapsuleNet, self).__init__()\n",
    "        self.input_size = input_size\n",
    "        self.classes = classes\n",
    "        self.routings = routings\n",
    "\n",
    "        # Layer 1: Just a conventional Conv2D layer\n",
    "        self.conv1 = nn.Conv2d(input_size[0], 256, kernel_size=(1,9), stride=1, padding=0)\n",
    "\n",
    "        # Layer 2: Conv2D layer with `squash` activation, then reshape to [None, num_caps, dim_caps]\n",
    "        self.primarycaps = PrimaryCapsule(256, 256, 8, kernel_size=(1,9), stride=(1,2), padding=0)\n",
    "\n",
    "        # Layer 3: Capsule layer. Routing algorithm works here.\n",
    "        self.digitcaps = DenseCapsule(in_num_caps=32*52, in_dim_caps=8,\n",
    "                                      out_num_caps=classes, out_dim_caps=16, routings=routings)\n",
    "\n",
    "        # Decoder network.\n",
    "        self.decoder = nn.Sequential(\n",
    "            nn.Linear(16*classes, 512),\n",
    "            nn.ReLU(inplace=True),\n",
    "            nn.Linear(512, 1024),\n",
    "            nn.ReLU(inplace=True),\n",
    "            nn.Linear(1024, 1),\n",
    "            #nn.Sigmoid()\n",
    "        )\n",
    "\n",
    "        self.relu = nn.ReLU()\n",
    "\n",
    "    def forward(self, x, y=None):\n",
    "        #print(x.shape)\n",
    "        x = self.relu(self.conv1(x.unsqueeze(2)))\n",
    "        x = self.primarycaps(x)\n",
    "        x = self.digitcaps(x)\n",
    "        length = x.norm(dim=-1)\n",
    "        if y is None:  # during testing, no label given. create one-hot coding using `length`\n",
    "            index = length.max(dim=1)[1]\n",
    "            y = Variable(torch.zeros(length.size()).scatter_(1, index.view(-1, 1).cpu().data, 1.).cuda())\n",
    "        reconstruction = self.decoder((x * y[:, :, None]).view(x.size(0), -1))\n",
    "        return reconstruction.view(-1, 1)"
   ]
  },
  {
   "cell_type": "code",
   "execution_count": 16,
   "metadata": {},
   "outputs": [],
   "source": [
    "def caps_loss(y_true, y_pred, x, x_recon, lam_recon):\n",
    "    \"\"\"\n",
    "    Capsule loss = Margin loss + lam_recon * reconstruction loss.\n",
    "    :param y_true: true labels, one-hot coding, size=[batch, classes]\n",
    "    :param y_pred: predicted labels by CapsNet, size=[batch, classes]\n",
    "    :param x: input data, size=[batch, channels, width, height]\n",
    "    :param x_recon: reconstructed data, size is same as `x`\n",
    "    :param lam_recon: coefficient for reconstruction loss\n",
    "    :return: Variable contains a scalar loss value.\n",
    "    \"\"\"\n",
    "    y_true = y_true.squeeze()\n",
    "    y_pred = y_pred.squeeze()\n",
    "    x = x.squeeze()\n",
    "    x_recon = x_recon.squeeze()\n",
    "    \n",
    "    L = y_true * torch.clamp(0.9 - y_pred, min=0.) ** 2 + \\\n",
    "        0.5 * (1 - y_true) * torch.clamp(y_pred - 0.1, min=0.) ** 2\n",
    "    L_margin = L.sum(dim=1).mean()\n",
    "\n",
    "    L_recon = nn.MSELoss()(x_recon, x)\n",
    "\n",
    "    return L_margin + lam_recon * L_recon"
   ]
  },
  {
   "cell_type": "code",
   "execution_count": 17,
   "metadata": {},
   "outputs": [],
   "source": [
    "model = CapsuleNet([24,window,1], 5, 1).to(device) \n",
    "\n",
    "optimizer = torch.optim.Adam(model.parameters(), lr=lr)\n",
    "criterion = nn.MSELoss()"
   ]
  },
  {
   "cell_type": "code",
   "execution_count": 18,
   "metadata": {},
   "outputs": [
    {
     "data": {
      "text/plain": [
       "CapsuleNet(\n",
       "  (conv1): Conv2d(24, 256, kernel_size=(1, 9), stride=(1, 1))\n",
       "  (primarycaps): PrimaryCapsule(\n",
       "    (conv2d): Conv2d(256, 256, kernel_size=(1, 9), stride=(1, 2))\n",
       "  )\n",
       "  (digitcaps): DenseCapsule()\n",
       "  (decoder): Sequential(\n",
       "    (0): Linear(in_features=80, out_features=512, bias=True)\n",
       "    (1): ReLU(inplace=True)\n",
       "    (2): Linear(in_features=512, out_features=1024, bias=True)\n",
       "    (3): ReLU(inplace=True)\n",
       "    (4): Linear(in_features=1024, out_features=1, bias=True)\n",
       "  )\n",
       "  (relu): ReLU()\n",
       ")"
      ]
     },
     "execution_count": 18,
     "metadata": {},
     "output_type": "execute_result"
    }
   ],
   "source": [
    "model"
   ]
  },
  {
   "cell_type": "markdown",
   "metadata": {},
   "source": [
    "# 3. Model Training and Evaluation"
   ]
  },
  {
   "cell_type": "code",
   "execution_count": null,
   "metadata": {
    "scrolled": true
   },
   "outputs": [
    {
     "data": {
      "application/vnd.jupyter.widget-view+json": {
       "model_id": "",
       "version_major": 2,
       "version_minor": 0
      },
      "text/plain": [
       "HBox(children=(IntProgress(value=0, max=936), HTML(value='')))"
      ]
     },
     "metadata": {},
     "output_type": "display_data"
    },
    {
     "name": "stdout",
     "output_type": "stream",
     "text": [
      "\r"
     ]
    },
    {
     "data": {
      "application/vnd.jupyter.widget-view+json": {
       "model_id": "",
       "version_major": 2,
       "version_minor": 0
      },
      "text/plain": [
       "HBox(children=(IntProgress(value=0, max=58), HTML(value='')))"
      ]
     },
     "metadata": {},
     "output_type": "display_data"
    },
    {
     "name": "stdout",
     "output_type": "stream",
     "text": [
      "\r",
      "epoch: 0/150 | trn_loss: 0.0318 | val_loss: 0.0171\n"
     ]
    },
    {
     "data": {
      "application/vnd.jupyter.widget-view+json": {
       "model_id": "",
       "version_major": 2,
       "version_minor": 0
      },
      "text/plain": [
       "HBox(children=(IntProgress(value=0, max=936), HTML(value='')))"
      ]
     },
     "metadata": {},
     "output_type": "display_data"
    },
    {
     "name": "stdout",
     "output_type": "stream",
     "text": [
      "\r"
     ]
    },
    {
     "data": {
      "application/vnd.jupyter.widget-view+json": {
       "model_id": "",
       "version_major": 2,
       "version_minor": 0
      },
      "text/plain": [
       "HBox(children=(IntProgress(value=0, max=58), HTML(value='')))"
      ]
     },
     "metadata": {},
     "output_type": "display_data"
    },
    {
     "name": "stdout",
     "output_type": "stream",
     "text": [
      "\r",
      "epoch: 1/150 | trn_loss: 0.0107 | val_loss: 0.0088\n"
     ]
    },
    {
     "data": {
      "application/vnd.jupyter.widget-view+json": {
       "model_id": "",
       "version_major": 2,
       "version_minor": 0
      },
      "text/plain": [
       "HBox(children=(IntProgress(value=0, max=936), HTML(value='')))"
      ]
     },
     "metadata": {},
     "output_type": "display_data"
    },
    {
     "name": "stdout",
     "output_type": "stream",
     "text": [
      "\r"
     ]
    },
    {
     "data": {
      "application/vnd.jupyter.widget-view+json": {
       "model_id": "",
       "version_major": 2,
       "version_minor": 0
      },
      "text/plain": [
       "HBox(children=(IntProgress(value=0, max=58), HTML(value='')))"
      ]
     },
     "metadata": {},
     "output_type": "display_data"
    },
    {
     "name": "stdout",
     "output_type": "stream",
     "text": [
      "\r",
      "epoch: 2/150 | trn_loss: 0.0089 | val_loss: 0.0105\n"
     ]
    },
    {
     "data": {
      "application/vnd.jupyter.widget-view+json": {
       "model_id": "",
       "version_major": 2,
       "version_minor": 0
      },
      "text/plain": [
       "HBox(children=(IntProgress(value=0, max=936), HTML(value='')))"
      ]
     },
     "metadata": {},
     "output_type": "display_data"
    },
    {
     "name": "stdout",
     "output_type": "stream",
     "text": [
      "\r"
     ]
    },
    {
     "data": {
      "application/vnd.jupyter.widget-view+json": {
       "model_id": "",
       "version_major": 2,
       "version_minor": 0
      },
      "text/plain": [
       "HBox(children=(IntProgress(value=0, max=58), HTML(value='')))"
      ]
     },
     "metadata": {},
     "output_type": "display_data"
    },
    {
     "name": "stdout",
     "output_type": "stream",
     "text": [
      "\r",
      "epoch: 3/150 | trn_loss: 0.0078 | val_loss: 0.0074\n"
     ]
    },
    {
     "data": {
      "application/vnd.jupyter.widget-view+json": {
       "model_id": "",
       "version_major": 2,
       "version_minor": 0
      },
      "text/plain": [
       "HBox(children=(IntProgress(value=0, max=936), HTML(value='')))"
      ]
     },
     "metadata": {},
     "output_type": "display_data"
    },
    {
     "name": "stdout",
     "output_type": "stream",
     "text": [
      "\r"
     ]
    },
    {
     "data": {
      "application/vnd.jupyter.widget-view+json": {
       "model_id": "",
       "version_major": 2,
       "version_minor": 0
      },
      "text/plain": [
       "HBox(children=(IntProgress(value=0, max=58), HTML(value='')))"
      ]
     },
     "metadata": {},
     "output_type": "display_data"
    },
    {
     "name": "stdout",
     "output_type": "stream",
     "text": [
      "\r",
      "epoch: 4/150 | trn_loss: 0.0074 | val_loss: 0.0091\n"
     ]
    },
    {
     "data": {
      "application/vnd.jupyter.widget-view+json": {
       "model_id": "",
       "version_major": 2,
       "version_minor": 0
      },
      "text/plain": [
       "HBox(children=(IntProgress(value=0, max=936), HTML(value='')))"
      ]
     },
     "metadata": {},
     "output_type": "display_data"
    },
    {
     "name": "stdout",
     "output_type": "stream",
     "text": [
      "\r"
     ]
    },
    {
     "data": {
      "application/vnd.jupyter.widget-view+json": {
       "model_id": "",
       "version_major": 2,
       "version_minor": 0
      },
      "text/plain": [
       "HBox(children=(IntProgress(value=0, max=58), HTML(value='')))"
      ]
     },
     "metadata": {},
     "output_type": "display_data"
    },
    {
     "name": "stdout",
     "output_type": "stream",
     "text": [
      "\r",
      "epoch: 5/150 | trn_loss: 0.0069 | val_loss: 0.0069\n"
     ]
    },
    {
     "data": {
      "application/vnd.jupyter.widget-view+json": {
       "model_id": "",
       "version_major": 2,
       "version_minor": 0
      },
      "text/plain": [
       "HBox(children=(IntProgress(value=0, max=936), HTML(value='')))"
      ]
     },
     "metadata": {},
     "output_type": "display_data"
    },
    {
     "name": "stdout",
     "output_type": "stream",
     "text": [
      "\r"
     ]
    },
    {
     "data": {
      "application/vnd.jupyter.widget-view+json": {
       "model_id": "",
       "version_major": 2,
       "version_minor": 0
      },
      "text/plain": [
       "HBox(children=(IntProgress(value=0, max=58), HTML(value='')))"
      ]
     },
     "metadata": {},
     "output_type": "display_data"
    },
    {
     "name": "stdout",
     "output_type": "stream",
     "text": [
      "\r",
      "epoch: 6/150 | trn_loss: 0.0069 | val_loss: 0.0088\n"
     ]
    },
    {
     "data": {
      "application/vnd.jupyter.widget-view+json": {
       "model_id": "",
       "version_major": 2,
       "version_minor": 0
      },
      "text/plain": [
       "HBox(children=(IntProgress(value=0, max=936), HTML(value='')))"
      ]
     },
     "metadata": {},
     "output_type": "display_data"
    },
    {
     "name": "stdout",
     "output_type": "stream",
     "text": [
      "\r"
     ]
    },
    {
     "data": {
      "application/vnd.jupyter.widget-view+json": {
       "model_id": "",
       "version_major": 2,
       "version_minor": 0
      },
      "text/plain": [
       "HBox(children=(IntProgress(value=0, max=58), HTML(value='')))"
      ]
     },
     "metadata": {},
     "output_type": "display_data"
    },
    {
     "name": "stdout",
     "output_type": "stream",
     "text": [
      "\r",
      "epoch: 7/150 | trn_loss: 0.0065 | val_loss: 0.0078\n"
     ]
    },
    {
     "data": {
      "application/vnd.jupyter.widget-view+json": {
       "model_id": "",
       "version_major": 2,
       "version_minor": 0
      },
      "text/plain": [
       "HBox(children=(IntProgress(value=0, max=936), HTML(value='')))"
      ]
     },
     "metadata": {},
     "output_type": "display_data"
    },
    {
     "name": "stdout",
     "output_type": "stream",
     "text": [
      "\r"
     ]
    },
    {
     "data": {
      "application/vnd.jupyter.widget-view+json": {
       "model_id": "",
       "version_major": 2,
       "version_minor": 0
      },
      "text/plain": [
       "HBox(children=(IntProgress(value=0, max=58), HTML(value='')))"
      ]
     },
     "metadata": {},
     "output_type": "display_data"
    },
    {
     "name": "stdout",
     "output_type": "stream",
     "text": [
      "\r",
      "epoch: 8/150 | trn_loss: 0.0067 | val_loss: 0.0062\n"
     ]
    },
    {
     "data": {
      "application/vnd.jupyter.widget-view+json": {
       "model_id": "",
       "version_major": 2,
       "version_minor": 0
      },
      "text/plain": [
       "HBox(children=(IntProgress(value=0, max=936), HTML(value='')))"
      ]
     },
     "metadata": {},
     "output_type": "display_data"
    },
    {
     "name": "stdout",
     "output_type": "stream",
     "text": [
      "\r"
     ]
    },
    {
     "data": {
      "application/vnd.jupyter.widget-view+json": {
       "model_id": "",
       "version_major": 2,
       "version_minor": 0
      },
      "text/plain": [
       "HBox(children=(IntProgress(value=0, max=58), HTML(value='')))"
      ]
     },
     "metadata": {},
     "output_type": "display_data"
    },
    {
     "name": "stdout",
     "output_type": "stream",
     "text": [
      "\r",
      "epoch: 9/150 | trn_loss: 0.0063 | val_loss: 0.0066\n"
     ]
    },
    {
     "data": {
      "application/vnd.jupyter.widget-view+json": {
       "model_id": "",
       "version_major": 2,
       "version_minor": 0
      },
      "text/plain": [
       "HBox(children=(IntProgress(value=0, max=936), HTML(value='')))"
      ]
     },
     "metadata": {},
     "output_type": "display_data"
    },
    {
     "name": "stdout",
     "output_type": "stream",
     "text": [
      "\r"
     ]
    },
    {
     "data": {
      "application/vnd.jupyter.widget-view+json": {
       "model_id": "",
       "version_major": 2,
       "version_minor": 0
      },
      "text/plain": [
       "HBox(children=(IntProgress(value=0, max=58), HTML(value='')))"
      ]
     },
     "metadata": {},
     "output_type": "display_data"
    },
    {
     "name": "stdout",
     "output_type": "stream",
     "text": [
      "\r",
      "epoch: 10/150 | trn_loss: 0.0063 | val_loss: 0.0065\n"
     ]
    },
    {
     "data": {
      "application/vnd.jupyter.widget-view+json": {
       "model_id": "",
       "version_major": 2,
       "version_minor": 0
      },
      "text/plain": [
       "HBox(children=(IntProgress(value=0, max=936), HTML(value='')))"
      ]
     },
     "metadata": {},
     "output_type": "display_data"
    },
    {
     "name": "stdout",
     "output_type": "stream",
     "text": [
      "\r"
     ]
    },
    {
     "data": {
      "application/vnd.jupyter.widget-view+json": {
       "model_id": "",
       "version_major": 2,
       "version_minor": 0
      },
      "text/plain": [
       "HBox(children=(IntProgress(value=0, max=58), HTML(value='')))"
      ]
     },
     "metadata": {},
     "output_type": "display_data"
    },
    {
     "name": "stdout",
     "output_type": "stream",
     "text": [
      "\r",
      "epoch: 11/150 | trn_loss: 0.0062 | val_loss: 0.0072\n"
     ]
    },
    {
     "data": {
      "application/vnd.jupyter.widget-view+json": {
       "model_id": "",
       "version_major": 2,
       "version_minor": 0
      },
      "text/plain": [
       "HBox(children=(IntProgress(value=0, max=936), HTML(value='')))"
      ]
     },
     "metadata": {},
     "output_type": "display_data"
    },
    {
     "name": "stdout",
     "output_type": "stream",
     "text": [
      "\r"
     ]
    },
    {
     "data": {
      "application/vnd.jupyter.widget-view+json": {
       "model_id": "",
       "version_major": 2,
       "version_minor": 0
      },
      "text/plain": [
       "HBox(children=(IntProgress(value=0, max=58), HTML(value='')))"
      ]
     },
     "metadata": {},
     "output_type": "display_data"
    },
    {
     "name": "stdout",
     "output_type": "stream",
     "text": [
      "\r",
      "epoch: 12/150 | trn_loss: 0.0064 | val_loss: 0.0062\n"
     ]
    },
    {
     "data": {
      "application/vnd.jupyter.widget-view+json": {
       "model_id": "",
       "version_major": 2,
       "version_minor": 0
      },
      "text/plain": [
       "HBox(children=(IntProgress(value=0, max=936), HTML(value='')))"
      ]
     },
     "metadata": {},
     "output_type": "display_data"
    },
    {
     "name": "stdout",
     "output_type": "stream",
     "text": [
      "\r"
     ]
    },
    {
     "data": {
      "application/vnd.jupyter.widget-view+json": {
       "model_id": "",
       "version_major": 2,
       "version_minor": 0
      },
      "text/plain": [
       "HBox(children=(IntProgress(value=0, max=58), HTML(value='')))"
      ]
     },
     "metadata": {},
     "output_type": "display_data"
    },
    {
     "name": "stdout",
     "output_type": "stream",
     "text": [
      "\r",
      "epoch: 13/150 | trn_loss: 0.0060 | val_loss: 0.0064\n"
     ]
    },
    {
     "data": {
      "application/vnd.jupyter.widget-view+json": {
       "model_id": "",
       "version_major": 2,
       "version_minor": 0
      },
      "text/plain": [
       "HBox(children=(IntProgress(value=0, max=936), HTML(value='')))"
      ]
     },
     "metadata": {},
     "output_type": "display_data"
    },
    {
     "name": "stdout",
     "output_type": "stream",
     "text": [
      "\r"
     ]
    },
    {
     "data": {
      "application/vnd.jupyter.widget-view+json": {
       "model_id": "",
       "version_major": 2,
       "version_minor": 0
      },
      "text/plain": [
       "HBox(children=(IntProgress(value=0, max=58), HTML(value='')))"
      ]
     },
     "metadata": {},
     "output_type": "display_data"
    },
    {
     "name": "stdout",
     "output_type": "stream",
     "text": [
      "\r",
      "epoch: 14/150 | trn_loss: 0.0064 | val_loss: 0.0092\n"
     ]
    },
    {
     "data": {
      "application/vnd.jupyter.widget-view+json": {
       "model_id": "",
       "version_major": 2,
       "version_minor": 0
      },
      "text/plain": [
       "HBox(children=(IntProgress(value=0, max=936), HTML(value='')))"
      ]
     },
     "metadata": {},
     "output_type": "display_data"
    },
    {
     "name": "stdout",
     "output_type": "stream",
     "text": [
      "\r"
     ]
    },
    {
     "data": {
      "application/vnd.jupyter.widget-view+json": {
       "model_id": "",
       "version_major": 2,
       "version_minor": 0
      },
      "text/plain": [
       "HBox(children=(IntProgress(value=0, max=58), HTML(value='')))"
      ]
     },
     "metadata": {},
     "output_type": "display_data"
    },
    {
     "name": "stdout",
     "output_type": "stream",
     "text": [
      "\r",
      "epoch: 15/150 | trn_loss: 0.0059 | val_loss: 0.0064\n"
     ]
    },
    {
     "data": {
      "application/vnd.jupyter.widget-view+json": {
       "model_id": "",
       "version_major": 2,
       "version_minor": 0
      },
      "text/plain": [
       "HBox(children=(IntProgress(value=0, max=936), HTML(value='')))"
      ]
     },
     "metadata": {},
     "output_type": "display_data"
    },
    {
     "name": "stdout",
     "output_type": "stream",
     "text": [
      "\r"
     ]
    },
    {
     "data": {
      "application/vnd.jupyter.widget-view+json": {
       "model_id": "",
       "version_major": 2,
       "version_minor": 0
      },
      "text/plain": [
       "HBox(children=(IntProgress(value=0, max=58), HTML(value='')))"
      ]
     },
     "metadata": {},
     "output_type": "display_data"
    },
    {
     "name": "stdout",
     "output_type": "stream",
     "text": [
      "\r",
      "epoch: 16/150 | trn_loss: 0.0060 | val_loss: 0.0067\n"
     ]
    },
    {
     "data": {
      "application/vnd.jupyter.widget-view+json": {
       "model_id": "305dce56ad964290be2ec843807619eb",
       "version_major": 2,
       "version_minor": 0
      },
      "text/plain": [
       "HBox(children=(IntProgress(value=0, max=936), HTML(value='')))"
      ]
     },
     "metadata": {},
     "output_type": "display_data"
    }
   ],
   "source": [
    "train_loss_list = []\n",
    "valid_loss_list = []\n",
    "    \n",
    "for epoch in range(0, num_epoch+1):\n",
    "    model = model.train()\n",
    "\n",
    "    train_loss = []\n",
    "    for (x, y) in tqdm(train_loader, leave=False):\n",
    "        x = x.to(device).transpose(1,2)\n",
    "        y = y.to(device).squeeze()\n",
    "\n",
    "        optimizer.zero_grad()\n",
    "        outputs = model(x)\n",
    "\n",
    "        loss = torch.sqrt(criterion(outputs.squeeze(), y.squeeze()))\n",
    "        \n",
    "        loss.backward()\n",
    "        optimizer.step()\n",
    "        \n",
    "        train_loss.append(loss.item())\n",
    "\n",
    "    train_loss = np.mean(train_loss)\n",
    "    \n",
    "    model = model.eval()\n",
    "    predictions = []\n",
    "    answers = []\n",
    "    valid_loss = []\n",
    "    with torch.no_grad():\n",
    "        for (x, y) in tqdm(valid_loader, leave=False):\n",
    "            x = x.to(device).transpose(1,2)\n",
    "            y = y.to(device).squeeze()\n",
    "            answers.extend(y.detach().cpu().numpy())\n",
    "\n",
    "            outputs = model(x)\n",
    "\n",
    "            loss = torch.sqrt(criterion(outputs.squeeze(), y.squeeze()))\n",
    "        \n",
    "            predictions.extend(outputs.squeeze().detach().cpu().numpy())\n",
    "            valid_loss.append(loss.item())    \n",
    "\n",
    "    valid_loss = np.mean(valid_loss)\n",
    "    #scheduler.step(valid_loss)\n",
    "    \n",
    "    print(\"epoch: {}/{} | trn_loss: {:.4f} | val_loss: {:.4f}\".format(\n",
    "                epoch, num_epoch, train_loss, valid_loss\n",
    "            ))\n",
    "    train_loss_list.append(train_loss)\n",
    "    valid_loss_list.append(valid_loss)\n",
    "    \n",
    "    if epoch % 10 ==0 :\n",
    "        torch.save({\n",
    "            'epoch': epoch,\n",
    "            'model_state_dict' : model.state_dict(),\n",
    "            'optimizer_state_dict' : optimizer.state_dict(),\n",
    "            'criterion' : criterion\n",
    "        }, result_folder + f'dr-pred-stock-{epoch}.pt')\n",
    "        \n",
    "    if (epoch==0) or (epoch>0 and (min(valid_loss_list[:-1])>valid_loss_list[-1])):\n",
    "        torch.save({\n",
    "            'epoch': epoch,\n",
    "            'model_state_dict' : model.state_dict(),\n",
    "            'optimizer_state_dict' : optimizer.state_dict(),\n",
    "            'criterion' : criterion\n",
    "        }, result_folder + f'dr-pred-stock-best.pt')"
   ]
  },
  {
   "cell_type": "code",
   "execution_count": null,
   "metadata": {},
   "outputs": [],
   "source": [
    "fig, ax = plt.subplots(1,2,figsize=(20,5))\n",
    "\n",
    "ax0 = ax[0]\n",
    "ax0.plot(train_loss_list, c= 'blue')\n",
    "ax0.plot(valid_loss_list, c='red')\n",
    "\n",
    "ax1 = ax[1]\n",
    "ax1.plot(valid_loss_list, c='red', marker='o')\n",
    "\n",
    "fig.suptitle(\"Loss\", fontsize=15)\n",
    "plt.savefig(result_folder+'dr_loss.png')"
   ]
  },
  {
   "cell_type": "markdown",
   "metadata": {},
   "source": [
    "### Performance Evaluation"
   ]
  },
  {
   "cell_type": "code",
   "execution_count": null,
   "metadata": {},
   "outputs": [],
   "source": [
    "checkpoint = torch.load(result_folder + 'dr-pred-stock-best.pt')\n",
    "model.load_state_dict(checkpoint['model_state_dict']) #, strict=False)\n",
    "optimizer.load_state_dict(checkpoint['optimizer_state_dict'])\n",
    "criterion = checkpoint['criterion']\n",
    "print(checkpoint['epoch'])"
   ]
  },
  {
   "cell_type": "code",
   "execution_count": null,
   "metadata": {
    "scrolled": true
   },
   "outputs": [],
   "source": [
    "model = model.eval()\n",
    "test_loss = []\n",
    "answers = []\n",
    "predictions = []\n",
    "\n",
    "with torch.no_grad():\n",
    "    for (x, y) in tqdm(test_loader, leave=False):\n",
    "        x = x.to(device).transpose(1,2)\n",
    "        y = y.to(device).squeeze()\n",
    "\n",
    "        outputs = model(x)\n",
    "\n",
    "        loss = torch.sqrt(criterion(outputs.squeeze(), y))\n",
    "        \n",
    "        answers.extend(y.squeeze().detach().cpu().numpy())\n",
    "        predictions.extend(outputs.squeeze().detach().cpu().numpy())\n",
    "        test_loss.append(loss.item())  \n",
    "        \n",
    "test_loss = np.mean(test_loss)\n",
    "print(f'test loss: {test_loss}')"
   ]
  },
  {
   "cell_type": "code",
   "execution_count": null,
   "metadata": {},
   "outputs": [],
   "source": [
    "answers = pd.DataFrame(answers)\n",
    "answers = pd.concat([answers, test_sc.iloc[window+pred_step:, 1:].reset_index(drop=True)], axis=1)\n",
    "predictions = pd.DataFrame(predictions)\n",
    "predictions = pd.concat([predictions, test_sc.iloc[window+pred_step:, 1:].reset_index(drop=True)], axis=1)\n",
    "print(answers.shape, predictions.shape, test_sc.shape)\n",
    "\n",
    "result_ans = pd.DataFrame(sc.inverse_transform(answers), columns = test_sc.columns)\n",
    "result_pred= pd.DataFrame(sc.inverse_transform(predictions), columns = test_sc.columns)\n",
    "\n",
    "\n",
    "result_ans.to_csv(result_folder + 'result_ans.csv')\n",
    "result_pred.to_csv(result_folder + 'result_pred.csv')"
   ]
  },
  {
   "cell_type": "code",
   "execution_count": null,
   "metadata": {},
   "outputs": [],
   "source": [
    "print(result_ans.shape)"
   ]
  },
  {
   "cell_type": "code",
   "execution_count": null,
   "metadata": {
    "scrolled": true
   },
   "outputs": [],
   "source": [
    "for i in range(0,1000,200):\n",
    "    plt.figure(figsize=(20,3))\n",
    "    plt.plot(result_ans.iloc[i:i+400, 0], c='black', ls=':', label = 'GroundTruth')\n",
    "    plt.plot(result_pred.iloc[i:i+400, 0], c='blue', label='Reconstruction')\n",
    "    plt.legend()\n",
    "    plt.show()"
   ]
  },
  {
   "cell_type": "code",
   "execution_count": null,
   "metadata": {},
   "outputs": [],
   "source": []
  }
 ],
 "metadata": {
  "kernelspec": {
   "display_name": "Python 3",
   "language": "python",
   "name": "python3"
  },
  "language_info": {
   "codemirror_mode": {
    "name": "ipython",
    "version": 3
   },
   "file_extension": ".py",
   "mimetype": "text/x-python",
   "name": "python",
   "nbconvert_exporter": "python",
   "pygments_lexer": "ipython3",
   "version": "3.7.4"
  }
 },
 "nbformat": 4,
 "nbformat_minor": 4
}
