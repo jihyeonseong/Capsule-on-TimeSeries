{
 "cells": [
  {
   "cell_type": "markdown",
   "metadata": {},
   "source": [
    "# 1. Import Module & Data"
   ]
  },
  {
   "cell_type": "code",
   "execution_count": 1,
   "metadata": {},
   "outputs": [],
   "source": [
    "import numpy as np\n",
    "import pandas as pd\n",
    "%matplotlib inline\n",
    "from matplotlib import figure\n",
    "import matplotlib.pyplot as plt\n",
    "import math\n",
    "import os\n",
    "import time\n",
    "import random\n",
    "import gc\n",
    "from sklearn.preprocessing import StandardScaler, MinMaxScaler\n",
    "import seaborn as sns\n",
    "\n",
    "import warnings\n",
    "warnings.filterwarnings(action='ignore')"
   ]
  },
  {
   "cell_type": "code",
   "execution_count": 2,
   "metadata": {},
   "outputs": [],
   "source": [
    "os.environ['CUDA_VISIBLE_DEVICES'] = \"2\""
   ]
  },
  {
   "cell_type": "code",
   "execution_count": 3,
   "metadata": {},
   "outputs": [
    {
     "data": {
      "text/html": [
       "<div>\n",
       "<style scoped>\n",
       "    .dataframe tbody tr th:only-of-type {\n",
       "        vertical-align: middle;\n",
       "    }\n",
       "\n",
       "    .dataframe tbody tr th {\n",
       "        vertical-align: top;\n",
       "    }\n",
       "\n",
       "    .dataframe thead th {\n",
       "        text-align: right;\n",
       "    }\n",
       "</style>\n",
       "<table border=\"1\" class=\"dataframe\">\n",
       "  <thead>\n",
       "    <tr style=\"text-align: right;\">\n",
       "      <th></th>\n",
       "      <th>MMM</th>\n",
       "      <th>AOS</th>\n",
       "      <th>ABT</th>\n",
       "      <th>ABBV</th>\n",
       "      <th>ABMD</th>\n",
       "      <th>ACN</th>\n",
       "      <th>ATVI</th>\n",
       "      <th>ADM</th>\n",
       "      <th>ADBE</th>\n",
       "      <th>ADP</th>\n",
       "      <th>...</th>\n",
       "      <th>WHR</th>\n",
       "      <th>WMB</th>\n",
       "      <th>WYNN</th>\n",
       "      <th>XEL</th>\n",
       "      <th>XYL</th>\n",
       "      <th>YUM</th>\n",
       "      <th>ZBRA</th>\n",
       "      <th>ZBH</th>\n",
       "      <th>ZION</th>\n",
       "      <th>ZTS</th>\n",
       "    </tr>\n",
       "  </thead>\n",
       "  <tbody>\n",
       "    <tr>\n",
       "      <th>0</th>\n",
       "      <td>178.43</td>\n",
       "      <td>73.65</td>\n",
       "      <td>129.2600</td>\n",
       "      <td>115.360</td>\n",
       "      <td>335.000000</td>\n",
       "      <td>359.600</td>\n",
       "      <td>78.7500</td>\n",
       "      <td>64.320</td>\n",
       "      <td>651.440</td>\n",
       "      <td>224.41</td>\n",
       "      <td>...</td>\n",
       "      <td>211.7650</td>\n",
       "      <td>28.250</td>\n",
       "      <td>89.700</td>\n",
       "      <td>64.28</td>\n",
       "      <td>131.15</td>\n",
       "      <td>125.436</td>\n",
       "      <td>532.80</td>\n",
       "      <td>143.5900</td>\n",
       "      <td>63.77</td>\n",
       "      <td>217.220</td>\n",
       "    </tr>\n",
       "    <tr>\n",
       "      <th>1</th>\n",
       "      <td>178.58</td>\n",
       "      <td>73.99</td>\n",
       "      <td>129.2450</td>\n",
       "      <td>115.460</td>\n",
       "      <td>334.600000</td>\n",
       "      <td>359.805</td>\n",
       "      <td>79.0600</td>\n",
       "      <td>64.425</td>\n",
       "      <td>651.920</td>\n",
       "      <td>224.15</td>\n",
       "      <td>...</td>\n",
       "      <td>211.7575</td>\n",
       "      <td>28.270</td>\n",
       "      <td>89.550</td>\n",
       "      <td>64.28</td>\n",
       "      <td>131.15</td>\n",
       "      <td>125.540</td>\n",
       "      <td>532.80</td>\n",
       "      <td>143.5900</td>\n",
       "      <td>63.88</td>\n",
       "      <td>217.500</td>\n",
       "    </tr>\n",
       "    <tr>\n",
       "      <th>2</th>\n",
       "      <td>178.52</td>\n",
       "      <td>74.04</td>\n",
       "      <td>129.3100</td>\n",
       "      <td>115.530</td>\n",
       "      <td>334.795833</td>\n",
       "      <td>359.530</td>\n",
       "      <td>79.3620</td>\n",
       "      <td>64.380</td>\n",
       "      <td>652.670</td>\n",
       "      <td>223.71</td>\n",
       "      <td>...</td>\n",
       "      <td>211.7500</td>\n",
       "      <td>28.300</td>\n",
       "      <td>89.205</td>\n",
       "      <td>64.25</td>\n",
       "      <td>131.83</td>\n",
       "      <td>125.470</td>\n",
       "      <td>533.53</td>\n",
       "      <td>143.9000</td>\n",
       "      <td>64.08</td>\n",
       "      <td>217.340</td>\n",
       "    </tr>\n",
       "    <tr>\n",
       "      <th>3</th>\n",
       "      <td>178.62</td>\n",
       "      <td>74.11</td>\n",
       "      <td>129.5000</td>\n",
       "      <td>115.630</td>\n",
       "      <td>334.991667</td>\n",
       "      <td>359.000</td>\n",
       "      <td>79.4202</td>\n",
       "      <td>64.340</td>\n",
       "      <td>653.120</td>\n",
       "      <td>223.80</td>\n",
       "      <td>...</td>\n",
       "      <td>211.5600</td>\n",
       "      <td>28.285</td>\n",
       "      <td>89.440</td>\n",
       "      <td>64.28</td>\n",
       "      <td>131.82</td>\n",
       "      <td>125.700</td>\n",
       "      <td>534.16</td>\n",
       "      <td>144.2581</td>\n",
       "      <td>63.93</td>\n",
       "      <td>217.400</td>\n",
       "    </tr>\n",
       "    <tr>\n",
       "      <th>4</th>\n",
       "      <td>178.52</td>\n",
       "      <td>74.26</td>\n",
       "      <td>129.3100</td>\n",
       "      <td>115.240</td>\n",
       "      <td>335.187500</td>\n",
       "      <td>358.800</td>\n",
       "      <td>79.6600</td>\n",
       "      <td>64.225</td>\n",
       "      <td>651.480</td>\n",
       "      <td>223.15</td>\n",
       "      <td>...</td>\n",
       "      <td>211.9100</td>\n",
       "      <td>28.300</td>\n",
       "      <td>89.980</td>\n",
       "      <td>64.23</td>\n",
       "      <td>131.81</td>\n",
       "      <td>125.620</td>\n",
       "      <td>534.79</td>\n",
       "      <td>144.8400</td>\n",
       "      <td>63.94</td>\n",
       "      <td>216.735</td>\n",
       "    </tr>\n",
       "    <tr>\n",
       "      <th>...</th>\n",
       "      <td>...</td>\n",
       "      <td>...</td>\n",
       "      <td>...</td>\n",
       "      <td>...</td>\n",
       "      <td>...</td>\n",
       "      <td>...</td>\n",
       "      <td>...</td>\n",
       "      <td>...</td>\n",
       "      <td>...</td>\n",
       "      <td>...</td>\n",
       "      <td>...</td>\n",
       "      <td>...</td>\n",
       "      <td>...</td>\n",
       "      <td>...</td>\n",
       "      <td>...</td>\n",
       "      <td>...</td>\n",
       "      <td>...</td>\n",
       "      <td>...</td>\n",
       "      <td>...</td>\n",
       "      <td>...</td>\n",
       "      <td>...</td>\n",
       "    </tr>\n",
       "    <tr>\n",
       "      <th>31013</th>\n",
       "      <td>143.81</td>\n",
       "      <td>67.69</td>\n",
       "      <td>118.7901</td>\n",
       "      <td>145.100</td>\n",
       "      <td>306.705000</td>\n",
       "      <td>316.110</td>\n",
       "      <td>80.9900</td>\n",
       "      <td>75.920</td>\n",
       "      <td>464.480</td>\n",
       "      <td>200.42</td>\n",
       "      <td>...</td>\n",
       "      <td>198.1000</td>\n",
       "      <td>29.940</td>\n",
       "      <td>86.720</td>\n",
       "      <td>64.83</td>\n",
       "      <td>87.93</td>\n",
       "      <td>121.680</td>\n",
       "      <td>415.56</td>\n",
       "      <td>123.4900</td>\n",
       "      <td>67.08</td>\n",
       "      <td>191.555</td>\n",
       "    </tr>\n",
       "    <tr>\n",
       "      <th>31014</th>\n",
       "      <td>143.77</td>\n",
       "      <td>67.79</td>\n",
       "      <td>118.8500</td>\n",
       "      <td>145.100</td>\n",
       "      <td>306.345000</td>\n",
       "      <td>315.880</td>\n",
       "      <td>80.9600</td>\n",
       "      <td>75.940</td>\n",
       "      <td>463.600</td>\n",
       "      <td>200.34</td>\n",
       "      <td>...</td>\n",
       "      <td>198.0200</td>\n",
       "      <td>29.940</td>\n",
       "      <td>86.620</td>\n",
       "      <td>64.83</td>\n",
       "      <td>87.79</td>\n",
       "      <td>121.660</td>\n",
       "      <td>415.27</td>\n",
       "      <td>123.4650</td>\n",
       "      <td>67.03</td>\n",
       "      <td>191.560</td>\n",
       "    </tr>\n",
       "    <tr>\n",
       "      <th>31015</th>\n",
       "      <td>143.77</td>\n",
       "      <td>67.79</td>\n",
       "      <td>118.8200</td>\n",
       "      <td>145.130</td>\n",
       "      <td>306.800000</td>\n",
       "      <td>315.925</td>\n",
       "      <td>80.9950</td>\n",
       "      <td>75.950</td>\n",
       "      <td>463.880</td>\n",
       "      <td>200.26</td>\n",
       "      <td>...</td>\n",
       "      <td>198.0000</td>\n",
       "      <td>29.945</td>\n",
       "      <td>86.690</td>\n",
       "      <td>64.84</td>\n",
       "      <td>87.79</td>\n",
       "      <td>121.650</td>\n",
       "      <td>415.23</td>\n",
       "      <td>123.5000</td>\n",
       "      <td>67.10</td>\n",
       "      <td>191.260</td>\n",
       "    </tr>\n",
       "    <tr>\n",
       "      <th>31016</th>\n",
       "      <td>143.47</td>\n",
       "      <td>67.66</td>\n",
       "      <td>118.5550</td>\n",
       "      <td>145.045</td>\n",
       "      <td>306.560000</td>\n",
       "      <td>315.260</td>\n",
       "      <td>80.9900</td>\n",
       "      <td>75.830</td>\n",
       "      <td>463.585</td>\n",
       "      <td>199.87</td>\n",
       "      <td>...</td>\n",
       "      <td>197.5700</td>\n",
       "      <td>29.905</td>\n",
       "      <td>86.470</td>\n",
       "      <td>64.77</td>\n",
       "      <td>87.69</td>\n",
       "      <td>121.320</td>\n",
       "      <td>414.46</td>\n",
       "      <td>123.3000</td>\n",
       "      <td>66.91</td>\n",
       "      <td>190.880</td>\n",
       "    </tr>\n",
       "    <tr>\n",
       "      <th>31017</th>\n",
       "      <td>143.46</td>\n",
       "      <td>67.67</td>\n",
       "      <td>118.5400</td>\n",
       "      <td>145.010</td>\n",
       "      <td>306.120000</td>\n",
       "      <td>315.390</td>\n",
       "      <td>80.9900</td>\n",
       "      <td>75.770</td>\n",
       "      <td>463.500</td>\n",
       "      <td>199.83</td>\n",
       "      <td>...</td>\n",
       "      <td>197.7300</td>\n",
       "      <td>29.905</td>\n",
       "      <td>86.520</td>\n",
       "      <td>64.83</td>\n",
       "      <td>87.68</td>\n",
       "      <td>121.340</td>\n",
       "      <td>414.60</td>\n",
       "      <td>123.3500</td>\n",
       "      <td>66.92</td>\n",
       "      <td>190.720</td>\n",
       "    </tr>\n",
       "  </tbody>\n",
       "</table>\n",
       "<p>31018 rows × 500 columns</p>\n",
       "</div>"
      ],
      "text/plain": [
       "          MMM    AOS       ABT     ABBV        ABMD      ACN     ATVI     ADM  \\\n",
       "0      178.43  73.65  129.2600  115.360  335.000000  359.600  78.7500  64.320   \n",
       "1      178.58  73.99  129.2450  115.460  334.600000  359.805  79.0600  64.425   \n",
       "2      178.52  74.04  129.3100  115.530  334.795833  359.530  79.3620  64.380   \n",
       "3      178.62  74.11  129.5000  115.630  334.991667  359.000  79.4202  64.340   \n",
       "4      178.52  74.26  129.3100  115.240  335.187500  358.800  79.6600  64.225   \n",
       "...       ...    ...       ...      ...         ...      ...      ...     ...   \n",
       "31013  143.81  67.69  118.7901  145.100  306.705000  316.110  80.9900  75.920   \n",
       "31014  143.77  67.79  118.8500  145.100  306.345000  315.880  80.9600  75.940   \n",
       "31015  143.77  67.79  118.8200  145.130  306.800000  315.925  80.9950  75.950   \n",
       "31016  143.47  67.66  118.5550  145.045  306.560000  315.260  80.9900  75.830   \n",
       "31017  143.46  67.67  118.5400  145.010  306.120000  315.390  80.9900  75.770   \n",
       "\n",
       "          ADBE     ADP  ...       WHR     WMB    WYNN    XEL     XYL      YUM  \\\n",
       "0      651.440  224.41  ...  211.7650  28.250  89.700  64.28  131.15  125.436   \n",
       "1      651.920  224.15  ...  211.7575  28.270  89.550  64.28  131.15  125.540   \n",
       "2      652.670  223.71  ...  211.7500  28.300  89.205  64.25  131.83  125.470   \n",
       "3      653.120  223.80  ...  211.5600  28.285  89.440  64.28  131.82  125.700   \n",
       "4      651.480  223.15  ...  211.9100  28.300  89.980  64.23  131.81  125.620   \n",
       "...        ...     ...  ...       ...     ...     ...    ...     ...      ...   \n",
       "31013  464.480  200.42  ...  198.1000  29.940  86.720  64.83   87.93  121.680   \n",
       "31014  463.600  200.34  ...  198.0200  29.940  86.620  64.83   87.79  121.660   \n",
       "31015  463.880  200.26  ...  198.0000  29.945  86.690  64.84   87.79  121.650   \n",
       "31016  463.585  199.87  ...  197.5700  29.905  86.470  64.77   87.69  121.320   \n",
       "31017  463.500  199.83  ...  197.7300  29.905  86.520  64.83   87.68  121.340   \n",
       "\n",
       "         ZBRA       ZBH   ZION      ZTS  \n",
       "0      532.80  143.5900  63.77  217.220  \n",
       "1      532.80  143.5900  63.88  217.500  \n",
       "2      533.53  143.9000  64.08  217.340  \n",
       "3      534.16  144.2581  63.93  217.400  \n",
       "4      534.79  144.8400  63.94  216.735  \n",
       "...       ...       ...    ...      ...  \n",
       "31013  415.56  123.4900  67.08  191.555  \n",
       "31014  415.27  123.4650  67.03  191.560  \n",
       "31015  415.23  123.5000  67.10  191.260  \n",
       "31016  414.46  123.3000  66.91  190.880  \n",
       "31017  414.60  123.3500  66.92  190.720  \n",
       "\n",
       "[31018 rows x 500 columns]"
      ]
     },
     "execution_count": 3,
     "metadata": {},
     "output_type": "execute_result"
    }
   ],
   "source": [
    "data_folder = '../data/'\n",
    "os.makedirs(data_folder, exist_ok=True)\n",
    "\n",
    "df = pd.read_csv(data_folder + 'sp500_intra.csv')\n",
    "df = df.iloc[:, 1:]\n",
    "df"
   ]
  },
  {
   "cell_type": "markdown",
   "metadata": {},
   "source": [
    "### If you want Feature Engineering for uni-stock"
   ]
  },
  {
   "cell_type": "code",
   "execution_count": 4,
   "metadata": {},
   "outputs": [],
   "source": [
    "#Feature Engineering Class \n",
    "class FeatureEngineering:\n",
    "    def __init__(self, stock_name):\n",
    "        self.stock_name = stock_name\n",
    "\n",
    "    #Simple Moving Average\n",
    "    def SMA(self,  data, column='Close', period=30):\n",
    "        data = copy.deepcopy(data)\n",
    "        data[column+f'_SMA{period}'] = data[column].rolling(period).mean()\n",
    "        return data\n",
    "    \n",
    "    def SMA_(self,  data, column='Close', period=30):\n",
    "        data = copy.deepcopy(data)\n",
    "        return data[column].rolling(period).mean()\n",
    "\n",
    "    #Exponential Moving Average\n",
    "    def EMA(self, data, period=20, column='Close'):\n",
    "        data = copy.deepcopy(data)\n",
    "        data[column+f'_EMA{period}'] = data[column].ewm(span=period, adjust=False).mean()\n",
    "        return data\n",
    "    \n",
    "    def EMA_(self, data, period=20, column='Close'):\n",
    "        data = copy.deepcopy(data)\n",
    "        return data[column].ewm(span=period, adjust=False).mean()\n",
    "    \n",
    "    #BollingerBand with SMA\n",
    "    def Bollingerband(self, data, period=20, column='Close'):\n",
    "        data = copy.deepcopy(data)\n",
    "        \n",
    "        data[column+f'_SMA{period}'] = self.SMA_(data, column=column, period=period)\n",
    "        data[column+'_UB'] = data[column+f'_SMA{period}'] + 2*data[column+f'_SMA{period}'].std()\n",
    "        data[column+'_LB'] = data[column+f'_SMA{period}'] - 2*data[column+f'_SMA{period}'].std()\n",
    "        \n",
    "        return data\n",
    "    \n",
    "    #MACD\n",
    "    def MACD(self, data, period_long=26, period_short=12, period_signal=9, column='Close'):\n",
    "        data = copy.deepcopy(data)\n",
    "        \n",
    "        data[column+'_short'] = self.EMA_(data, period=period_short, column=column)\n",
    "\n",
    "        data[column+f'_long'] = self.EMA_(data, period=period_long, column=column)\n",
    "\n",
    "        data[column+'_MACD'] = data[column+f'_short']- data[column+f'_long']\n",
    "\n",
    "        #signal\n",
    "        data[column+'_SignalLine'] = self.EMA_(data, period=period_signal, column=column+'_MACD')\n",
    "\n",
    "        return data\n",
    "    \n",
    "    #Momentum\n",
    "    def Momentum(self, data, period=7, column='Close'):\n",
    "        data = copy.deepcopy(data)\n",
    "        \n",
    "        data[column+f'_{period}D'] = data[column].shift(period)\n",
    "        data[column+'_1D'] = data[column].shift(1)\n",
    "        data[column+'_Momentum'] = data[column+'_1D'] / data[column+f'_{period}D'] - 1\n",
    "        \n",
    "        return data\n",
    "    \n",
    "    #RSI\n",
    "    def RSI(self, data, period=14, column='Close'):\n",
    "        data = copy.deepcopy(data)\n",
    "        \n",
    "        data[column+'1diff'] = data[column].diff(1)\n",
    "        \n",
    "        delta = data[column].diff(1)\n",
    "        delta = delta.dropna()\n",
    "\n",
    "        up = delta.copy()\n",
    "        down = delta.copy()\n",
    "        up[up<0] = 0\n",
    "        down[down>0] = 0\n",
    "        data[column+'_up'] = up\n",
    "        data[column+'_down'] = down\n",
    "\n",
    "        AVG_Gain = self.SMA_(data, period=period, column=column+'_up')\n",
    "        AVG_Loss = abs(self.SMA_(data, period=period, column=column+'_down'))\n",
    "        RS = AVG_Gain / AVG_Loss\n",
    "\n",
    "        RSI = 100.0 - (100.0/(1.0+RS))\n",
    "        data[column+'_RSI'] = RSI\n",
    "  \n",
    "        return data\n",
    "    \n",
    "    #Get feature engineered data\n",
    "    def get_data(self, train):\n",
    "        #print('Feature Engineering...')\n",
    "        \n",
    "        self.train = copy.deepcopy(train)\n",
    "        c = self.stock_name\n",
    "        \n",
    "        self.train = self.SMA(self.train, column=c, period=10)\n",
    "        self.train = self.SMA(self.train, column=c, period=20)\n",
    "        self.train = self.SMA(self.train, column=c, period=30)\n",
    "        \n",
    "        self.train = self.EMA(self.train, column=c, period=10)\n",
    "        self.train = self.EMA(self.train, column=c, period=20)\n",
    "        self.train = self.EMA(self.train, column=c, period=30)\n",
    "        \n",
    "        self.train = self.Bollingerband(self.train, column=c)\n",
    "        self.train = self.MACD(self.train, column=c)\n",
    "        self.train = self.Momentum(self.train, column=c)\n",
    "        self.train = self.RSI(self.train, column=c)\n",
    "        \n",
    "        #print(\"Done!\")\n",
    "        \n",
    "        return self.train"
   ]
  },
  {
   "cell_type": "code",
   "execution_count": 5,
   "metadata": {},
   "outputs": [],
   "source": [
    "#fe = FeatureEngineering('AAPL')\n",
    "#df_fe = fe.get_data(df.loc[:, ['AAPL']])"
   ]
  },
  {
   "cell_type": "code",
   "execution_count": 6,
   "metadata": {},
   "outputs": [
    {
     "name": "stdout",
     "output_type": "stream",
     "text": [
      "3 24\n"
     ]
    }
   ],
   "source": [
    "#df = pd.concat([df_fe.iloc[:, 1:], df], axis=1)\n",
    "#df.dropna(inplace=True)\n",
    "target_loc = pd.Index(df.columns.tolist()).get_loc('Close')\n",
    "print(target_loc, len(df.columns))"
   ]
  },
  {
   "cell_type": "code",
   "execution_count": 7,
   "metadata": {},
   "outputs": [
    {
     "name": "stdout",
     "output_type": "stream",
     "text": [
      "60000 3800 2989\n"
     ]
    }
   ],
   "source": [
    "train = df[:60000]\n",
    "valid = df[60000:60000+3800]\n",
    "test = df[60000+3800:]\n",
    "\n",
    "print(len(train), len(valid), len(test))\n",
    "\n",
    "sc = MinMaxScaler()\n",
    "sc.fit(train.values)\n",
    "train_sc = pd.DataFrame(sc.transform(train.values), columns=df.columns)\n",
    "valid_sc = pd.DataFrame(sc.transform(valid.values), columns=df.columns)\n",
    "test_sc = pd.DataFrame(sc.transform(test.values), columns=df.columns)"
   ]
  },
  {
   "cell_type": "code",
   "execution_count": 8,
   "metadata": {
    "scrolled": true
   },
   "outputs": [
    {
     "data": {
      "image/png": "[encoded data removed]",
      "text/plain": [
       "<Figure size 1440x360 with 1 Axes>"
      ]
     },
     "metadata": {
      "needs_background": "light"
     },
     "output_type": "display_data"
    }
   ],
   "source": [
    "plt.figure(figsize=(20,5))\n",
    "plt.plot(train_sc.iloc[:10000, 0], label=train_sc.columns[0])\n",
    "plt.legend()\n",
    "plt.show()"
   ]
  },
  {
   "cell_type": "code",
   "execution_count": 9,
   "metadata": {},
   "outputs": [],
   "source": [
    "from torch import nn\n",
    "from torch.utils.data import Dataset, WeightedRandomSampler\n",
    "from torch.optim.lr_scheduler import ReduceLROnPlateau\n",
    "import torch.nn.functional as F\n",
    "import torch\n",
    "\n",
    "import os\n",
    "import statistics\n",
    "import numpy as np\n",
    "import pandas as pd\n",
    "from tqdm import tqdm\n",
    "import json\n",
    "import matplotlib.pyplot as plt\n",
    "\n",
    "SEED = 10\n",
    "torch.manual_seed(SEED)\n",
    "torch.cuda.manual_seed_all(SEED)\n",
    "np.random.seed(SEED)"
   ]
  },
  {
   "cell_type": "code",
   "execution_count": 10,
   "metadata": {},
   "outputs": [],
   "source": [
    "class MyDataset(Dataset):\n",
    "    def __init__(self, data, window, pred):\n",
    "        self.data = torch.Tensor(data)\n",
    "        self.window = window\n",
    "        self.pred = pred\n",
    "        \n",
    "        self.shape = self.__getshape__()\n",
    "        self.size = self.__getsize__()\n",
    "\n",
    "    def __getitem__(self, index):\n",
    "        x = self.data[index:index+self.window, :]\n",
    "        y = self.data[index+self.window+self.pred-1, 0]\n",
    "        return x, y\n",
    "\n",
    "    def __len__(self):\n",
    "        return len(self.data) - self.window - self.pred\n",
    "    \n",
    "    def __getshape__(self):\n",
    "        return (self.__len__(), *self.__getitem__(0)[0].shape) # row, col\n",
    "    \n",
    "    def __getsize__(self):\n",
    "        return (self.__len__())"
   ]
  },
  {
   "cell_type": "code",
   "execution_count": 11,
   "metadata": {},
   "outputs": [],
   "source": [
    "batch_size = 64\n",
    "num_workers = 4\n",
    "pin_memory = True\n",
    "device = 'cuda'\n",
    "num_epoch = 200\n",
    "lr = 1e-4\n",
    "window = 60\n",
    "pred_step = 1"
   ]
  },
  {
   "cell_type": "code",
   "execution_count": 12,
   "metadata": {},
   "outputs": [],
   "source": [
    "train_dataset = MyDataset(train_sc.values, window, pred_step)\n",
    "valid_dataset = MyDataset(valid_sc.values, window, pred_step)\n",
    "test_dataset = MyDataset(test_sc.values, window, pred_step)\n",
    "\n",
    "train_loader = torch.utils.data.DataLoader(train_dataset, batch_size=batch_size, \n",
    "                                     drop_last=False, \n",
    "                                     num_workers=num_workers, pin_memory=pin_memory, shuffle=True) \n",
    "valid_loader = torch.utils.data.DataLoader(valid_dataset, batch_size=batch_size, \n",
    "                                     drop_last=False, \n",
    "                                     num_workers=num_workers, pin_memory=pin_memory, shuffle=False)\n",
    "test_loader = torch.utils.data.DataLoader(test_dataset, batch_size=batch_size, \n",
    "                                     drop_last=False, \n",
    "                                     num_workers=num_workers, pin_memory=pin_memory, shuffle=False)"
   ]
  },
  {
   "cell_type": "markdown",
   "metadata": {},
   "source": [
    "# 2. DARNN "
   ]
  },
  {
   "cell_type": "code",
   "execution_count": 28,
   "metadata": {},
   "outputs": [],
   "source": [
    "result_folder = f'../check/darnn/stock_prediction_{pred_step}/'\n",
    "os.makedirs(result_folder, exist_ok=True)"
   ]
  },
  {
   "cell_type": "code",
   "execution_count": 29,
   "metadata": {},
   "outputs": [],
   "source": [
    "class DARNN(nn.Module):\n",
    "    def __init__(self, in_features, out_features):\n",
    "        super(DARNN, self).__init__()\n",
    "        \n",
    "        self.features = in_features\n",
    "        self.n_layers = 1\n",
    "        self.hidden=32\n",
    "        self.dec_hidden=128\n",
    "        self.time = window\n",
    "        \n",
    "        self.softmax = nn.Softmax()\n",
    "        \n",
    "        ###Input Attetnion###\n",
    "        self.input_conv = nn.Conv1d(self.time+self.hidden, 1, kernel_size=1, stride=1)\n",
    "        \n",
    "        ###Encoder###\n",
    "        self.enc_gru = nn.GRU(input_size=self.features, hidden_size=self.hidden, num_layers = self.n_layers, dropout=0.1, batch_first=True)\n",
    "        \n",
    "        ###Temporal Attention###\n",
    "        self.temp_conv = nn.Sequential(\n",
    "            nn.Conv1d(self.hidden+self.dec_hidden, self.dec_hidden, kernel_size=1, stride=1),\n",
    "            nn.Tanh(),\n",
    "            nn.Conv1d(self.dec_hidden, 1, kernel_size=1, stride=1)\n",
    "        )\n",
    "        \n",
    "        ###Decoder###\n",
    "        self.tilde_fc = nn.Linear(self.hidden+in_features, 1)\n",
    "        self.dec_gru = nn.GRU(input_size=1, hidden_size=self.dec_hidden, batch_first=True, num_layers=self.n_layers, dropout=0.1)\n",
    "        \n",
    "        ###Prediction###\n",
    "        self.out = nn.Linear(self.dec_hidden+self.hidden, out_features)\n",
    "        \n",
    "    def forward(self, x):\n",
    "        weight = next(self.parameters()).data\n",
    "        h = weight.new(self.n_layers, x.shape[0], self.hidden).zero_()\n",
    "        h2 = weight.new(self.n_layers, x.shape[0], self.dec_hidden).zero_()\n",
    "        \n",
    "        ###Encoder###\n",
    "        hiddens_enc =[]\n",
    "        for t in range(self.time):\n",
    "            feature = torch.cat([x, h.repeat(self.features, 1, 1).permute(1,2,0)], dim=1)\n",
    "            input_attn = self.softmax(self.input_conv(feature))\n",
    "            weighted_input = torch.mul(input_attn.squeeze(1), x[:, t, :])\n",
    "            \n",
    "            enc, h = self.enc_gru(weighted_input.unsqueeze(1), h)\n",
    "            hiddens_enc.append(h.transpose(0, 1))\n",
    "            \n",
    "        enc_output = torch.cat(hiddens_enc, dim=1)\n",
    "        \n",
    "        ###Decoder###\n",
    "        #h2 = weight.new(self.n_layers, x.shape[0], self.hidden).zero_()\n",
    "        for t in range(self.time):\n",
    "            enc = torch.cat([enc_output.permute(0,2,1), h2.repeat(self.time, 1, 1).permute(1,2,0)], dim=1)\n",
    "            context = torch.bmm(self.softmax(self.temp_conv(enc)), enc_output).squeeze(1)\n",
    "            y_tilde = self.tilde_fc(torch.cat([x[:, [t], :], context.unsqueeze(1)], dim=2).squeeze())\n",
    "            dec, h2 = self.dec_gru(y_tilde.unsqueeze(1), h2)\n",
    "        \n",
    "        dec_output = torch.cat([h2.squeeze(0), context], dim=1)\n",
    "        \n",
    "        ###Prediction###\n",
    "        outputs = self.out(dec_output)\n",
    "        \n",
    "        return outputs"
   ]
  },
  {
   "cell_type": "code",
   "execution_count": 30,
   "metadata": {},
   "outputs": [],
   "source": [
    "model = DARNN(in_features= 15,\n",
    "            out_features=1).to(device) \n",
    "\n",
    "optimizer = torch.optim.Adam(model.parameters(), lr=lr)\n",
    "scheduler = ReduceLROnPlateau(optimizer, 'min')\n",
    "criterion = nn.MSELoss()"
   ]
  },
  {
   "cell_type": "code",
   "execution_count": 31,
   "metadata": {},
   "outputs": [
    {
     "data": {
      "text/plain": [
       "DARNN(\n",
       "  (softmax): Softmax(dim=None)\n",
       "  (input_conv): Conv1d(92, 1, kernel_size=(1,), stride=(1,))\n",
       "  (enc_gru): GRU(15, 32, batch_first=True, dropout=0.1)\n",
       "  (temp_conv): Sequential(\n",
       "    (0): Conv1d(160, 128, kernel_size=(1,), stride=(1,))\n",
       "    (1): Tanh()\n",
       "    (2): Conv1d(128, 1, kernel_size=(1,), stride=(1,))\n",
       "  )\n",
       "  (tilde_fc): Linear(in_features=47, out_features=1, bias=True)\n",
       "  (dec_gru): GRU(1, 128, batch_first=True, dropout=0.1)\n",
       "  (out): Linear(in_features=160, out_features=1, bias=True)\n",
       ")"
      ]
     },
     "execution_count": 31,
     "metadata": {},
     "output_type": "execute_result"
    }
   ],
   "source": [
    "model"
   ]
  },
  {
   "cell_type": "markdown",
   "metadata": {},
   "source": [
    "# Model Training & Evaluation #"
   ]
  },
  {
   "cell_type": "code",
   "execution_count": 17,
   "metadata": {
    "scrolled": true
   },
   "outputs": [
    {
     "name": "stderr",
     "output_type": "stream",
     "text": [
      "                                                 \r"
     ]
    },
    {
     "name": "stdout",
     "output_type": "stream",
     "text": [
      "epoch: 0/200 | trn_loss: 0.2445 | val_loss: 0.1473\n"
     ]
    },
    {
     "name": "stderr",
     "output_type": "stream",
     "text": [
      "                                                 \r"
     ]
    },
    {
     "name": "stdout",
     "output_type": "stream",
     "text": [
      "epoch: 1/200 | trn_loss: 0.1557 | val_loss: 0.1518\n"
     ]
    },
    {
     "name": "stderr",
     "output_type": "stream",
     "text": [
      "                                                 \r"
     ]
    },
    {
     "name": "stdout",
     "output_type": "stream",
     "text": [
      "epoch: 2/200 | trn_loss: 0.1456 | val_loss: 0.1530\n"
     ]
    },
    {
     "name": "stderr",
     "output_type": "stream",
     "text": [
      "                                                 \r"
     ]
    },
    {
     "name": "stdout",
     "output_type": "stream",
     "text": [
      "epoch: 3/200 | trn_loss: 0.0973 | val_loss: 0.1311\n"
     ]
    },
    {
     "name": "stderr",
     "output_type": "stream",
     "text": [
      "                                                 \r"
     ]
    },
    {
     "name": "stdout",
     "output_type": "stream",
     "text": [
      "epoch: 4/200 | trn_loss: 0.0552 | val_loss: 0.1307\n"
     ]
    },
    {
     "name": "stderr",
     "output_type": "stream",
     "text": [
      "                                                 \r"
     ]
    },
    {
     "name": "stdout",
     "output_type": "stream",
     "text": [
      "epoch: 5/200 | trn_loss: 0.0482 | val_loss: 0.1150\n"
     ]
    },
    {
     "name": "stderr",
     "output_type": "stream",
     "text": [
      "                                                 \r"
     ]
    },
    {
     "name": "stdout",
     "output_type": "stream",
     "text": [
      "epoch: 6/200 | trn_loss: 0.0461 | val_loss: 0.1222\n"
     ]
    },
    {
     "name": "stderr",
     "output_type": "stream",
     "text": [
      "                                                 \r"
     ]
    },
    {
     "name": "stdout",
     "output_type": "stream",
     "text": [
      "epoch: 7/200 | trn_loss: 0.0437 | val_loss: 0.1121\n"
     ]
    },
    {
     "name": "stderr",
     "output_type": "stream",
     "text": [
      "                                                 \r"
     ]
    },
    {
     "name": "stdout",
     "output_type": "stream",
     "text": [
      "epoch: 8/200 | trn_loss: 0.0415 | val_loss: 0.1029\n"
     ]
    },
    {
     "name": "stderr",
     "output_type": "stream",
     "text": [
      "                                                 \r"
     ]
    },
    {
     "name": "stdout",
     "output_type": "stream",
     "text": [
      "epoch: 9/200 | trn_loss: 0.0386 | val_loss: 0.1219\n"
     ]
    },
    {
     "name": "stderr",
     "output_type": "stream",
     "text": [
      "                                                 \r"
     ]
    },
    {
     "name": "stdout",
     "output_type": "stream",
     "text": [
      "epoch: 10/200 | trn_loss: 0.0369 | val_loss: 0.1127\n"
     ]
    },
    {
     "name": "stderr",
     "output_type": "stream",
     "text": [
      "                                                 \r"
     ]
    },
    {
     "name": "stdout",
     "output_type": "stream",
     "text": [
      "epoch: 11/200 | trn_loss: 0.0341 | val_loss: 0.0946\n"
     ]
    },
    {
     "name": "stderr",
     "output_type": "stream",
     "text": [
      "                                                 \r"
     ]
    },
    {
     "name": "stdout",
     "output_type": "stream",
     "text": [
      "epoch: 12/200 | trn_loss: 0.0316 | val_loss: 0.0900\n"
     ]
    },
    {
     "name": "stderr",
     "output_type": "stream",
     "text": [
      "                                                 \r"
     ]
    },
    {
     "name": "stdout",
     "output_type": "stream",
     "text": [
      "epoch: 13/200 | trn_loss: 0.0271 | val_loss: 0.0793\n"
     ]
    },
    {
     "name": "stderr",
     "output_type": "stream",
     "text": [
      "                                                 \r"
     ]
    },
    {
     "name": "stdout",
     "output_type": "stream",
     "text": [
      "epoch: 14/200 | trn_loss: 0.0250 | val_loss: 0.0532\n"
     ]
    },
    {
     "name": "stderr",
     "output_type": "stream",
     "text": [
      "                                                 \r"
     ]
    },
    {
     "name": "stdout",
     "output_type": "stream",
     "text": [
      "epoch: 15/200 | trn_loss: 0.0211 | val_loss: 0.0485\n"
     ]
    },
    {
     "name": "stderr",
     "output_type": "stream",
     "text": [
      "                                                 \r"
     ]
    },
    {
     "name": "stdout",
     "output_type": "stream",
     "text": [
      "epoch: 16/200 | trn_loss: 0.0184 | val_loss: 0.0432\n"
     ]
    },
    {
     "name": "stderr",
     "output_type": "stream",
     "text": [
      "                                                 \r"
     ]
    },
    {
     "name": "stdout",
     "output_type": "stream",
     "text": [
      "epoch: 17/200 | trn_loss: 0.0156 | val_loss: 0.0489\n"
     ]
    },
    {
     "name": "stderr",
     "output_type": "stream",
     "text": [
      "                                                 \r"
     ]
    },
    {
     "name": "stdout",
     "output_type": "stream",
     "text": [
      "epoch: 18/200 | trn_loss: 0.0146 | val_loss: 0.0165\n"
     ]
    },
    {
     "name": "stderr",
     "output_type": "stream",
     "text": [
      "                                                 \r"
     ]
    },
    {
     "name": "stdout",
     "output_type": "stream",
     "text": [
      "epoch: 19/200 | trn_loss: 0.0130 | val_loss: 0.0207\n"
     ]
    },
    {
     "name": "stderr",
     "output_type": "stream",
     "text": [
      "                                                 \r"
     ]
    },
    {
     "name": "stdout",
     "output_type": "stream",
     "text": [
      "epoch: 20/200 | trn_loss: 0.0123 | val_loss: 0.0155\n"
     ]
    },
    {
     "name": "stderr",
     "output_type": "stream",
     "text": [
      "                                                 \r"
     ]
    },
    {
     "name": "stdout",
     "output_type": "stream",
     "text": [
      "epoch: 21/200 | trn_loss: 0.0117 | val_loss: 0.0096\n"
     ]
    },
    {
     "name": "stderr",
     "output_type": "stream",
     "text": [
      "                                                 \r"
     ]
    },
    {
     "name": "stdout",
     "output_type": "stream",
     "text": [
      "epoch: 22/200 | trn_loss: 0.0111 | val_loss: 0.0091\n"
     ]
    },
    {
     "name": "stderr",
     "output_type": "stream",
     "text": [
      "                                                 \r"
     ]
    },
    {
     "name": "stdout",
     "output_type": "stream",
     "text": [
      "epoch: 23/200 | trn_loss: 0.0107 | val_loss: 0.0185\n"
     ]
    },
    {
     "name": "stderr",
     "output_type": "stream",
     "text": [
      "                                                 \r"
     ]
    },
    {
     "name": "stdout",
     "output_type": "stream",
     "text": [
      "epoch: 24/200 | trn_loss: 0.0106 | val_loss: 0.0117\n"
     ]
    },
    {
     "name": "stderr",
     "output_type": "stream",
     "text": [
      "                                                 \r"
     ]
    },
    {
     "name": "stdout",
     "output_type": "stream",
     "text": [
      "epoch: 25/200 | trn_loss: 0.0104 | val_loss: 0.0128\n"
     ]
    },
    {
     "name": "stderr",
     "output_type": "stream",
     "text": [
      "                                                 \r"
     ]
    },
    {
     "name": "stdout",
     "output_type": "stream",
     "text": [
      "epoch: 26/200 | trn_loss: 0.0102 | val_loss: 0.0142\n"
     ]
    },
    {
     "name": "stderr",
     "output_type": "stream",
     "text": [
      "                                                 \r"
     ]
    },
    {
     "name": "stdout",
     "output_type": "stream",
     "text": [
      "epoch: 27/200 | trn_loss: 0.0099 | val_loss: 0.0162\n"
     ]
    },
    {
     "name": "stderr",
     "output_type": "stream",
     "text": [
      "                                                 \r"
     ]
    },
    {
     "name": "stdout",
     "output_type": "stream",
     "text": [
      "epoch: 28/200 | trn_loss: 0.0099 | val_loss: 0.0157\n"
     ]
    },
    {
     "name": "stderr",
     "output_type": "stream",
     "text": [
      "                                                 \r"
     ]
    },
    {
     "name": "stdout",
     "output_type": "stream",
     "text": [
      "epoch: 29/200 | trn_loss: 0.0097 | val_loss: 0.0080\n"
     ]
    },
    {
     "name": "stderr",
     "output_type": "stream",
     "text": [
      "                                                 \r"
     ]
    },
    {
     "name": "stdout",
     "output_type": "stream",
     "text": [
      "epoch: 30/200 | trn_loss: 0.0094 | val_loss: 0.0144\n"
     ]
    },
    {
     "name": "stderr",
     "output_type": "stream",
     "text": [
      "                                                 \r"
     ]
    },
    {
     "name": "stdout",
     "output_type": "stream",
     "text": [
      "epoch: 31/200 | trn_loss: 0.0093 | val_loss: 0.0181\n"
     ]
    },
    {
     "name": "stderr",
     "output_type": "stream",
     "text": [
      "                                                 \r"
     ]
    },
    {
     "name": "stdout",
     "output_type": "stream",
     "text": [
      "epoch: 32/200 | trn_loss: 0.0092 | val_loss: 0.0093\n"
     ]
    },
    {
     "name": "stderr",
     "output_type": "stream",
     "text": [
      "                                                 \r"
     ]
    },
    {
     "name": "stdout",
     "output_type": "stream",
     "text": [
      "epoch: 33/200 | trn_loss: 0.0089 | val_loss: 0.0113\n"
     ]
    },
    {
     "name": "stderr",
     "output_type": "stream",
     "text": [
      "                                                 \r"
     ]
    },
    {
     "name": "stdout",
     "output_type": "stream",
     "text": [
      "epoch: 34/200 | trn_loss: 0.0087 | val_loss: 0.0189\n"
     ]
    },
    {
     "name": "stderr",
     "output_type": "stream",
     "text": [
      "                                                 \r"
     ]
    },
    {
     "name": "stdout",
     "output_type": "stream",
     "text": [
      "epoch: 35/200 | trn_loss: 0.0087 | val_loss: 0.0135\n"
     ]
    },
    {
     "name": "stderr",
     "output_type": "stream",
     "text": [
      "                                                 \r"
     ]
    },
    {
     "name": "stdout",
     "output_type": "stream",
     "text": [
      "epoch: 36/200 | trn_loss: 0.0085 | val_loss: 0.0107\n"
     ]
    },
    {
     "name": "stderr",
     "output_type": "stream",
     "text": [
      "                                                 \r"
     ]
    },
    {
     "name": "stdout",
     "output_type": "stream",
     "text": [
      "epoch: 37/200 | trn_loss: 0.0083 | val_loss: 0.0150\n"
     ]
    },
    {
     "name": "stderr",
     "output_type": "stream",
     "text": [
      "                                                 \r"
     ]
    },
    {
     "name": "stdout",
     "output_type": "stream",
     "text": [
      "epoch: 38/200 | trn_loss: 0.0083 | val_loss: 0.0095\n"
     ]
    },
    {
     "name": "stderr",
     "output_type": "stream",
     "text": [
      "                                                 \r"
     ]
    },
    {
     "name": "stdout",
     "output_type": "stream",
     "text": [
      "epoch: 39/200 | trn_loss: 0.0080 | val_loss: 0.0152\n"
     ]
    },
    {
     "name": "stderr",
     "output_type": "stream",
     "text": [
      "                                                 \r"
     ]
    },
    {
     "name": "stdout",
     "output_type": "stream",
     "text": [
      "epoch: 40/200 | trn_loss: 0.0081 | val_loss: 0.0111\n"
     ]
    },
    {
     "name": "stderr",
     "output_type": "stream",
     "text": [
      "                                                 \r"
     ]
    },
    {
     "name": "stdout",
     "output_type": "stream",
     "text": [
      "epoch: 41/200 | trn_loss: 0.0078 | val_loss: 0.0127\n"
     ]
    },
    {
     "name": "stderr",
     "output_type": "stream",
     "text": [
      "                                                 \r"
     ]
    },
    {
     "name": "stdout",
     "output_type": "stream",
     "text": [
      "epoch: 42/200 | trn_loss: 0.0079 | val_loss: 0.0083\n"
     ]
    },
    {
     "name": "stderr",
     "output_type": "stream",
     "text": [
      "                                                 \r"
     ]
    },
    {
     "name": "stdout",
     "output_type": "stream",
     "text": [
      "epoch: 43/200 | trn_loss: 0.0075 | val_loss: 0.0074\n"
     ]
    },
    {
     "name": "stderr",
     "output_type": "stream",
     "text": [
      "                                                 \r"
     ]
    },
    {
     "name": "stdout",
     "output_type": "stream",
     "text": [
      "epoch: 44/200 | trn_loss: 0.0073 | val_loss: 0.0112\n"
     ]
    },
    {
     "name": "stderr",
     "output_type": "stream",
     "text": [
      "                                                 \r"
     ]
    },
    {
     "name": "stdout",
     "output_type": "stream",
     "text": [
      "epoch: 45/200 | trn_loss: 0.0075 | val_loss: 0.0092\n"
     ]
    },
    {
     "name": "stderr",
     "output_type": "stream",
     "text": [
      "                                                 \r"
     ]
    },
    {
     "name": "stdout",
     "output_type": "stream",
     "text": [
      "epoch: 46/200 | trn_loss: 0.0073 | val_loss: 0.0151\n"
     ]
    },
    {
     "name": "stderr",
     "output_type": "stream",
     "text": [
      "                                                 \r"
     ]
    },
    {
     "name": "stdout",
     "output_type": "stream",
     "text": [
      "epoch: 47/200 | trn_loss: 0.0072 | val_loss: 0.0113\n"
     ]
    },
    {
     "name": "stderr",
     "output_type": "stream",
     "text": [
      "                                                 \r"
     ]
    },
    {
     "name": "stdout",
     "output_type": "stream",
     "text": [
      "epoch: 48/200 | trn_loss: 0.0070 | val_loss: 0.0065\n"
     ]
    },
    {
     "name": "stderr",
     "output_type": "stream",
     "text": [
      "                                                 \r"
     ]
    },
    {
     "name": "stdout",
     "output_type": "stream",
     "text": [
      "epoch: 49/200 | trn_loss: 0.0069 | val_loss: 0.0138\n"
     ]
    },
    {
     "name": "stderr",
     "output_type": "stream",
     "text": [
      "                                                 \r"
     ]
    },
    {
     "name": "stdout",
     "output_type": "stream",
     "text": [
      "epoch: 50/200 | trn_loss: 0.0068 | val_loss: 0.0088\n"
     ]
    },
    {
     "name": "stderr",
     "output_type": "stream",
     "text": [
      "                                                 \r"
     ]
    },
    {
     "name": "stdout",
     "output_type": "stream",
     "text": [
      "epoch: 51/200 | trn_loss: 0.0066 | val_loss: 0.0075\n"
     ]
    },
    {
     "name": "stderr",
     "output_type": "stream",
     "text": [
      "                                                 \r"
     ]
    },
    {
     "name": "stdout",
     "output_type": "stream",
     "text": [
      "epoch: 52/200 | trn_loss: 0.0065 | val_loss: 0.0119\n"
     ]
    },
    {
     "name": "stderr",
     "output_type": "stream",
     "text": [
      "                                                 \r"
     ]
    },
    {
     "name": "stdout",
     "output_type": "stream",
     "text": [
      "epoch: 53/200 | trn_loss: 0.0064 | val_loss: 0.0095\n"
     ]
    },
    {
     "name": "stderr",
     "output_type": "stream",
     "text": [
      "                                                 \r"
     ]
    },
    {
     "name": "stdout",
     "output_type": "stream",
     "text": [
      "epoch: 54/200 | trn_loss: 0.0064 | val_loss: 0.0066\n"
     ]
    },
    {
     "name": "stderr",
     "output_type": "stream",
     "text": [
      "                                                 \r"
     ]
    },
    {
     "name": "stdout",
     "output_type": "stream",
     "text": [
      "epoch: 55/200 | trn_loss: 0.0061 | val_loss: 0.0087\n"
     ]
    },
    {
     "name": "stderr",
     "output_type": "stream",
     "text": [
      "                                                 \r"
     ]
    },
    {
     "name": "stdout",
     "output_type": "stream",
     "text": [
      "epoch: 56/200 | trn_loss: 0.0059 | val_loss: 0.0082\n"
     ]
    },
    {
     "name": "stderr",
     "output_type": "stream",
     "text": [
      "                                                 \r"
     ]
    },
    {
     "name": "stdout",
     "output_type": "stream",
     "text": [
      "epoch: 57/200 | trn_loss: 0.0060 | val_loss: 0.0175\n"
     ]
    },
    {
     "name": "stderr",
     "output_type": "stream",
     "text": [
      "                                                 \r"
     ]
    },
    {
     "name": "stdout",
     "output_type": "stream",
     "text": [
      "epoch: 58/200 | trn_loss: 0.0061 | val_loss: 0.0072\n"
     ]
    },
    {
     "name": "stderr",
     "output_type": "stream",
     "text": [
      "                                                 \r"
     ]
    },
    {
     "name": "stdout",
     "output_type": "stream",
     "text": [
      "epoch: 59/200 | trn_loss: 0.0059 | val_loss: 0.0062\n"
     ]
    },
    {
     "name": "stderr",
     "output_type": "stream",
     "text": [
      "                                                 \r"
     ]
    },
    {
     "name": "stdout",
     "output_type": "stream",
     "text": [
      "epoch: 60/200 | trn_loss: 0.0058 | val_loss: 0.0076\n"
     ]
    },
    {
     "name": "stderr",
     "output_type": "stream",
     "text": [
      "                                                 \r"
     ]
    },
    {
     "name": "stdout",
     "output_type": "stream",
     "text": [
      "epoch: 61/200 | trn_loss: 0.0058 | val_loss: 0.0086\n"
     ]
    },
    {
     "name": "stderr",
     "output_type": "stream",
     "text": [
      "                                                 \r"
     ]
    },
    {
     "name": "stdout",
     "output_type": "stream",
     "text": [
      "epoch: 62/200 | trn_loss: 0.0056 | val_loss: 0.0064\n"
     ]
    },
    {
     "name": "stderr",
     "output_type": "stream",
     "text": [
      "                                                 \r"
     ]
    },
    {
     "name": "stdout",
     "output_type": "stream",
     "text": [
      "epoch: 63/200 | trn_loss: 0.0056 | val_loss: 0.0070\n"
     ]
    },
    {
     "name": "stderr",
     "output_type": "stream",
     "text": [
      "                                                 \r"
     ]
    },
    {
     "name": "stdout",
     "output_type": "stream",
     "text": [
      "epoch: 64/200 | trn_loss: 0.0055 | val_loss: 0.0089\n"
     ]
    },
    {
     "name": "stderr",
     "output_type": "stream",
     "text": [
      "                                                 \r"
     ]
    },
    {
     "name": "stdout",
     "output_type": "stream",
     "text": [
      "epoch: 65/200 | trn_loss: 0.0055 | val_loss: 0.0088\n"
     ]
    },
    {
     "name": "stderr",
     "output_type": "stream",
     "text": [
      "                                                 \r"
     ]
    },
    {
     "name": "stdout",
     "output_type": "stream",
     "text": [
      "epoch: 66/200 | trn_loss: 0.0057 | val_loss: 0.0113\n"
     ]
    },
    {
     "name": "stderr",
     "output_type": "stream",
     "text": [
      "                                                 \r"
     ]
    },
    {
     "name": "stdout",
     "output_type": "stream",
     "text": [
      "epoch: 67/200 | trn_loss: 0.0055 | val_loss: 0.0064\n"
     ]
    },
    {
     "name": "stderr",
     "output_type": "stream",
     "text": [
      "                                                 \r"
     ]
    },
    {
     "name": "stdout",
     "output_type": "stream",
     "text": [
      "epoch: 68/200 | trn_loss: 0.0054 | val_loss: 0.0077\n"
     ]
    },
    {
     "name": "stderr",
     "output_type": "stream",
     "text": [
      "                                                 \r"
     ]
    },
    {
     "name": "stdout",
     "output_type": "stream",
     "text": [
      "epoch: 69/200 | trn_loss: 0.0054 | val_loss: 0.0049\n"
     ]
    },
    {
     "name": "stderr",
     "output_type": "stream",
     "text": [
      "                                                 \r"
     ]
    },
    {
     "name": "stdout",
     "output_type": "stream",
     "text": [
      "epoch: 70/200 | trn_loss: 0.0053 | val_loss: 0.0078\n"
     ]
    },
    {
     "name": "stderr",
     "output_type": "stream",
     "text": [
      "                                                 \r"
     ]
    },
    {
     "name": "stdout",
     "output_type": "stream",
     "text": [
      "epoch: 71/200 | trn_loss: 0.0054 | val_loss: 0.0049\n"
     ]
    },
    {
     "name": "stderr",
     "output_type": "stream",
     "text": [
      "                                                 \r"
     ]
    },
    {
     "name": "stdout",
     "output_type": "stream",
     "text": [
      "epoch: 72/200 | trn_loss: 0.0054 | val_loss: 0.0109\n"
     ]
    },
    {
     "name": "stderr",
     "output_type": "stream",
     "text": [
      "                                                 \r"
     ]
    },
    {
     "name": "stdout",
     "output_type": "stream",
     "text": [
      "epoch: 73/200 | trn_loss: 0.0055 | val_loss: 0.0065\n"
     ]
    },
    {
     "name": "stderr",
     "output_type": "stream",
     "text": [
      "                                                 \r"
     ]
    },
    {
     "name": "stdout",
     "output_type": "stream",
     "text": [
      "epoch: 74/200 | trn_loss: 0.0053 | val_loss: 0.0057\n"
     ]
    },
    {
     "name": "stderr",
     "output_type": "stream",
     "text": [
      "                                                 \r"
     ]
    },
    {
     "name": "stdout",
     "output_type": "stream",
     "text": [
      "epoch: 75/200 | trn_loss: 0.0052 | val_loss: 0.0085\n"
     ]
    },
    {
     "name": "stderr",
     "output_type": "stream",
     "text": [
      "                                                 \r"
     ]
    },
    {
     "name": "stdout",
     "output_type": "stream",
     "text": [
      "epoch: 76/200 | trn_loss: 0.0053 | val_loss: 0.0084\n"
     ]
    },
    {
     "name": "stderr",
     "output_type": "stream",
     "text": [
      "                                                 \r"
     ]
    },
    {
     "name": "stdout",
     "output_type": "stream",
     "text": [
      "epoch: 77/200 | trn_loss: 0.0055 | val_loss: 0.0088\n"
     ]
    },
    {
     "name": "stderr",
     "output_type": "stream",
     "text": [
      "                                                 \r"
     ]
    },
    {
     "name": "stdout",
     "output_type": "stream",
     "text": [
      "epoch: 78/200 | trn_loss: 0.0053 | val_loss: 0.0133\n"
     ]
    },
    {
     "name": "stderr",
     "output_type": "stream",
     "text": [
      "                                                 \r"
     ]
    },
    {
     "name": "stdout",
     "output_type": "stream",
     "text": [
      "epoch: 79/200 | trn_loss: 0.0053 | val_loss: 0.0075\n"
     ]
    },
    {
     "name": "stderr",
     "output_type": "stream",
     "text": [
      "                                                 \r"
     ]
    },
    {
     "name": "stdout",
     "output_type": "stream",
     "text": [
      "epoch: 80/200 | trn_loss: 0.0052 | val_loss: 0.0071\n"
     ]
    },
    {
     "name": "stderr",
     "output_type": "stream",
     "text": [
      "                                                 \r"
     ]
    },
    {
     "name": "stdout",
     "output_type": "stream",
     "text": [
      "epoch: 81/200 | trn_loss: 0.0052 | val_loss: 0.0086\n"
     ]
    },
    {
     "name": "stderr",
     "output_type": "stream",
     "text": [
      "                                                 \r"
     ]
    },
    {
     "name": "stdout",
     "output_type": "stream",
     "text": [
      "epoch: 82/200 | trn_loss: 0.0052 | val_loss: 0.0094\n"
     ]
    },
    {
     "name": "stderr",
     "output_type": "stream",
     "text": [
      "                                                 \r"
     ]
    },
    {
     "name": "stdout",
     "output_type": "stream",
     "text": [
      "epoch: 83/200 | trn_loss: 0.0052 | val_loss: 0.0056\n"
     ]
    },
    {
     "name": "stderr",
     "output_type": "stream",
     "text": [
      "                                                 \r"
     ]
    },
    {
     "name": "stdout",
     "output_type": "stream",
     "text": [
      "epoch: 84/200 | trn_loss: 0.0050 | val_loss: 0.0046\n"
     ]
    },
    {
     "name": "stderr",
     "output_type": "stream",
     "text": [
      "                                                 \r"
     ]
    },
    {
     "name": "stdout",
     "output_type": "stream",
     "text": [
      "epoch: 85/200 | trn_loss: 0.0054 | val_loss: 0.0052\n"
     ]
    },
    {
     "name": "stderr",
     "output_type": "stream",
     "text": [
      "                                                 \r"
     ]
    },
    {
     "name": "stdout",
     "output_type": "stream",
     "text": [
      "epoch: 86/200 | trn_loss: 0.0051 | val_loss: 0.0055\n"
     ]
    },
    {
     "name": "stderr",
     "output_type": "stream",
     "text": [
      "                                                 \r"
     ]
    },
    {
     "name": "stdout",
     "output_type": "stream",
     "text": [
      "epoch: 87/200 | trn_loss: 0.0051 | val_loss: 0.0065\n"
     ]
    },
    {
     "name": "stderr",
     "output_type": "stream",
     "text": [
      "                                                 \r"
     ]
    },
    {
     "name": "stdout",
     "output_type": "stream",
     "text": [
      "epoch: 88/200 | trn_loss: 0.0051 | val_loss: 0.0114\n"
     ]
    },
    {
     "name": "stderr",
     "output_type": "stream",
     "text": [
      "                                                 \r"
     ]
    },
    {
     "name": "stdout",
     "output_type": "stream",
     "text": [
      "epoch: 89/200 | trn_loss: 0.0051 | val_loss: 0.0069\n"
     ]
    },
    {
     "name": "stderr",
     "output_type": "stream",
     "text": [
      "                                                 \r"
     ]
    },
    {
     "name": "stdout",
     "output_type": "stream",
     "text": [
      "epoch: 90/200 | trn_loss: 0.0050 | val_loss: 0.0095\n"
     ]
    },
    {
     "name": "stderr",
     "output_type": "stream",
     "text": [
      "                                                 \r"
     ]
    },
    {
     "name": "stdout",
     "output_type": "stream",
     "text": [
      "epoch: 91/200 | trn_loss: 0.0051 | val_loss: 0.0055\n"
     ]
    },
    {
     "name": "stderr",
     "output_type": "stream",
     "text": [
      "                                                 \r"
     ]
    },
    {
     "name": "stdout",
     "output_type": "stream",
     "text": [
      "epoch: 92/200 | trn_loss: 0.0050 | val_loss: 0.0121\n"
     ]
    },
    {
     "name": "stderr",
     "output_type": "stream",
     "text": [
      "                                                 \r"
     ]
    },
    {
     "name": "stdout",
     "output_type": "stream",
     "text": [
      "epoch: 93/200 | trn_loss: 0.0053 | val_loss: 0.0108\n"
     ]
    },
    {
     "name": "stderr",
     "output_type": "stream",
     "text": [
      "                                                 \r"
     ]
    },
    {
     "name": "stdout",
     "output_type": "stream",
     "text": [
      "epoch: 94/200 | trn_loss: 0.0052 | val_loss: 0.0051\n"
     ]
    },
    {
     "name": "stderr",
     "output_type": "stream",
     "text": [
      "                                                 \r"
     ]
    },
    {
     "name": "stdout",
     "output_type": "stream",
     "text": [
      "epoch: 95/200 | trn_loss: 0.0051 | val_loss: 0.0060\n"
     ]
    },
    {
     "name": "stderr",
     "output_type": "stream",
     "text": [
      "                                                 \r"
     ]
    },
    {
     "name": "stdout",
     "output_type": "stream",
     "text": [
      "epoch: 96/200 | trn_loss: 0.0051 | val_loss: 0.0046\n"
     ]
    },
    {
     "name": "stderr",
     "output_type": "stream",
     "text": [
      "                                                 \r"
     ]
    },
    {
     "name": "stdout",
     "output_type": "stream",
     "text": [
      "epoch: 97/200 | trn_loss: 0.0050 | val_loss: 0.0081\n"
     ]
    },
    {
     "name": "stderr",
     "output_type": "stream",
     "text": [
      "                                                 \r"
     ]
    },
    {
     "name": "stdout",
     "output_type": "stream",
     "text": [
      "epoch: 98/200 | trn_loss: 0.0050 | val_loss: 0.0050\n"
     ]
    },
    {
     "name": "stderr",
     "output_type": "stream",
     "text": [
      "                                                 \r"
     ]
    },
    {
     "name": "stdout",
     "output_type": "stream",
     "text": [
      "epoch: 99/200 | trn_loss: 0.0050 | val_loss: 0.0074\n"
     ]
    },
    {
     "name": "stderr",
     "output_type": "stream",
     "text": [
      "                                                 \r"
     ]
    },
    {
     "name": "stdout",
     "output_type": "stream",
     "text": [
      "epoch: 100/200 | trn_loss: 0.0050 | val_loss: 0.0070\n"
     ]
    },
    {
     "name": "stderr",
     "output_type": "stream",
     "text": [
      "                                                 \r"
     ]
    },
    {
     "name": "stdout",
     "output_type": "stream",
     "text": [
      "epoch: 101/200 | trn_loss: 0.0050 | val_loss: 0.0091\n"
     ]
    },
    {
     "name": "stderr",
     "output_type": "stream",
     "text": [
      "                                                 \r"
     ]
    },
    {
     "name": "stdout",
     "output_type": "stream",
     "text": [
      "epoch: 102/200 | trn_loss: 0.0050 | val_loss: 0.0084\n"
     ]
    },
    {
     "name": "stderr",
     "output_type": "stream",
     "text": [
      "                                                 \r"
     ]
    },
    {
     "name": "stdout",
     "output_type": "stream",
     "text": [
      "epoch: 103/200 | trn_loss: 0.0050 | val_loss: 0.0067\n"
     ]
    },
    {
     "name": "stderr",
     "output_type": "stream",
     "text": [
      "                                                 \r"
     ]
    },
    {
     "name": "stdout",
     "output_type": "stream",
     "text": [
      "epoch: 104/200 | trn_loss: 0.0051 | val_loss: 0.0056\n"
     ]
    },
    {
     "name": "stderr",
     "output_type": "stream",
     "text": [
      "                                                 \r"
     ]
    },
    {
     "name": "stdout",
     "output_type": "stream",
     "text": [
      "epoch: 105/200 | trn_loss: 0.0050 | val_loss: 0.0054\n"
     ]
    },
    {
     "name": "stderr",
     "output_type": "stream",
     "text": [
      "                                                 \r"
     ]
    },
    {
     "name": "stdout",
     "output_type": "stream",
     "text": [
      "epoch: 106/200 | trn_loss: 0.0049 | val_loss: 0.0050\n"
     ]
    },
    {
     "name": "stderr",
     "output_type": "stream",
     "text": [
      "                                                 \r"
     ]
    },
    {
     "name": "stdout",
     "output_type": "stream",
     "text": [
      "epoch: 107/200 | trn_loss: 0.0049 | val_loss: 0.0056\n"
     ]
    },
    {
     "name": "stderr",
     "output_type": "stream",
     "text": [
      "                                                 \r"
     ]
    },
    {
     "name": "stdout",
     "output_type": "stream",
     "text": [
      "epoch: 108/200 | trn_loss: 0.0051 | val_loss: 0.0054\n"
     ]
    },
    {
     "name": "stderr",
     "output_type": "stream",
     "text": [
      "                                                 \r"
     ]
    },
    {
     "name": "stdout",
     "output_type": "stream",
     "text": [
      "epoch: 109/200 | trn_loss: 0.0049 | val_loss: 0.0061\n"
     ]
    },
    {
     "name": "stderr",
     "output_type": "stream",
     "text": [
      "                                                 \r"
     ]
    },
    {
     "name": "stdout",
     "output_type": "stream",
     "text": [
      "epoch: 110/200 | trn_loss: 0.0048 | val_loss: 0.0052\n"
     ]
    },
    {
     "name": "stderr",
     "output_type": "stream",
     "text": [
      "                                                 \r"
     ]
    },
    {
     "name": "stdout",
     "output_type": "stream",
     "text": [
      "epoch: 111/200 | trn_loss: 0.0049 | val_loss: 0.0083\n"
     ]
    },
    {
     "name": "stderr",
     "output_type": "stream",
     "text": [
      "                                                 \r"
     ]
    },
    {
     "name": "stdout",
     "output_type": "stream",
     "text": [
      "epoch: 112/200 | trn_loss: 0.0050 | val_loss: 0.0047\n"
     ]
    },
    {
     "name": "stderr",
     "output_type": "stream",
     "text": [
      "                                                 \r"
     ]
    },
    {
     "name": "stdout",
     "output_type": "stream",
     "text": [
      "epoch: 113/200 | trn_loss: 0.0049 | val_loss: 0.0068\n"
     ]
    },
    {
     "name": "stderr",
     "output_type": "stream",
     "text": [
      "                                                 \r"
     ]
    },
    {
     "name": "stdout",
     "output_type": "stream",
     "text": [
      "epoch: 114/200 | trn_loss: 0.0049 | val_loss: 0.0053\n"
     ]
    },
    {
     "name": "stderr",
     "output_type": "stream",
     "text": [
      "                                                \r"
     ]
    },
    {
     "ename": "KeyboardInterrupt",
     "evalue": "",
     "output_type": "error",
     "traceback": [
      "\u001b[0;31m---------------------------------------------------------------------------\u001b[0m",
      "\u001b[0;31mKeyboardInterrupt\u001b[0m                         Traceback (most recent call last)",
      "\u001b[0;32m<ipython-input-17-1f28d3044eef>\u001b[0m in \u001b[0;36m<module>\u001b[0;34m\u001b[0m\n\u001b[1;32m     11\u001b[0m \u001b[0;34m\u001b[0m\u001b[0m\n\u001b[1;32m     12\u001b[0m         \u001b[0moptimizer\u001b[0m\u001b[0;34m.\u001b[0m\u001b[0mzero_grad\u001b[0m\u001b[0;34m(\u001b[0m\u001b[0;34m)\u001b[0m\u001b[0;34m\u001b[0m\u001b[0;34m\u001b[0m\u001b[0m\n\u001b[0;32m---> 13\u001b[0;31m         \u001b[0moutputs\u001b[0m \u001b[0;34m=\u001b[0m \u001b[0mmodel\u001b[0m\u001b[0;34m(\u001b[0m\u001b[0mx\u001b[0m\u001b[0;34m)\u001b[0m\u001b[0;34m\u001b[0m\u001b[0;34m\u001b[0m\u001b[0m\n\u001b[0m\u001b[1;32m     14\u001b[0m \u001b[0;34m\u001b[0m\u001b[0m\n\u001b[1;32m     15\u001b[0m         \u001b[0mloss\u001b[0m \u001b[0;34m=\u001b[0m \u001b[0mtorch\u001b[0m\u001b[0;34m.\u001b[0m\u001b[0msqrt\u001b[0m\u001b[0;34m(\u001b[0m\u001b[0mcriterion\u001b[0m\u001b[0;34m(\u001b[0m\u001b[0moutputs\u001b[0m\u001b[0;34m.\u001b[0m\u001b[0msqueeze\u001b[0m\u001b[0;34m(\u001b[0m\u001b[0;34m)\u001b[0m\u001b[0;34m,\u001b[0m \u001b[0my\u001b[0m\u001b[0;34m.\u001b[0m\u001b[0msqueeze\u001b[0m\u001b[0;34m(\u001b[0m\u001b[0;34m)\u001b[0m\u001b[0;34m)\u001b[0m\u001b[0;34m)\u001b[0m\u001b[0;34m\u001b[0m\u001b[0;34m\u001b[0m\u001b[0m\n",
      "\u001b[0;32m/usr/local/lib/python3.6/site-packages/torch/nn/modules/module.py\u001b[0m in \u001b[0;36m_call_impl\u001b[0;34m(self, *input, **kwargs)\u001b[0m\n\u001b[1;32m    720\u001b[0m             \u001b[0mresult\u001b[0m \u001b[0;34m=\u001b[0m \u001b[0mself\u001b[0m\u001b[0;34m.\u001b[0m\u001b[0m_slow_forward\u001b[0m\u001b[0;34m(\u001b[0m\u001b[0;34m*\u001b[0m\u001b[0minput\u001b[0m\u001b[0;34m,\u001b[0m \u001b[0;34m**\u001b[0m\u001b[0mkwargs\u001b[0m\u001b[0;34m)\u001b[0m\u001b[0;34m\u001b[0m\u001b[0;34m\u001b[0m\u001b[0m\n\u001b[1;32m    721\u001b[0m         \u001b[0;32melse\u001b[0m\u001b[0;34m:\u001b[0m\u001b[0;34m\u001b[0m\u001b[0;34m\u001b[0m\u001b[0m\n\u001b[0;32m--> 722\u001b[0;31m             \u001b[0mresult\u001b[0m \u001b[0;34m=\u001b[0m \u001b[0mself\u001b[0m\u001b[0;34m.\u001b[0m\u001b[0mforward\u001b[0m\u001b[0;34m(\u001b[0m\u001b[0;34m*\u001b[0m\u001b[0minput\u001b[0m\u001b[0;34m,\u001b[0m \u001b[0;34m**\u001b[0m\u001b[0mkwargs\u001b[0m\u001b[0;34m)\u001b[0m\u001b[0;34m\u001b[0m\u001b[0;34m\u001b[0m\u001b[0m\n\u001b[0m\u001b[1;32m    723\u001b[0m         for hook in itertools.chain(\n\u001b[1;32m    724\u001b[0m                 \u001b[0m_global_forward_hooks\u001b[0m\u001b[0;34m.\u001b[0m\u001b[0mvalues\u001b[0m\u001b[0;34m(\u001b[0m\u001b[0;34m)\u001b[0m\u001b[0;34m,\u001b[0m\u001b[0;34m\u001b[0m\u001b[0;34m\u001b[0m\u001b[0m\n",
      "\u001b[0;32m<ipython-input-14-0ef5b9d5b742>\u001b[0m in \u001b[0;36mforward\u001b[0;34m(self, x)\u001b[0m\n\u001b[1;32m     51\u001b[0m         \u001b[0;31m#h2 = weight.new(self.n_layers, x.shape[0], self.hidden).zero_()\u001b[0m\u001b[0;34m\u001b[0m\u001b[0;34m\u001b[0m\u001b[0;34m\u001b[0m\u001b[0m\n\u001b[1;32m     52\u001b[0m         \u001b[0;32mfor\u001b[0m \u001b[0mt\u001b[0m \u001b[0;32min\u001b[0m \u001b[0mrange\u001b[0m\u001b[0;34m(\u001b[0m\u001b[0mself\u001b[0m\u001b[0;34m.\u001b[0m\u001b[0mtime\u001b[0m\u001b[0;34m)\u001b[0m\u001b[0;34m:\u001b[0m\u001b[0;34m\u001b[0m\u001b[0;34m\u001b[0m\u001b[0m\n\u001b[0;32m---> 53\u001b[0;31m             \u001b[0menc\u001b[0m \u001b[0;34m=\u001b[0m \u001b[0mtorch\u001b[0m\u001b[0;34m.\u001b[0m\u001b[0mcat\u001b[0m\u001b[0;34m(\u001b[0m\u001b[0;34m[\u001b[0m\u001b[0menc_output\u001b[0m\u001b[0;34m.\u001b[0m\u001b[0mpermute\u001b[0m\u001b[0;34m(\u001b[0m\u001b[0;36m0\u001b[0m\u001b[0;34m,\u001b[0m\u001b[0;36m2\u001b[0m\u001b[0;34m,\u001b[0m\u001b[0;36m1\u001b[0m\u001b[0;34m)\u001b[0m\u001b[0;34m,\u001b[0m \u001b[0mh2\u001b[0m\u001b[0;34m.\u001b[0m\u001b[0mrepeat\u001b[0m\u001b[0;34m(\u001b[0m\u001b[0mself\u001b[0m\u001b[0;34m.\u001b[0m\u001b[0mtime\u001b[0m\u001b[0;34m,\u001b[0m \u001b[0;36m1\u001b[0m\u001b[0;34m,\u001b[0m \u001b[0;36m1\u001b[0m\u001b[0;34m)\u001b[0m\u001b[0;34m.\u001b[0m\u001b[0mpermute\u001b[0m\u001b[0;34m(\u001b[0m\u001b[0;36m1\u001b[0m\u001b[0;34m,\u001b[0m\u001b[0;36m2\u001b[0m\u001b[0;34m,\u001b[0m\u001b[0;36m0\u001b[0m\u001b[0;34m)\u001b[0m\u001b[0;34m]\u001b[0m\u001b[0;34m,\u001b[0m \u001b[0mdim\u001b[0m\u001b[0;34m=\u001b[0m\u001b[0;36m1\u001b[0m\u001b[0;34m)\u001b[0m\u001b[0;34m\u001b[0m\u001b[0;34m\u001b[0m\u001b[0m\n\u001b[0m\u001b[1;32m     54\u001b[0m             \u001b[0mcontext\u001b[0m \u001b[0;34m=\u001b[0m \u001b[0mtorch\u001b[0m\u001b[0;34m.\u001b[0m\u001b[0mbmm\u001b[0m\u001b[0;34m(\u001b[0m\u001b[0mself\u001b[0m\u001b[0;34m.\u001b[0m\u001b[0msoftmax\u001b[0m\u001b[0;34m(\u001b[0m\u001b[0mself\u001b[0m\u001b[0;34m.\u001b[0m\u001b[0mtemp_conv\u001b[0m\u001b[0;34m(\u001b[0m\u001b[0menc\u001b[0m\u001b[0;34m)\u001b[0m\u001b[0;34m)\u001b[0m\u001b[0;34m,\u001b[0m \u001b[0menc_output\u001b[0m\u001b[0;34m)\u001b[0m\u001b[0;34m.\u001b[0m\u001b[0msqueeze\u001b[0m\u001b[0;34m(\u001b[0m\u001b[0;36m1\u001b[0m\u001b[0;34m)\u001b[0m\u001b[0;34m\u001b[0m\u001b[0;34m\u001b[0m\u001b[0m\n\u001b[1;32m     55\u001b[0m             \u001b[0my_tilde\u001b[0m \u001b[0;34m=\u001b[0m \u001b[0mself\u001b[0m\u001b[0;34m.\u001b[0m\u001b[0mtilde_fc\u001b[0m\u001b[0;34m(\u001b[0m\u001b[0mtorch\u001b[0m\u001b[0;34m.\u001b[0m\u001b[0mcat\u001b[0m\u001b[0;34m(\u001b[0m\u001b[0;34m[\u001b[0m\u001b[0mx\u001b[0m\u001b[0;34m[\u001b[0m\u001b[0;34m:\u001b[0m\u001b[0;34m,\u001b[0m \u001b[0;34m[\u001b[0m\u001b[0mt\u001b[0m\u001b[0;34m]\u001b[0m\u001b[0;34m,\u001b[0m \u001b[0;34m:\u001b[0m\u001b[0;34m]\u001b[0m\u001b[0;34m,\u001b[0m \u001b[0mcontext\u001b[0m\u001b[0;34m.\u001b[0m\u001b[0munsqueeze\u001b[0m\u001b[0;34m(\u001b[0m\u001b[0;36m1\u001b[0m\u001b[0;34m)\u001b[0m\u001b[0;34m]\u001b[0m\u001b[0;34m,\u001b[0m \u001b[0mdim\u001b[0m\u001b[0;34m=\u001b[0m\u001b[0;36m2\u001b[0m\u001b[0;34m)\u001b[0m\u001b[0;34m.\u001b[0m\u001b[0msqueeze\u001b[0m\u001b[0;34m(\u001b[0m\u001b[0;34m)\u001b[0m\u001b[0;34m)\u001b[0m\u001b[0;34m\u001b[0m\u001b[0;34m\u001b[0m\u001b[0m\n",
      "\u001b[0;31mKeyboardInterrupt\u001b[0m: "
     ]
    }
   ],
   "source": [
    "train_loss_list = []\n",
    "valid_loss_list = []\n",
    "    \n",
    "for epoch in range(0, num_epoch+1):\n",
    "    model = model.train()\n",
    "\n",
    "    train_loss = []\n",
    "    for (x, y) in tqdm(train_loader, leave=False):\n",
    "        x = x.to(device)\n",
    "        y = y.to(device)\n",
    "        \n",
    "        optimizer.zero_grad()\n",
    "        outputs = model(x)\n",
    "\n",
    "        loss = torch.sqrt(criterion(outputs.squeeze(), y.squeeze()))\n",
    "        \n",
    "        loss.backward()\n",
    "        optimizer.step()\n",
    "        \n",
    "        train_loss.append(loss.item())\n",
    "\n",
    "    train_loss = np.mean(train_loss)\n",
    "    \n",
    "    model = model.eval()\n",
    "    predictions = []\n",
    "    answers = []\n",
    "    valid_loss = []\n",
    "    with torch.no_grad():\n",
    "        for (x, y) in tqdm(valid_loader, leave=False):\n",
    "            x = x.to(device)\n",
    "            y = y.to(device)\n",
    "            answers.extend(y.detach().cpu().numpy())\n",
    "\n",
    "            outputs = model(x)\n",
    "\n",
    "            loss = torch.sqrt(criterion(outputs.squeeze(), y.squeeze()))\n",
    "        \n",
    "            predictions.extend(outputs.squeeze().detach().cpu().numpy())\n",
    "            valid_loss.append(loss.item())    \n",
    "\n",
    "    valid_loss = np.mean(valid_loss)\n",
    "    \n",
    "    print(\"epoch: {}/{} | trn_loss: {:.4f} | val_loss: {:.4f}\".format(\n",
    "                epoch, num_epoch, train_loss, valid_loss\n",
    "            ))\n",
    "    train_loss_list.append(train_loss)\n",
    "    valid_loss_list.append(valid_loss)\n",
    "    \n",
    "    \"\"\"\n",
    "    if epoch % 20 ==0 :       \n",
    "        torch.save({\n",
    "            'epoch': epoch,\n",
    "            'loss': valid_loss_list[-1],\n",
    "            'model_state_dict' : model.state_dict(),\n",
    "            'optimizer_state_dict' : optimizer.state_dict(),\n",
    "            'criterion' : criterion\n",
    "        }, result_folder + f'darnn-pred-stock-{epoch}.pt')\n",
    "    \"\"\"\n",
    "    \n",
    "    if (epoch==0) or (epoch>0 and (min(valid_loss_list[:-1])>valid_loss_list[-1])):\n",
    "        torch.save({\n",
    "            'epoch': epoch,\n",
    "            'loss': valid_loss_list[-1],\n",
    "            'model_state_dict' : model.state_dict(),\n",
    "            'optimizer_state_dict' : optimizer.state_dict(),\n",
    "            'criterion' : criterion\n",
    "        }, result_folder + f'darnn-pred-stock-best.pt')"
   ]
  },
  {
   "cell_type": "code",
   "execution_count": 18,
   "metadata": {},
   "outputs": [
    {
     "data": {
      "image/png": "[encoded data removed]",
      "text/plain": [
       "<Figure size 1440x360 with 2 Axes>"
      ]
     },
     "metadata": {
      "needs_background": "light"
     },
     "output_type": "display_data"
    }
   ],
   "source": [
    "fig, ax = plt.subplots(1,2,figsize=(20,5))\n",
    "\n",
    "ax0 = ax[0]\n",
    "ax0.plot(train_loss_list, c= 'blue')\n",
    "ax0.plot(valid_loss_list, c='red')\n",
    "\n",
    "ax1 = ax[1]\n",
    "ax1.plot(valid_loss_list, c='red', marker='o')\n",
    "\n",
    "fig.suptitle(\"Loss\", fontsize=15)\n",
    "plt.savefig(result_folder+'darnn_loss.png')"
   ]
  },
  {
   "cell_type": "code",
   "execution_count": 19,
   "metadata": {},
   "outputs": [],
   "source": [
    "pd.DataFrame([train_loss_list, valid_loss_list]).to_csv(result_folder + 'darnn_loss.csv', index=0)"
   ]
  },
  {
   "cell_type": "markdown",
   "metadata": {},
   "source": [
    "### Performance Evaluation"
   ]
  },
  {
   "cell_type": "code",
   "execution_count": 32,
   "metadata": {},
   "outputs": [
    {
     "name": "stdout",
     "output_type": "stream",
     "text": [
      "96 0.004621618903120575\n"
     ]
    }
   ],
   "source": [
    "checkpoint = torch.load(result_folder + 'darnn-pred-stock-best.pt')\n",
    "model.load_state_dict(checkpoint['model_state_dict'])\n",
    "optimizer.load_state_dict(checkpoint['optimizer_state_dict'])\n",
    "criterion = checkpoint['criterion']\n",
    "print(checkpoint['epoch'], checkpoint['loss'])"
   ]
  },
  {
   "cell_type": "code",
   "execution_count": 34,
   "metadata": {
    "scrolled": true
   },
   "outputs": [
    {
     "name": "stderr",
     "output_type": "stream",
     "text": [
      "  7%|▋         | 3/46 [00:00<00:04,  9.33it/s]"
     ]
    },
    {
     "name": "stdout",
     "output_type": "stream",
     "text": [
      "0.004016733728349209\n",
      "0.006748800165951252\n",
      "0.006234524305909872\n"
     ]
    },
    {
     "name": "stderr",
     "output_type": "stream",
     "text": [
      " 15%|█▌        | 7/46 [00:00<00:02, 13.11it/s]"
     ]
    },
    {
     "name": "stdout",
     "output_type": "stream",
     "text": [
      "0.0068451291881501675\n",
      "0.001978701911866665\n",
      "0.0022546122781932354\n",
      "0.001995513681322336\n"
     ]
    },
    {
     "name": "stderr",
     "output_type": "stream",
     "text": [
      " 24%|██▍       | 11/46 [00:00<00:02, 14.43it/s]"
     ]
    },
    {
     "name": "stdout",
     "output_type": "stream",
     "text": [
      "0.0017453149193897843\n",
      "0.0025522271171212196\n",
      "0.007490675896406174\n",
      "0.002131900517269969\n"
     ]
    },
    {
     "name": "stderr",
     "output_type": "stream",
     "text": [
      " 33%|███▎      | 15/46 [00:01<00:02, 14.82it/s]"
     ]
    },
    {
     "name": "stdout",
     "output_type": "stream",
     "text": [
      "0.0022216339129954576\n",
      "0.0014096571831032634\n",
      "0.0046881153248250484\n",
      "0.0029590034391731024\n"
     ]
    },
    {
     "name": "stderr",
     "output_type": "stream",
     "text": [
      " 41%|████▏     | 19/46 [00:01<00:01, 15.28it/s]"
     ]
    },
    {
     "name": "stdout",
     "output_type": "stream",
     "text": [
      "0.006844555959105492\n",
      "0.0023962552659213543\n",
      "0.001899403752759099\n",
      "0.0019332560477778316\n"
     ]
    },
    {
     "name": "stderr",
     "output_type": "stream",
     "text": [
      " 46%|████▌     | 21/46 [00:01<00:01, 15.29it/s]"
     ]
    },
    {
     "name": "stdout",
     "output_type": "stream",
     "text": [
      "0.0028160312213003635\n",
      "0.003277045674622059\n",
      "0.006946455221623182\n"
     ]
    },
    {
     "name": "stderr",
     "output_type": "stream",
     "text": [
      " 54%|█████▍    | 25/46 [00:01<00:01, 14.51it/s]"
     ]
    },
    {
     "name": "stdout",
     "output_type": "stream",
     "text": [
      "0.004762267228215933\n",
      "0.003205579239875078\n",
      "0.004551338497549295\n"
     ]
    },
    {
     "name": "stderr",
     "output_type": "stream",
     "text": [
      " 63%|██████▎   | 29/46 [00:02<00:01, 14.85it/s]"
     ]
    },
    {
     "name": "stdout",
     "output_type": "stream",
     "text": [
      "0.0027284836396574974\n",
      "0.00498168682679534\n",
      "0.01171998493373394\n",
      "0.0061769913882017136\n"
     ]
    },
    {
     "name": "stderr",
     "output_type": "stream",
     "text": [
      " 72%|███████▏  | 33/46 [00:02<00:00, 15.30it/s]"
     ]
    },
    {
     "name": "stdout",
     "output_type": "stream",
     "text": [
      "0.0036359194200485945\n",
      "0.0041518546640872955\n",
      "0.005104454234242439\n",
      "0.005114714149385691\n"
     ]
    },
    {
     "name": "stderr",
     "output_type": "stream",
     "text": [
      " 80%|████████  | 37/46 [00:02<00:00, 15.47it/s]"
     ]
    },
    {
     "name": "stdout",
     "output_type": "stream",
     "text": [
      "0.007241773419082165\n",
      "0.005648050457239151\n",
      "0.002708661137148738\n",
      "0.0045478162355721\n"
     ]
    },
    {
     "name": "stderr",
     "output_type": "stream",
     "text": [
      " 89%|████████▉ | 41/46 [00:02<00:00, 15.67it/s]"
     ]
    },
    {
     "name": "stdout",
     "output_type": "stream",
     "text": [
      "0.00459847180172801\n",
      "0.005555431358516216\n",
      "0.03178348392248154\n",
      "0.009417625144124031\n"
     ]
    },
    {
     "name": "stderr",
     "output_type": "stream",
     "text": [
      " 98%|█████████▊| 45/46 [00:03<00:00, 15.91it/s]"
     ]
    },
    {
     "name": "stdout",
     "output_type": "stream",
     "text": [
      "0.005107808858156204\n",
      "0.00753908883780241\n",
      "0.0064116232097148895\n",
      "0.004270100966095924\n"
     ]
    },
    {
     "name": "stderr",
     "output_type": "stream",
     "text": [
      "                                               "
     ]
    },
    {
     "name": "stdout",
     "output_type": "stream",
     "text": [
      "0.22257046401500702\n",
      "test loss: 0.009889548267339072\n"
     ]
    },
    {
     "name": "stderr",
     "output_type": "stream",
     "text": [
      "\r"
     ]
    }
   ],
   "source": [
    "model = model.eval()\n",
    "test_loss = []\n",
    "answers = []\n",
    "predictions = []\n",
    "\n",
    "with torch.no_grad():\n",
    "    for (x, y) in tqdm(test_loader, leave=False):\n",
    "        x = x.to(device)\n",
    "        y = y.to(device)\n",
    "\n",
    "        outputs = model(x)\n",
    "        \n",
    "        loss = torch.sqrt(criterion(outputs.squeeze(), y.squeeze()))\n",
    "        \n",
    "        answers.extend((y.squeeze()).squeeze().detach().cpu().numpy())\n",
    "        predictions.extend((outputs.squeeze()).squeeze().detach().cpu().numpy())\n",
    "        test_loss.append(loss.item()) \n",
    "        \n",
    "test_loss = np.mean(test_loss)\n",
    "print(f'test loss: {test_loss}')"
   ]
  },
  {
   "cell_type": "code",
   "execution_count": 23,
   "metadata": {},
   "outputs": [
    {
     "name": "stdout",
     "output_type": "stream",
     "text": [
      "(2919, 15) (2919, 15) (2980, 15)\n"
     ]
    }
   ],
   "source": [
    "answers = pd.DataFrame(answers)\n",
    "answers = pd.concat([answers, test_sc.iloc[61:, 1:].reset_index(drop=True)], axis=1)\n",
    "predictions = pd.DataFrame(predictions)\n",
    "predictions = pd.concat([predictions, test_sc.iloc[61:, 1:].reset_index(drop=True)], axis=1)\n",
    "print(answers.shape, predictions.shape, test_sc.shape)\n",
    "\n",
    "result_ans = pd.DataFrame(sc.inverse_transform(answers), columns = test_sc.columns)\n",
    "result_pred= pd.DataFrame(sc.inverse_transform(predictions), columns = test_sc.columns)\n",
    "\n",
    "\n",
    "result_ans.to_csv(result_folder + 'result_ans.csv')\n",
    "result_pred.to_csv(result_folder + 'result_pred.csv')"
   ]
  },
  {
   "cell_type": "code",
   "execution_count": 25,
   "metadata": {
    "scrolled": true
   },
   "outputs": [
    {
     "data": {
      "image/png": "[encoded data removed]",
      "text/plain": [
       "<Figure size 1440x216 with 1 Axes>"
      ]
     },
     "metadata": {
      "needs_background": "light"
     },
     "output_type": "display_data"
    },
    {
     "data": {
      "image/png": "[encoded data removed]",
      "text/plain": [
       "<Figure size 1440x216 with 1 Axes>"
      ]
     },
     "metadata": {
      "needs_background": "light"
     },
     "output_type": "display_data"
    },
    {
     "data": {
      "image/png": "[encoded data removed]",
      "text/plain": [
       "<Figure size 1440x216 with 1 Axes>"
      ]
     },
     "metadata": {
      "needs_background": "light"
     },
     "output_type": "display_data"
    },
    {
     "data": {
      "image/png": "[encoded data removed]",
      "text/plain": [
       "<Figure size 1440x216 with 1 Axes>"
      ]
     },
     "metadata": {
      "needs_background": "light"
     },
     "output_type": "display_data"
    },
    {
     "data": {
      "image/png": "[encoded data removed]",
      "text/plain": [
       "<Figure size 1440x216 with 1 Axes>"
      ]
     },
     "metadata": {
      "needs_background": "light"
     },
     "output_type": "display_data"
    }
   ],
   "source": [
    "for i in range(0,1000,200):\n",
    "    plt.figure(figsize=(20,3))\n",
    "    plt.plot(result_ans.iloc[i:i+400, 0], c='black', ls=':', label = 'GroundTruth')\n",
    "    plt.plot(result_pred.iloc[i:i+400, 0], c='blue', label='Reconstruction')\n",
    "    plt.legend()\n",
    "    plt.show()"
   ]
  },
  {
   "cell_type": "code",
   "execution_count": null,
   "metadata": {},
   "outputs": [],
   "source": []
  }
 ],
 "metadata": {
  "kernelspec": {
   "display_name": "Python 3",
   "language": "python",
   "name": "python3"
  },
  "language_info": {
   "codemirror_mode": {
    "name": "ipython",
    "version": 3
   },
   "file_extension": ".py",
   "mimetype": "text/x-python",
   "name": "python",
   "nbconvert_exporter": "python",
   "pygments_lexer": "ipython3",
   "version": "3.7.4"
  }
 },
 "nbformat": 4,
 "nbformat_minor": 4
}
