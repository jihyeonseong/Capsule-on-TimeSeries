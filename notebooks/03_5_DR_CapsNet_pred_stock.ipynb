{
 "cells": [
  {
   "cell_type": "markdown",
   "metadata": {},
   "source": [
    "# 1. Import Module & Data"
   ]
  },
  {
   "cell_type": "code",
   "execution_count": 1,
   "metadata": {},
   "outputs": [],
   "source": [
    "import numpy as np\n",
    "import pandas as pd\n",
    "%matplotlib inline\n",
    "from matplotlib import figure\n",
    "import matplotlib.pyplot as plt\n",
    "import math\n",
    "import os\n",
    "import time\n",
    "import random\n",
    "import gc\n",
    "from sklearn.preprocessing import StandardScaler, MinMaxScaler\n",
    "import seaborn as sns\n",
    "\n",
    "import warnings\n",
    "warnings.filterwarnings(action='ignore')"
   ]
  },
  {
   "cell_type": "code",
   "execution_count": 2,
   "metadata": {},
   "outputs": [],
   "source": [
    "os.environ['CUDA_VISIBLE_DEVICES'] = \"1\""
   ]
  },
  {
   "cell_type": "code",
   "execution_count": 3,
   "metadata": {},
   "outputs": [
    {
     "data": {
      "text/html": [
       "<div>\n",
       "<style scoped>\n",
       "    .dataframe tbody tr th:only-of-type {\n",
       "        vertical-align: middle;\n",
       "    }\n",
       "\n",
       "    .dataframe tbody tr th {\n",
       "        vertical-align: top;\n",
       "    }\n",
       "\n",
       "    .dataframe thead th {\n",
       "        text-align: right;\n",
       "    }\n",
       "</style>\n",
       "<table border=\"1\" class=\"dataframe\">\n",
       "  <thead>\n",
       "    <tr style=\"text-align: right;\">\n",
       "      <th></th>\n",
       "      <th>MMM</th>\n",
       "      <th>AOS</th>\n",
       "      <th>ABT</th>\n",
       "      <th>ABBV</th>\n",
       "      <th>ABMD</th>\n",
       "      <th>ACN</th>\n",
       "      <th>ATVI</th>\n",
       "      <th>ADM</th>\n",
       "      <th>ADBE</th>\n",
       "      <th>ADP</th>\n",
       "      <th>...</th>\n",
       "      <th>WHR</th>\n",
       "      <th>WMB</th>\n",
       "      <th>WYNN</th>\n",
       "      <th>XEL</th>\n",
       "      <th>XYL</th>\n",
       "      <th>YUM</th>\n",
       "      <th>ZBRA</th>\n",
       "      <th>ZBH</th>\n",
       "      <th>ZION</th>\n",
       "      <th>ZTS</th>\n",
       "    </tr>\n",
       "  </thead>\n",
       "  <tbody>\n",
       "    <tr>\n",
       "      <th>0</th>\n",
       "      <td>178.43</td>\n",
       "      <td>73.65</td>\n",
       "      <td>129.2600</td>\n",
       "      <td>115.360</td>\n",
       "      <td>335.000000</td>\n",
       "      <td>359.600</td>\n",
       "      <td>78.7500</td>\n",
       "      <td>64.320</td>\n",
       "      <td>651.440</td>\n",
       "      <td>224.41</td>\n",
       "      <td>...</td>\n",
       "      <td>211.7650</td>\n",
       "      <td>28.250</td>\n",
       "      <td>89.700</td>\n",
       "      <td>64.28</td>\n",
       "      <td>131.15</td>\n",
       "      <td>125.436</td>\n",
       "      <td>532.80</td>\n",
       "      <td>143.5900</td>\n",
       "      <td>63.77</td>\n",
       "      <td>217.220</td>\n",
       "    </tr>\n",
       "    <tr>\n",
       "      <th>1</th>\n",
       "      <td>178.58</td>\n",
       "      <td>73.99</td>\n",
       "      <td>129.2450</td>\n",
       "      <td>115.460</td>\n",
       "      <td>334.600000</td>\n",
       "      <td>359.805</td>\n",
       "      <td>79.0600</td>\n",
       "      <td>64.425</td>\n",
       "      <td>651.920</td>\n",
       "      <td>224.15</td>\n",
       "      <td>...</td>\n",
       "      <td>211.7575</td>\n",
       "      <td>28.270</td>\n",
       "      <td>89.550</td>\n",
       "      <td>64.28</td>\n",
       "      <td>131.15</td>\n",
       "      <td>125.540</td>\n",
       "      <td>532.80</td>\n",
       "      <td>143.5900</td>\n",
       "      <td>63.88</td>\n",
       "      <td>217.500</td>\n",
       "    </tr>\n",
       "    <tr>\n",
       "      <th>2</th>\n",
       "      <td>178.52</td>\n",
       "      <td>74.04</td>\n",
       "      <td>129.3100</td>\n",
       "      <td>115.530</td>\n",
       "      <td>334.795833</td>\n",
       "      <td>359.530</td>\n",
       "      <td>79.3620</td>\n",
       "      <td>64.380</td>\n",
       "      <td>652.670</td>\n",
       "      <td>223.71</td>\n",
       "      <td>...</td>\n",
       "      <td>211.7500</td>\n",
       "      <td>28.300</td>\n",
       "      <td>89.205</td>\n",
       "      <td>64.25</td>\n",
       "      <td>131.83</td>\n",
       "      <td>125.470</td>\n",
       "      <td>533.53</td>\n",
       "      <td>143.9000</td>\n",
       "      <td>64.08</td>\n",
       "      <td>217.340</td>\n",
       "    </tr>\n",
       "    <tr>\n",
       "      <th>3</th>\n",
       "      <td>178.62</td>\n",
       "      <td>74.11</td>\n",
       "      <td>129.5000</td>\n",
       "      <td>115.630</td>\n",
       "      <td>334.991667</td>\n",
       "      <td>359.000</td>\n",
       "      <td>79.4202</td>\n",
       "      <td>64.340</td>\n",
       "      <td>653.120</td>\n",
       "      <td>223.80</td>\n",
       "      <td>...</td>\n",
       "      <td>211.5600</td>\n",
       "      <td>28.285</td>\n",
       "      <td>89.440</td>\n",
       "      <td>64.28</td>\n",
       "      <td>131.82</td>\n",
       "      <td>125.700</td>\n",
       "      <td>534.16</td>\n",
       "      <td>144.2581</td>\n",
       "      <td>63.93</td>\n",
       "      <td>217.400</td>\n",
       "    </tr>\n",
       "    <tr>\n",
       "      <th>4</th>\n",
       "      <td>178.52</td>\n",
       "      <td>74.26</td>\n",
       "      <td>129.3100</td>\n",
       "      <td>115.240</td>\n",
       "      <td>335.187500</td>\n",
       "      <td>358.800</td>\n",
       "      <td>79.6600</td>\n",
       "      <td>64.225</td>\n",
       "      <td>651.480</td>\n",
       "      <td>223.15</td>\n",
       "      <td>...</td>\n",
       "      <td>211.9100</td>\n",
       "      <td>28.300</td>\n",
       "      <td>89.980</td>\n",
       "      <td>64.23</td>\n",
       "      <td>131.81</td>\n",
       "      <td>125.620</td>\n",
       "      <td>534.79</td>\n",
       "      <td>144.8400</td>\n",
       "      <td>63.94</td>\n",
       "      <td>216.735</td>\n",
       "    </tr>\n",
       "    <tr>\n",
       "      <th>...</th>\n",
       "      <td>...</td>\n",
       "      <td>...</td>\n",
       "      <td>...</td>\n",
       "      <td>...</td>\n",
       "      <td>...</td>\n",
       "      <td>...</td>\n",
       "      <td>...</td>\n",
       "      <td>...</td>\n",
       "      <td>...</td>\n",
       "      <td>...</td>\n",
       "      <td>...</td>\n",
       "      <td>...</td>\n",
       "      <td>...</td>\n",
       "      <td>...</td>\n",
       "      <td>...</td>\n",
       "      <td>...</td>\n",
       "      <td>...</td>\n",
       "      <td>...</td>\n",
       "      <td>...</td>\n",
       "      <td>...</td>\n",
       "      <td>...</td>\n",
       "    </tr>\n",
       "    <tr>\n",
       "      <th>31013</th>\n",
       "      <td>143.81</td>\n",
       "      <td>67.69</td>\n",
       "      <td>118.7901</td>\n",
       "      <td>145.100</td>\n",
       "      <td>306.705000</td>\n",
       "      <td>316.110</td>\n",
       "      <td>80.9900</td>\n",
       "      <td>75.920</td>\n",
       "      <td>464.480</td>\n",
       "      <td>200.42</td>\n",
       "      <td>...</td>\n",
       "      <td>198.1000</td>\n",
       "      <td>29.940</td>\n",
       "      <td>86.720</td>\n",
       "      <td>64.83</td>\n",
       "      <td>87.93</td>\n",
       "      <td>121.680</td>\n",
       "      <td>415.56</td>\n",
       "      <td>123.4900</td>\n",
       "      <td>67.08</td>\n",
       "      <td>191.555</td>\n",
       "    </tr>\n",
       "    <tr>\n",
       "      <th>31014</th>\n",
       "      <td>143.77</td>\n",
       "      <td>67.79</td>\n",
       "      <td>118.8500</td>\n",
       "      <td>145.100</td>\n",
       "      <td>306.345000</td>\n",
       "      <td>315.880</td>\n",
       "      <td>80.9600</td>\n",
       "      <td>75.940</td>\n",
       "      <td>463.600</td>\n",
       "      <td>200.34</td>\n",
       "      <td>...</td>\n",
       "      <td>198.0200</td>\n",
       "      <td>29.940</td>\n",
       "      <td>86.620</td>\n",
       "      <td>64.83</td>\n",
       "      <td>87.79</td>\n",
       "      <td>121.660</td>\n",
       "      <td>415.27</td>\n",
       "      <td>123.4650</td>\n",
       "      <td>67.03</td>\n",
       "      <td>191.560</td>\n",
       "    </tr>\n",
       "    <tr>\n",
       "      <th>31015</th>\n",
       "      <td>143.77</td>\n",
       "      <td>67.79</td>\n",
       "      <td>118.8200</td>\n",
       "      <td>145.130</td>\n",
       "      <td>306.800000</td>\n",
       "      <td>315.925</td>\n",
       "      <td>80.9950</td>\n",
       "      <td>75.950</td>\n",
       "      <td>463.880</td>\n",
       "      <td>200.26</td>\n",
       "      <td>...</td>\n",
       "      <td>198.0000</td>\n",
       "      <td>29.945</td>\n",
       "      <td>86.690</td>\n",
       "      <td>64.84</td>\n",
       "      <td>87.79</td>\n",
       "      <td>121.650</td>\n",
       "      <td>415.23</td>\n",
       "      <td>123.5000</td>\n",
       "      <td>67.10</td>\n",
       "      <td>191.260</td>\n",
       "    </tr>\n",
       "    <tr>\n",
       "      <th>31016</th>\n",
       "      <td>143.47</td>\n",
       "      <td>67.66</td>\n",
       "      <td>118.5550</td>\n",
       "      <td>145.045</td>\n",
       "      <td>306.560000</td>\n",
       "      <td>315.260</td>\n",
       "      <td>80.9900</td>\n",
       "      <td>75.830</td>\n",
       "      <td>463.585</td>\n",
       "      <td>199.87</td>\n",
       "      <td>...</td>\n",
       "      <td>197.5700</td>\n",
       "      <td>29.905</td>\n",
       "      <td>86.470</td>\n",
       "      <td>64.77</td>\n",
       "      <td>87.69</td>\n",
       "      <td>121.320</td>\n",
       "      <td>414.46</td>\n",
       "      <td>123.3000</td>\n",
       "      <td>66.91</td>\n",
       "      <td>190.880</td>\n",
       "    </tr>\n",
       "    <tr>\n",
       "      <th>31017</th>\n",
       "      <td>143.46</td>\n",
       "      <td>67.67</td>\n",
       "      <td>118.5400</td>\n",
       "      <td>145.010</td>\n",
       "      <td>306.120000</td>\n",
       "      <td>315.390</td>\n",
       "      <td>80.9900</td>\n",
       "      <td>75.770</td>\n",
       "      <td>463.500</td>\n",
       "      <td>199.83</td>\n",
       "      <td>...</td>\n",
       "      <td>197.7300</td>\n",
       "      <td>29.905</td>\n",
       "      <td>86.520</td>\n",
       "      <td>64.83</td>\n",
       "      <td>87.68</td>\n",
       "      <td>121.340</td>\n",
       "      <td>414.60</td>\n",
       "      <td>123.3500</td>\n",
       "      <td>66.92</td>\n",
       "      <td>190.720</td>\n",
       "    </tr>\n",
       "  </tbody>\n",
       "</table>\n",
       "<p>31018 rows × 500 columns</p>\n",
       "</div>"
      ],
      "text/plain": [
       "          MMM    AOS       ABT     ABBV        ABMD      ACN     ATVI     ADM  \\\n",
       "0      178.43  73.65  129.2600  115.360  335.000000  359.600  78.7500  64.320   \n",
       "1      178.58  73.99  129.2450  115.460  334.600000  359.805  79.0600  64.425   \n",
       "2      178.52  74.04  129.3100  115.530  334.795833  359.530  79.3620  64.380   \n",
       "3      178.62  74.11  129.5000  115.630  334.991667  359.000  79.4202  64.340   \n",
       "4      178.52  74.26  129.3100  115.240  335.187500  358.800  79.6600  64.225   \n",
       "...       ...    ...       ...      ...         ...      ...      ...     ...   \n",
       "31013  143.81  67.69  118.7901  145.100  306.705000  316.110  80.9900  75.920   \n",
       "31014  143.77  67.79  118.8500  145.100  306.345000  315.880  80.9600  75.940   \n",
       "31015  143.77  67.79  118.8200  145.130  306.800000  315.925  80.9950  75.950   \n",
       "31016  143.47  67.66  118.5550  145.045  306.560000  315.260  80.9900  75.830   \n",
       "31017  143.46  67.67  118.5400  145.010  306.120000  315.390  80.9900  75.770   \n",
       "\n",
       "          ADBE     ADP  ...       WHR     WMB    WYNN    XEL     XYL      YUM  \\\n",
       "0      651.440  224.41  ...  211.7650  28.250  89.700  64.28  131.15  125.436   \n",
       "1      651.920  224.15  ...  211.7575  28.270  89.550  64.28  131.15  125.540   \n",
       "2      652.670  223.71  ...  211.7500  28.300  89.205  64.25  131.83  125.470   \n",
       "3      653.120  223.80  ...  211.5600  28.285  89.440  64.28  131.82  125.700   \n",
       "4      651.480  223.15  ...  211.9100  28.300  89.980  64.23  131.81  125.620   \n",
       "...        ...     ...  ...       ...     ...     ...    ...     ...      ...   \n",
       "31013  464.480  200.42  ...  198.1000  29.940  86.720  64.83   87.93  121.680   \n",
       "31014  463.600  200.34  ...  198.0200  29.940  86.620  64.83   87.79  121.660   \n",
       "31015  463.880  200.26  ...  198.0000  29.945  86.690  64.84   87.79  121.650   \n",
       "31016  463.585  199.87  ...  197.5700  29.905  86.470  64.77   87.69  121.320   \n",
       "31017  463.500  199.83  ...  197.7300  29.905  86.520  64.83   87.68  121.340   \n",
       "\n",
       "         ZBRA       ZBH   ZION      ZTS  \n",
       "0      532.80  143.5900  63.77  217.220  \n",
       "1      532.80  143.5900  63.88  217.500  \n",
       "2      533.53  143.9000  64.08  217.340  \n",
       "3      534.16  144.2581  63.93  217.400  \n",
       "4      534.79  144.8400  63.94  216.735  \n",
       "...       ...       ...    ...      ...  \n",
       "31013  415.56  123.4900  67.08  191.555  \n",
       "31014  415.27  123.4650  67.03  191.560  \n",
       "31015  415.23  123.5000  67.10  191.260  \n",
       "31016  414.46  123.3000  66.91  190.880  \n",
       "31017  414.60  123.3500  66.92  190.720  \n",
       "\n",
       "[31018 rows x 500 columns]"
      ]
     },
     "execution_count": 3,
     "metadata": {},
     "output_type": "execute_result"
    }
   ],
   "source": [
    "data_folder = '../data/'\n",
    "os.makedirs(data_folder, exist_ok=True)\n",
    "\n",
    "df = pd.read_csv(data_folder + 'sp500_intra.csv')\n",
    "df = df.iloc[:, 1:]\n",
    "df"
   ]
  },
  {
   "cell_type": "code",
   "execution_count": 4,
   "metadata": {},
   "outputs": [],
   "source": [
    "#Feature Engineering Class \n",
    "class FeatureEngineering:\n",
    "    def __init__(self, stock_name):\n",
    "        self.stock_name = stock_name\n",
    "\n",
    "    #단순 이동 평균\n",
    "    def SMA(self,  data, column='Close', period=30):\n",
    "        return data[column].rolling(period).mean()\n",
    "\n",
    "    #지수 이동 평균\n",
    "    def EMA(self, data, period=20, column='Close'):\n",
    "        return data[column].ewm(span=period, adjust=False).mean()\n",
    "    \n",
    "    #볼린저밴드\n",
    "    def Bollingerband(self, data, period=20, column='Close'):\n",
    "        data[column+'_SMA'] = self.SMA(data, column=column, period=period)\n",
    "        data[column+'_UB'] = data[column+'_SMA'] + 2*data[column+'_SMA'].rolling(20).std()\n",
    "        data[column+'_LB'] = data[column+'_SMA'] - 2*data[column+'_SMA'].rolling(20).std()\n",
    "        \n",
    "        return data\n",
    "    \n",
    "    #MACD\n",
    "    def MACD(self, data, period_long=26, period_short=12, period_signal=9, column='Close'):\n",
    "        data[column+'_EMA'] = self.EMA(data, period=20 ,column=column)\n",
    "        \n",
    "        data[column+'_ShortEMA'] = self.EMA(data, period_short, column=column)\n",
    "\n",
    "        data[column+'_LongEMA'] = self.EMA(data, period_long, column=column)\n",
    "\n",
    "        data[column+'_MACD'] = data[column+'_ShortEMA']- data[column+'_LongEMA']\n",
    "\n",
    "              #signal\n",
    "        data[column+'_Signal_Line'] = self.EMA(data, period_signal, column=column+'_MACD')\n",
    "\n",
    "        return data\n",
    "    \n",
    "    #Momentum\n",
    "    def Momentum(self, data, period=7, column='Close'):\n",
    "        data[column+'_7D'] = data[column].shift(period)\n",
    "        data[column+'_1D'] = data[column].shift(1)\n",
    "        data[column+'_Momentum'] = data[column+'_1D'] / data[column+'_7D'] - 1\n",
    "        \n",
    "        return data\n",
    "    \n",
    "    #RSI\n",
    "    def RSI(self, data, period=14, column='Close'):\n",
    "        delta = data[column].diff(1)\n",
    "        delta = delta.dropna()\n",
    "\n",
    "        up = delta.copy()\n",
    "        down = delta.copy()\n",
    "        up[up<0] = 0\n",
    "        down[down>0] = 0\n",
    "        data[column+'_up'] = up\n",
    "        data[column+'_down'] = down\n",
    "\n",
    "        AVG_Gain = self.SMA(data, period=period, column=column+'_up')\n",
    "        AVG_Loss = abs(self.SMA(data, period=period, column=column+'_down'))\n",
    "        RS = AVG_Gain / AVG_Loss\n",
    "\n",
    "        RSI = 100.0 - (100.0/(1.0+RS))\n",
    "        data[column+'_RSI'] = RSI\n",
    "  \n",
    "        return data\n",
    "    \n",
    "    #Get feature engineered data\n",
    "    def get_data(self, train):\n",
    "        #print('Feature Engineering...')\n",
    "        \n",
    "        self.train = train\n",
    "        c = self.stock_name\n",
    "        \n",
    "        self.train = self.Bollingerband(self.train, column=c)\n",
    "        self.train = self.MACD(self.train, column=c)\n",
    "        self.train = self.Momentum(self.train, column=c)\n",
    "        self.train = self.RSI(self.train, column=c)\n",
    "        \n",
    "        #print(\"Done!\")\n",
    "        \n",
    "        return self.train"
   ]
  },
  {
   "cell_type": "code",
   "execution_count": 5,
   "metadata": {},
   "outputs": [],
   "source": [
    "fe = FeatureEngineering('AAPL')\n",
    "df = fe.get_data(df.loc[:, ['AAPL']])"
   ]
  },
  {
   "cell_type": "code",
   "execution_count": 6,
   "metadata": {},
   "outputs": [],
   "source": [
    "df.dropna(inplace=True)"
   ]
  },
  {
   "cell_type": "code",
   "execution_count": 7,
   "metadata": {},
   "outputs": [
    {
     "name": "stdout",
     "output_type": "stream",
     "text": [
      "25000 3000 2980\n"
     ]
    }
   ],
   "source": [
    "train = df[:25000]\n",
    "valid = df[25000:25000+3000]\n",
    "test = df[25000+3000:]\n",
    "\n",
    "print(len(train), len(valid), len(test))\n",
    "\n",
    "sc = MinMaxScaler()\n",
    "sc.fit(train.values)\n",
    "train_sc = pd.DataFrame(sc.transform(train.values), columns=df.columns)\n",
    "valid_sc = pd.DataFrame(sc.transform(valid.values), columns=df.columns)\n",
    "test_sc = pd.DataFrame(sc.transform(test.values), columns=df.columns)"
   ]
  },
  {
   "cell_type": "code",
   "execution_count": 8,
   "metadata": {
    "scrolled": true
   },
   "outputs": [
    {
     "data": {
      "image/png": "[encoded data removed]",
      "text/plain": [
       "<Figure size 1440x360 with 1 Axes>"
      ]
     },
     "metadata": {
      "needs_background": "light"
     },
     "output_type": "display_data"
    }
   ],
   "source": [
    "plt.figure(figsize=(20,5))\n",
    "plt.plot(train_sc.iloc[:10000, 0], label=train_sc.columns[0])\n",
    "plt.legend()\n",
    "plt.show()"
   ]
  },
  {
   "cell_type": "code",
   "execution_count": 9,
   "metadata": {},
   "outputs": [],
   "source": [
    "from torch import nn\n",
    "from torch.utils.data import Dataset, WeightedRandomSampler\n",
    "from torch.optim.lr_scheduler import ReduceLROnPlateau\n",
    "import torch.nn.functional as F\n",
    "import torch\n",
    "\n",
    "import os\n",
    "import statistics\n",
    "import numpy as np\n",
    "import pandas as pd\n",
    "from tqdm.notebook import tqdm\n",
    "import json\n",
    "import matplotlib.pyplot as plt\n",
    "\n",
    "SEED = 10\n",
    "torch.manual_seed(SEED)\n",
    "torch.cuda.manual_seed_all(SEED)\n",
    "np.random.seed(SEED)"
   ]
  },
  {
   "cell_type": "code",
   "execution_count": 10,
   "metadata": {},
   "outputs": [],
   "source": [
    "class MyDataset(Dataset):\n",
    "    def __init__(self, data, window, pred):\n",
    "        self.data = torch.Tensor(data)\n",
    "        self.window = window\n",
    "        self.pred = pred\n",
    "        \n",
    "        self.shape = self.__getshape__()\n",
    "        self.size = self.__getsize__()\n",
    "\n",
    "    def __getitem__(self, index):\n",
    "        x = self.data[index:index+self.window, :]\n",
    "        y = self.data[index+self.window+self.pred, 0]\n",
    "        return x, y\n",
    "\n",
    "    def __len__(self):\n",
    "        return len(self.data) - self.window - self.pred\n",
    "    \n",
    "    def __getshape__(self):\n",
    "        return (self.__len__(), *self.__getitem__(0)[0].shape) # row, col\n",
    "    \n",
    "    def __getsize__(self):\n",
    "        return (self.__len__())"
   ]
  },
  {
   "cell_type": "code",
   "execution_count": 11,
   "metadata": {},
   "outputs": [],
   "source": [
    "batch_size = 64\n",
    "num_workers = 4\n",
    "pin_memory = True\n",
    "device = 'cuda'\n",
    "num_epoch = 200\n",
    "lr = 1e-4\n",
    "window = 60\n",
    "pred_step = 20"
   ]
  },
  {
   "cell_type": "code",
   "execution_count": 12,
   "metadata": {},
   "outputs": [],
   "source": [
    "train_dataset = MyDataset(train_sc.values, window, pred_step)\n",
    "valid_dataset = MyDataset(valid_sc.values, window, pred_step)\n",
    "test_dataset = MyDataset(test_sc.values, window, pred_step)\n",
    "\n",
    "train_loader = torch.utils.data.DataLoader(train_dataset, batch_size=batch_size, \n",
    "                                     drop_last=False, \n",
    "                                     num_workers=num_workers, pin_memory=pin_memory, shuffle=True) \n",
    "valid_loader = torch.utils.data.DataLoader(valid_dataset, batch_size=batch_size, \n",
    "                                     drop_last=False, \n",
    "                                     num_workers=num_workers, pin_memory=pin_memory, shuffle=False)\n",
    "test_loader = torch.utils.data.DataLoader(test_dataset, batch_size=batch_size, \n",
    "                                     drop_last=False, \n",
    "                                     num_workers=num_workers, pin_memory=pin_memory, shuffle=False)"
   ]
  },
  {
   "cell_type": "markdown",
   "metadata": {},
   "source": [
    "# 2. DynamicRouting CapsNet"
   ]
  },
  {
   "cell_type": "code",
   "execution_count": 13,
   "metadata": {},
   "outputs": [],
   "source": [
    "result_folder = '../check/drcaps/pred_stock/'\n",
    "os.makedirs(result_folder, exist_ok=True)"
   ]
  },
  {
   "cell_type": "code",
   "execution_count": 14,
   "metadata": {},
   "outputs": [],
   "source": [
    "import torch\n",
    "import torch.nn as nn\n",
    "import torch.nn.functional as F\n",
    "from torch.autograd import Variable\n",
    "\n",
    "\n",
    "def squash(inputs, axis=-1):\n",
    "    \"\"\"\n",
    "    The non-linear activation used in Capsule. It drives the length of a large vector to near 1 and small vector to 0\n",
    "    :param inputs: vectors to be squashed\n",
    "    :param axis: the axis to squash\n",
    "    :return: a Tensor with same size as inputs\n",
    "    \"\"\"\n",
    "    norm = torch.norm(inputs, p=2, dim=axis, keepdim=True)\n",
    "    scale = norm**2 / (1 + norm**2) / (norm + 1e-8)\n",
    "    return scale * inputs\n",
    "\n",
    "\n",
    "class DenseCapsule(nn.Module):\n",
    "    \"\"\"\n",
    "    The dense capsule layer. It is similar to Dense (FC) layer. Dense layer has `in_num` inputs, each is a scalar, the\n",
    "    output of the neuron from the former layer, and it has `out_num` output neurons. DenseCapsule just expands the\n",
    "    output of the neuron from scalar to vector. So its input size = [None, in_num_caps, in_dim_caps] and output size = \\\n",
    "    [None, out_num_caps, out_dim_caps]. For Dense Layer, in_dim_caps = out_dim_caps = 1.\n",
    "    :param in_num_caps: number of cpasules inputted to this layer\n",
    "    :param in_dim_caps: dimension of input capsules\n",
    "    :param out_num_caps: number of capsules outputted from this layer\n",
    "    :param out_dim_caps: dimension of output capsules\n",
    "    :param routings: number of iterations for the routing algorithm\n",
    "    \"\"\"\n",
    "    def __init__(self, in_num_caps, in_dim_caps, out_num_caps, out_dim_caps, routings=3):\n",
    "        super(DenseCapsule, self).__init__()\n",
    "        self.in_num_caps = in_num_caps\n",
    "        self.in_dim_caps = in_dim_caps\n",
    "        self.out_num_caps = out_num_caps\n",
    "        self.out_dim_caps = out_dim_caps\n",
    "        self.routings = routings\n",
    "        self.weight = nn.Parameter(0.01 * torch.randn(out_num_caps, in_num_caps, out_dim_caps, in_dim_caps))\n",
    "\n",
    "    def forward(self, x):\n",
    "        # x.size=[batch, in_num_caps, in_dim_caps]\n",
    "        # expanded to    [batch, 1,            in_num_caps, in_dim_caps,  1]\n",
    "        # weight.size   =[       out_num_caps, in_num_caps, out_dim_caps, in_dim_caps]\n",
    "        # torch.matmul: [out_dim_caps, in_dim_caps] x [in_dim_caps, 1] -> [out_dim_caps, 1]\n",
    "        # => x_hat.size =[batch, out_num_caps, in_num_caps, out_dim_caps]\n",
    "        x_hat = torch.squeeze(torch.matmul(self.weight, x[:, None, :, :, None]), dim=-1)\n",
    "\n",
    "        # In forward pass, `x_hat_detached` = `x_hat`;\n",
    "        # In backward, no gradient can flow from `x_hat_detached` back to `x_hat`.\n",
    "        x_hat_detached = x_hat.detach()\n",
    "\n",
    "        # The prior for coupling coefficient, initialized as zeros.\n",
    "        # b.size = [batch, out_num_caps, in_num_caps]\n",
    "        b = Variable(torch.zeros(x.size(0), self.out_num_caps, self.in_num_caps)).cuda()\n",
    "\n",
    "        assert self.routings > 0, 'The \\'routings\\' should be > 0.'\n",
    "        for i in range(self.routings):\n",
    "            # c.size = [batch, out_num_caps, in_num_caps]\n",
    "            c = F.softmax(b, dim=1)\n",
    "\n",
    "            # At last iteration, use `x_hat` to compute `outputs` in order to backpropagate gradient\n",
    "            if i == self.routings - 1:\n",
    "                # c.size expanded to [batch, out_num_caps, in_num_caps, 1           ]\n",
    "                # x_hat.size     =   [batch, out_num_caps, in_num_caps, out_dim_caps]\n",
    "                # => outputs.size=   [batch, out_num_caps, 1,           out_dim_caps]\n",
    "                outputs = squash(torch.sum(c[:, :, :, None] * x_hat, dim=-2, keepdim=True))\n",
    "                # outputs = squash(torch.matmul(c[:, :, None, :], x_hat))  # alternative way\n",
    "            else:  # Otherwise, use `x_hat_detached` to update `b`. No gradients flow on this path.\n",
    "                outputs = squash(torch.sum(c[:, :, :, None] * x_hat_detached, dim=-2, keepdim=True))\n",
    "                # outputs = squash(torch.matmul(c[:, :, None, :], x_hat_detached))  # alternative way\n",
    "\n",
    "                # outputs.size       =[batch, out_num_caps, 1,           out_dim_caps]\n",
    "                # x_hat_detached.size=[batch, out_num_caps, in_num_caps, out_dim_caps]\n",
    "                # => b.size          =[batch, out_num_caps, in_num_caps]\n",
    "                b = b + torch.sum(outputs * x_hat_detached, dim=-1)\n",
    "\n",
    "        return torch.squeeze(outputs, dim=-2)\n",
    "\n",
    "\n",
    "class PrimaryCapsule(nn.Module):\n",
    "    \"\"\"\n",
    "    Apply Conv2D with `out_channels` and then reshape to get capsules\n",
    "    :param in_channels: input channels\n",
    "    :param out_channels: output channels\n",
    "    :param dim_caps: dimension of capsule\n",
    "    :param kernel_size: kernel size\n",
    "    :return: output tensor, size=[batch, num_caps, dim_caps]\n",
    "    \"\"\"\n",
    "    def __init__(self, in_channels, out_channels, dim_caps, kernel_size, stride=1, padding=0):\n",
    "        super(PrimaryCapsule, self).__init__()\n",
    "        self.dim_caps = dim_caps\n",
    "        self.conv2d = nn.Conv2d(in_channels, out_channels, kernel_size=kernel_size, stride=stride, padding=padding)\n",
    "\n",
    "    def forward(self, x):\n",
    "        outputs = self.conv2d(x)\n",
    "        outputs = outputs.reshape(x.size(0), -1, self.dim_caps)\n",
    "        return squash(outputs)"
   ]
  },
  {
   "cell_type": "code",
   "execution_count": 15,
   "metadata": {},
   "outputs": [],
   "source": [
    "class CapsuleNet(nn.Module):\n",
    "    \"\"\"\n",
    "    A Capsule Network on MNIST.\n",
    "    :param input_size: data size = [channels, width, height]\n",
    "    :param classes: number of classes\n",
    "    :param routings: number of routing iterations\n",
    "    Shape:\n",
    "        - Input: (batch, channels, width, height), optional (batch, classes) .\n",
    "        - Output:((batch, classes), (batch, channels, width, height))\n",
    "    \"\"\"\n",
    "    def __init__(self, input_size, classes, routings):\n",
    "        super(CapsuleNet, self).__init__()\n",
    "        self.input_size = input_size\n",
    "        self.classes = classes\n",
    "        self.routings = routings\n",
    "\n",
    "        # Layer 1: Just a conventional Conv2D layer\n",
    "        self.conv1 = nn.Conv2d(input_size[0], 256, kernel_size=(1,9), stride=1, padding=0)\n",
    "\n",
    "        # Layer 2: Conv2D layer with `squash` activation, then reshape to [None, num_caps, dim_caps]\n",
    "        self.primarycaps = PrimaryCapsule(256, 256, 8, kernel_size=(1,9), stride=(1,2), padding=0)\n",
    "\n",
    "        # Layer 3: Capsule layer. Routing algorithm works here.\n",
    "        self.digitcaps = DenseCapsule(in_num_caps=32*22, in_dim_caps=8,\n",
    "                                      out_num_caps=classes, out_dim_caps=16, routings=routings)\n",
    "\n",
    "        # Decoder network.\n",
    "        self.decoder = nn.Sequential(\n",
    "            nn.Linear(16*classes, 512),\n",
    "            nn.ReLU(inplace=True),\n",
    "            nn.Linear(512, 1024),\n",
    "            nn.ReLU(inplace=True),\n",
    "            nn.Linear(1024, 1),\n",
    "            #nn.Sigmoid()\n",
    "        )\n",
    "\n",
    "        self.relu = nn.ReLU()\n",
    "\n",
    "    def forward(self, x, y=None):\n",
    "        #print(x.shape)\n",
    "        x = self.relu(self.conv1(x.unsqueeze(2)))\n",
    "        x = self.primarycaps(x)\n",
    "        x = self.digitcaps(x)\n",
    "        length = x.norm(dim=-1)\n",
    "        if y is None:  # during testing, no label given. create one-hot coding using `length`\n",
    "            index = length.max(dim=1)[1]\n",
    "            y = Variable(torch.zeros(length.size()).scatter_(1, index.view(-1, 1).cpu().data, 1.).cuda())\n",
    "        reconstruction = self.decoder((x * y[:, :, None]).view(x.size(0), -1))\n",
    "        return reconstruction.view(-1, 1)"
   ]
  },
  {
   "cell_type": "code",
   "execution_count": 16,
   "metadata": {},
   "outputs": [],
   "source": [
    "def caps_loss(y_true, y_pred, x, x_recon, lam_recon):\n",
    "    \"\"\"\n",
    "    Capsule loss = Margin loss + lam_recon * reconstruction loss.\n",
    "    :param y_true: true labels, one-hot coding, size=[batch, classes]\n",
    "    :param y_pred: predicted labels by CapsNet, size=[batch, classes]\n",
    "    :param x: input data, size=[batch, channels, width, height]\n",
    "    :param x_recon: reconstructed data, size is same as `x`\n",
    "    :param lam_recon: coefficient for reconstruction loss\n",
    "    :return: Variable contains a scalar loss value.\n",
    "    \"\"\"\n",
    "    y_true = y_true.squeeze()\n",
    "    y_pred = y_pred.squeeze()\n",
    "    x = x.squeeze()\n",
    "    x_recon = x_recon.squeeze()\n",
    "    \n",
    "    L = y_true * torch.clamp(0.9 - y_pred, min=0.) ** 2 + \\\n",
    "        0.5 * (1 - y_true) * torch.clamp(y_pred - 0.1, min=0.) ** 2\n",
    "    L_margin = L.sum(dim=1).mean()\n",
    "\n",
    "    L_recon = nn.MSELoss()(x_recon, x)\n",
    "\n",
    "    return L_margin + lam_recon * L_recon"
   ]
  },
  {
   "cell_type": "code",
   "execution_count": 17,
   "metadata": {},
   "outputs": [],
   "source": [
    "model = CapsuleNet([15,60,1], 5, 1).to(device) \n",
    "\n",
    "optimizer = torch.optim.Adam(model.parameters(), lr=lr)\n",
    "criterion = nn.MSELoss()"
   ]
  },
  {
   "cell_type": "code",
   "execution_count": 18,
   "metadata": {},
   "outputs": [
    {
     "data": {
      "text/plain": [
       "CapsuleNet(\n",
       "  (conv1): Conv2d(15, 256, kernel_size=(1, 9), stride=(1, 1))\n",
       "  (primarycaps): PrimaryCapsule(\n",
       "    (conv2d): Conv2d(256, 256, kernel_size=(1, 9), stride=(1, 2))\n",
       "  )\n",
       "  (digitcaps): DenseCapsule()\n",
       "  (decoder): Sequential(\n",
       "    (0): Linear(in_features=80, out_features=512, bias=True)\n",
       "    (1): ReLU(inplace=True)\n",
       "    (2): Linear(in_features=512, out_features=1024, bias=True)\n",
       "    (3): ReLU(inplace=True)\n",
       "    (4): Linear(in_features=1024, out_features=1, bias=True)\n",
       "  )\n",
       "  (relu): ReLU()\n",
       ")"
      ]
     },
     "execution_count": 18,
     "metadata": {},
     "output_type": "execute_result"
    }
   ],
   "source": [
    "model"
   ]
  },
  {
   "cell_type": "markdown",
   "metadata": {},
   "source": [
    "# 3. Model Training and Evaluation"
   ]
  },
  {
   "cell_type": "code",
   "execution_count": 19,
   "metadata": {
    "scrolled": true
   },
   "outputs": [
    {
     "data": {
      "application/vnd.jupyter.widget-view+json": {
       "model_id": "",
       "version_major": 2,
       "version_minor": 0
      },
      "text/plain": [
       "  0%|          | 0/390 [00:00<?, ?it/s]"
      ]
     },
     "metadata": {},
     "output_type": "display_data"
    },
    {
     "data": {
      "application/vnd.jupyter.widget-view+json": {
       "model_id": "",
       "version_major": 2,
       "version_minor": 0
      },
      "text/plain": [
       "  0%|          | 0/46 [00:00<?, ?it/s]"
      ]
     },
     "metadata": {},
     "output_type": "display_data"
    },
    {
     "name": "stdout",
     "output_type": "stream",
     "text": [
      "epoch: 0/200 | trn_loss: 0.0704 | val_loss: 0.0167\n"
     ]
    },
    {
     "data": {
      "application/vnd.jupyter.widget-view+json": {
       "model_id": "",
       "version_major": 2,
       "version_minor": 0
      },
      "text/plain": [
       "  0%|          | 0/390 [00:00<?, ?it/s]"
      ]
     },
     "metadata": {},
     "output_type": "display_data"
    },
    {
     "data": {
      "application/vnd.jupyter.widget-view+json": {
       "model_id": "",
       "version_major": 2,
       "version_minor": 0
      },
      "text/plain": [
       "  0%|          | 0/46 [00:00<?, ?it/s]"
      ]
     },
     "metadata": {},
     "output_type": "display_data"
    },
    {
     "name": "stdout",
     "output_type": "stream",
     "text": [
      "epoch: 1/200 | trn_loss: 0.0256 | val_loss: 0.0154\n"
     ]
    },
    {
     "data": {
      "application/vnd.jupyter.widget-view+json": {
       "model_id": "",
       "version_major": 2,
       "version_minor": 0
      },
      "text/plain": [
       "  0%|          | 0/390 [00:00<?, ?it/s]"
      ]
     },
     "metadata": {},
     "output_type": "display_data"
    },
    {
     "data": {
      "application/vnd.jupyter.widget-view+json": {
       "model_id": "",
       "version_major": 2,
       "version_minor": 0
      },
      "text/plain": [
       "  0%|          | 0/46 [00:00<?, ?it/s]"
      ]
     },
     "metadata": {},
     "output_type": "display_data"
    },
    {
     "name": "stdout",
     "output_type": "stream",
     "text": [
      "epoch: 2/200 | trn_loss: 0.0241 | val_loss: 0.0191\n"
     ]
    },
    {
     "data": {
      "application/vnd.jupyter.widget-view+json": {
       "model_id": "",
       "version_major": 2,
       "version_minor": 0
      },
      "text/plain": [
       "  0%|          | 0/390 [00:00<?, ?it/s]"
      ]
     },
     "metadata": {},
     "output_type": "display_data"
    },
    {
     "data": {
      "application/vnd.jupyter.widget-view+json": {
       "model_id": "",
       "version_major": 2,
       "version_minor": 0
      },
      "text/plain": [
       "  0%|          | 0/46 [00:00<?, ?it/s]"
      ]
     },
     "metadata": {},
     "output_type": "display_data"
    },
    {
     "name": "stdout",
     "output_type": "stream",
     "text": [
      "epoch: 3/200 | trn_loss: 0.0233 | val_loss: 0.0151\n"
     ]
    },
    {
     "data": {
      "application/vnd.jupyter.widget-view+json": {
       "model_id": "",
       "version_major": 2,
       "version_minor": 0
      },
      "text/plain": [
       "  0%|          | 0/390 [00:00<?, ?it/s]"
      ]
     },
     "metadata": {},
     "output_type": "display_data"
    },
    {
     "data": {
      "application/vnd.jupyter.widget-view+json": {
       "model_id": "",
       "version_major": 2,
       "version_minor": 0
      },
      "text/plain": [
       "  0%|          | 0/46 [00:00<?, ?it/s]"
      ]
     },
     "metadata": {},
     "output_type": "display_data"
    },
    {
     "name": "stdout",
     "output_type": "stream",
     "text": [
      "epoch: 4/200 | trn_loss: 0.0224 | val_loss: 0.0177\n"
     ]
    },
    {
     "data": {
      "application/vnd.jupyter.widget-view+json": {
       "model_id": "",
       "version_major": 2,
       "version_minor": 0
      },
      "text/plain": [
       "  0%|          | 0/390 [00:00<?, ?it/s]"
      ]
     },
     "metadata": {},
     "output_type": "display_data"
    },
    {
     "data": {
      "application/vnd.jupyter.widget-view+json": {
       "model_id": "",
       "version_major": 2,
       "version_minor": 0
      },
      "text/plain": [
       "  0%|          | 0/46 [00:00<?, ?it/s]"
      ]
     },
     "metadata": {},
     "output_type": "display_data"
    },
    {
     "name": "stdout",
     "output_type": "stream",
     "text": [
      "epoch: 5/200 | trn_loss: 0.0222 | val_loss: 0.0153\n"
     ]
    },
    {
     "data": {
      "application/vnd.jupyter.widget-view+json": {
       "model_id": "",
       "version_major": 2,
       "version_minor": 0
      },
      "text/plain": [
       "  0%|          | 0/390 [00:00<?, ?it/s]"
      ]
     },
     "metadata": {},
     "output_type": "display_data"
    },
    {
     "data": {
      "application/vnd.jupyter.widget-view+json": {
       "model_id": "",
       "version_major": 2,
       "version_minor": 0
      },
      "text/plain": [
       "  0%|          | 0/46 [00:00<?, ?it/s]"
      ]
     },
     "metadata": {},
     "output_type": "display_data"
    },
    {
     "name": "stdout",
     "output_type": "stream",
     "text": [
      "epoch: 6/200 | trn_loss: 0.0220 | val_loss: 0.0171\n"
     ]
    },
    {
     "data": {
      "application/vnd.jupyter.widget-view+json": {
       "model_id": "",
       "version_major": 2,
       "version_minor": 0
      },
      "text/plain": [
       "  0%|          | 0/390 [00:00<?, ?it/s]"
      ]
     },
     "metadata": {},
     "output_type": "display_data"
    },
    {
     "data": {
      "application/vnd.jupyter.widget-view+json": {
       "model_id": "",
       "version_major": 2,
       "version_minor": 0
      },
      "text/plain": [
       "  0%|          | 0/46 [00:00<?, ?it/s]"
      ]
     },
     "metadata": {},
     "output_type": "display_data"
    },
    {
     "name": "stdout",
     "output_type": "stream",
     "text": [
      "epoch: 7/200 | trn_loss: 0.0217 | val_loss: 0.0156\n"
     ]
    },
    {
     "data": {
      "application/vnd.jupyter.widget-view+json": {
       "model_id": "",
       "version_major": 2,
       "version_minor": 0
      },
      "text/plain": [
       "  0%|          | 0/390 [00:00<?, ?it/s]"
      ]
     },
     "metadata": {},
     "output_type": "display_data"
    },
    {
     "data": {
      "application/vnd.jupyter.widget-view+json": {
       "model_id": "",
       "version_major": 2,
       "version_minor": 0
      },
      "text/plain": [
       "  0%|          | 0/46 [00:00<?, ?it/s]"
      ]
     },
     "metadata": {},
     "output_type": "display_data"
    },
    {
     "name": "stdout",
     "output_type": "stream",
     "text": [
      "epoch: 8/200 | trn_loss: 0.0215 | val_loss: 0.0149\n"
     ]
    },
    {
     "data": {
      "application/vnd.jupyter.widget-view+json": {
       "model_id": "",
       "version_major": 2,
       "version_minor": 0
      },
      "text/plain": [
       "  0%|          | 0/390 [00:00<?, ?it/s]"
      ]
     },
     "metadata": {},
     "output_type": "display_data"
    },
    {
     "data": {
      "application/vnd.jupyter.widget-view+json": {
       "model_id": "",
       "version_major": 2,
       "version_minor": 0
      },
      "text/plain": [
       "  0%|          | 0/46 [00:00<?, ?it/s]"
      ]
     },
     "metadata": {},
     "output_type": "display_data"
    },
    {
     "name": "stdout",
     "output_type": "stream",
     "text": [
      "epoch: 9/200 | trn_loss: 0.0210 | val_loss: 0.0186\n"
     ]
    },
    {
     "data": {
      "application/vnd.jupyter.widget-view+json": {
       "model_id": "",
       "version_major": 2,
       "version_minor": 0
      },
      "text/plain": [
       "  0%|          | 0/390 [00:00<?, ?it/s]"
      ]
     },
     "metadata": {},
     "output_type": "display_data"
    },
    {
     "data": {
      "application/vnd.jupyter.widget-view+json": {
       "model_id": "",
       "version_major": 2,
       "version_minor": 0
      },
      "text/plain": [
       "  0%|          | 0/46 [00:00<?, ?it/s]"
      ]
     },
     "metadata": {},
     "output_type": "display_data"
    },
    {
     "name": "stdout",
     "output_type": "stream",
     "text": [
      "epoch: 10/200 | trn_loss: 0.0211 | val_loss: 0.0156\n"
     ]
    },
    {
     "data": {
      "application/vnd.jupyter.widget-view+json": {
       "model_id": "",
       "version_major": 2,
       "version_minor": 0
      },
      "text/plain": [
       "  0%|          | 0/390 [00:00<?, ?it/s]"
      ]
     },
     "metadata": {},
     "output_type": "display_data"
    },
    {
     "data": {
      "application/vnd.jupyter.widget-view+json": {
       "model_id": "",
       "version_major": 2,
       "version_minor": 0
      },
      "text/plain": [
       "  0%|          | 0/46 [00:00<?, ?it/s]"
      ]
     },
     "metadata": {},
     "output_type": "display_data"
    },
    {
     "name": "stdout",
     "output_type": "stream",
     "text": [
      "epoch: 11/200 | trn_loss: 0.0209 | val_loss: 0.0149\n"
     ]
    },
    {
     "data": {
      "application/vnd.jupyter.widget-view+json": {
       "model_id": "",
       "version_major": 2,
       "version_minor": 0
      },
      "text/plain": [
       "  0%|          | 0/390 [00:00<?, ?it/s]"
      ]
     },
     "metadata": {},
     "output_type": "display_data"
    },
    {
     "data": {
      "application/vnd.jupyter.widget-view+json": {
       "model_id": "",
       "version_major": 2,
       "version_minor": 0
      },
      "text/plain": [
       "  0%|          | 0/46 [00:00<?, ?it/s]"
      ]
     },
     "metadata": {},
     "output_type": "display_data"
    },
    {
     "name": "stdout",
     "output_type": "stream",
     "text": [
      "epoch: 12/200 | trn_loss: 0.0208 | val_loss: 0.0204\n"
     ]
    },
    {
     "data": {
      "application/vnd.jupyter.widget-view+json": {
       "model_id": "",
       "version_major": 2,
       "version_minor": 0
      },
      "text/plain": [
       "  0%|          | 0/390 [00:00<?, ?it/s]"
      ]
     },
     "metadata": {},
     "output_type": "display_data"
    },
    {
     "data": {
      "application/vnd.jupyter.widget-view+json": {
       "model_id": "",
       "version_major": 2,
       "version_minor": 0
      },
      "text/plain": [
       "  0%|          | 0/46 [00:00<?, ?it/s]"
      ]
     },
     "metadata": {},
     "output_type": "display_data"
    },
    {
     "name": "stdout",
     "output_type": "stream",
     "text": [
      "epoch: 13/200 | trn_loss: 0.0204 | val_loss: 0.0148\n"
     ]
    },
    {
     "data": {
      "application/vnd.jupyter.widget-view+json": {
       "model_id": "",
       "version_major": 2,
       "version_minor": 0
      },
      "text/plain": [
       "  0%|          | 0/390 [00:00<?, ?it/s]"
      ]
     },
     "metadata": {},
     "output_type": "display_data"
    },
    {
     "data": {
      "application/vnd.jupyter.widget-view+json": {
       "model_id": "",
       "version_major": 2,
       "version_minor": 0
      },
      "text/plain": [
       "  0%|          | 0/46 [00:00<?, ?it/s]"
      ]
     },
     "metadata": {},
     "output_type": "display_data"
    },
    {
     "name": "stdout",
     "output_type": "stream",
     "text": [
      "epoch: 14/200 | trn_loss: 0.0205 | val_loss: 0.0184\n"
     ]
    },
    {
     "data": {
      "application/vnd.jupyter.widget-view+json": {
       "model_id": "",
       "version_major": 2,
       "version_minor": 0
      },
      "text/plain": [
       "  0%|          | 0/390 [00:00<?, ?it/s]"
      ]
     },
     "metadata": {},
     "output_type": "display_data"
    },
    {
     "data": {
      "application/vnd.jupyter.widget-view+json": {
       "model_id": "",
       "version_major": 2,
       "version_minor": 0
      },
      "text/plain": [
       "  0%|          | 0/46 [00:00<?, ?it/s]"
      ]
     },
     "metadata": {},
     "output_type": "display_data"
    },
    {
     "name": "stdout",
     "output_type": "stream",
     "text": [
      "epoch: 15/200 | trn_loss: 0.0209 | val_loss: 0.0150\n"
     ]
    },
    {
     "data": {
      "application/vnd.jupyter.widget-view+json": {
       "model_id": "",
       "version_major": 2,
       "version_minor": 0
      },
      "text/plain": [
       "  0%|          | 0/390 [00:00<?, ?it/s]"
      ]
     },
     "metadata": {},
     "output_type": "display_data"
    },
    {
     "data": {
      "application/vnd.jupyter.widget-view+json": {
       "model_id": "",
       "version_major": 2,
       "version_minor": 0
      },
      "text/plain": [
       "  0%|          | 0/46 [00:00<?, ?it/s]"
      ]
     },
     "metadata": {},
     "output_type": "display_data"
    },
    {
     "name": "stdout",
     "output_type": "stream",
     "text": [
      "epoch: 16/200 | trn_loss: 0.0201 | val_loss: 0.0171\n"
     ]
    },
    {
     "data": {
      "application/vnd.jupyter.widget-view+json": {
       "model_id": "",
       "version_major": 2,
       "version_minor": 0
      },
      "text/plain": [
       "  0%|          | 0/390 [00:00<?, ?it/s]"
      ]
     },
     "metadata": {},
     "output_type": "display_data"
    },
    {
     "data": {
      "application/vnd.jupyter.widget-view+json": {
       "model_id": "",
       "version_major": 2,
       "version_minor": 0
      },
      "text/plain": [
       "  0%|          | 0/46 [00:00<?, ?it/s]"
      ]
     },
     "metadata": {},
     "output_type": "display_data"
    },
    {
     "name": "stdout",
     "output_type": "stream",
     "text": [
      "epoch: 17/200 | trn_loss: 0.0204 | val_loss: 0.0201\n"
     ]
    },
    {
     "data": {
      "application/vnd.jupyter.widget-view+json": {
       "model_id": "",
       "version_major": 2,
       "version_minor": 0
      },
      "text/plain": [
       "  0%|          | 0/390 [00:00<?, ?it/s]"
      ]
     },
     "metadata": {},
     "output_type": "display_data"
    },
    {
     "data": {
      "application/vnd.jupyter.widget-view+json": {
       "model_id": "",
       "version_major": 2,
       "version_minor": 0
      },
      "text/plain": [
       "  0%|          | 0/46 [00:00<?, ?it/s]"
      ]
     },
     "metadata": {},
     "output_type": "display_data"
    },
    {
     "name": "stdout",
     "output_type": "stream",
     "text": [
      "epoch: 18/200 | trn_loss: 0.0204 | val_loss: 0.0201\n"
     ]
    },
    {
     "data": {
      "application/vnd.jupyter.widget-view+json": {
       "model_id": "",
       "version_major": 2,
       "version_minor": 0
      },
      "text/plain": [
       "  0%|          | 0/390 [00:00<?, ?it/s]"
      ]
     },
     "metadata": {},
     "output_type": "display_data"
    },
    {
     "data": {
      "application/vnd.jupyter.widget-view+json": {
       "model_id": "",
       "version_major": 2,
       "version_minor": 0
      },
      "text/plain": [
       "  0%|          | 0/46 [00:00<?, ?it/s]"
      ]
     },
     "metadata": {},
     "output_type": "display_data"
    },
    {
     "name": "stdout",
     "output_type": "stream",
     "text": [
      "epoch: 19/200 | trn_loss: 0.0201 | val_loss: 0.0150\n"
     ]
    },
    {
     "data": {
      "application/vnd.jupyter.widget-view+json": {
       "model_id": "",
       "version_major": 2,
       "version_minor": 0
      },
      "text/plain": [
       "  0%|          | 0/390 [00:00<?, ?it/s]"
      ]
     },
     "metadata": {},
     "output_type": "display_data"
    },
    {
     "data": {
      "application/vnd.jupyter.widget-view+json": {
       "model_id": "",
       "version_major": 2,
       "version_minor": 0
      },
      "text/plain": [
       "  0%|          | 0/46 [00:00<?, ?it/s]"
      ]
     },
     "metadata": {},
     "output_type": "display_data"
    },
    {
     "name": "stdout",
     "output_type": "stream",
     "text": [
      "epoch: 20/200 | trn_loss: 0.0202 | val_loss: 0.0151\n"
     ]
    },
    {
     "data": {
      "application/vnd.jupyter.widget-view+json": {
       "model_id": "",
       "version_major": 2,
       "version_minor": 0
      },
      "text/plain": [
       "  0%|          | 0/390 [00:00<?, ?it/s]"
      ]
     },
     "metadata": {},
     "output_type": "display_data"
    },
    {
     "data": {
      "application/vnd.jupyter.widget-view+json": {
       "model_id": "",
       "version_major": 2,
       "version_minor": 0
      },
      "text/plain": [
       "  0%|          | 0/46 [00:00<?, ?it/s]"
      ]
     },
     "metadata": {},
     "output_type": "display_data"
    },
    {
     "name": "stdout",
     "output_type": "stream",
     "text": [
      "epoch: 21/200 | trn_loss: 0.0199 | val_loss: 0.0170\n"
     ]
    },
    {
     "data": {
      "application/vnd.jupyter.widget-view+json": {
       "model_id": "",
       "version_major": 2,
       "version_minor": 0
      },
      "text/plain": [
       "  0%|          | 0/390 [00:00<?, ?it/s]"
      ]
     },
     "metadata": {},
     "output_type": "display_data"
    },
    {
     "data": {
      "application/vnd.jupyter.widget-view+json": {
       "model_id": "",
       "version_major": 2,
       "version_minor": 0
      },
      "text/plain": [
       "  0%|          | 0/46 [00:00<?, ?it/s]"
      ]
     },
     "metadata": {},
     "output_type": "display_data"
    },
    {
     "name": "stdout",
     "output_type": "stream",
     "text": [
      "epoch: 22/200 | trn_loss: 0.0197 | val_loss: 0.0148\n"
     ]
    },
    {
     "data": {
      "application/vnd.jupyter.widget-view+json": {
       "model_id": "",
       "version_major": 2,
       "version_minor": 0
      },
      "text/plain": [
       "  0%|          | 0/390 [00:00<?, ?it/s]"
      ]
     },
     "metadata": {},
     "output_type": "display_data"
    },
    {
     "data": {
      "application/vnd.jupyter.widget-view+json": {
       "model_id": "",
       "version_major": 2,
       "version_minor": 0
      },
      "text/plain": [
       "  0%|          | 0/46 [00:00<?, ?it/s]"
      ]
     },
     "metadata": {},
     "output_type": "display_data"
    },
    {
     "name": "stdout",
     "output_type": "stream",
     "text": [
      "epoch: 23/200 | trn_loss: 0.0197 | val_loss: 0.0147\n"
     ]
    },
    {
     "data": {
      "application/vnd.jupyter.widget-view+json": {
       "model_id": "",
       "version_major": 2,
       "version_minor": 0
      },
      "text/plain": [
       "  0%|          | 0/390 [00:00<?, ?it/s]"
      ]
     },
     "metadata": {},
     "output_type": "display_data"
    },
    {
     "data": {
      "application/vnd.jupyter.widget-view+json": {
       "model_id": "",
       "version_major": 2,
       "version_minor": 0
      },
      "text/plain": [
       "  0%|          | 0/46 [00:00<?, ?it/s]"
      ]
     },
     "metadata": {},
     "output_type": "display_data"
    },
    {
     "name": "stdout",
     "output_type": "stream",
     "text": [
      "epoch: 24/200 | trn_loss: 0.0198 | val_loss: 0.0147\n"
     ]
    },
    {
     "data": {
      "application/vnd.jupyter.widget-view+json": {
       "model_id": "",
       "version_major": 2,
       "version_minor": 0
      },
      "text/plain": [
       "  0%|          | 0/390 [00:00<?, ?it/s]"
      ]
     },
     "metadata": {},
     "output_type": "display_data"
    },
    {
     "data": {
      "application/vnd.jupyter.widget-view+json": {
       "model_id": "",
       "version_major": 2,
       "version_minor": 0
      },
      "text/plain": [
       "  0%|          | 0/46 [00:00<?, ?it/s]"
      ]
     },
     "metadata": {},
     "output_type": "display_data"
    },
    {
     "name": "stdout",
     "output_type": "stream",
     "text": [
      "epoch: 25/200 | trn_loss: 0.0196 | val_loss: 0.0175\n"
     ]
    },
    {
     "data": {
      "application/vnd.jupyter.widget-view+json": {
       "model_id": "",
       "version_major": 2,
       "version_minor": 0
      },
      "text/plain": [
       "  0%|          | 0/390 [00:00<?, ?it/s]"
      ]
     },
     "metadata": {},
     "output_type": "display_data"
    },
    {
     "data": {
      "application/vnd.jupyter.widget-view+json": {
       "model_id": "",
       "version_major": 2,
       "version_minor": 0
      },
      "text/plain": [
       "  0%|          | 0/46 [00:00<?, ?it/s]"
      ]
     },
     "metadata": {},
     "output_type": "display_data"
    },
    {
     "name": "stdout",
     "output_type": "stream",
     "text": [
      "epoch: 26/200 | trn_loss: 0.0190 | val_loss: 0.0147\n"
     ]
    },
    {
     "data": {
      "application/vnd.jupyter.widget-view+json": {
       "model_id": "",
       "version_major": 2,
       "version_minor": 0
      },
      "text/plain": [
       "  0%|          | 0/390 [00:00<?, ?it/s]"
      ]
     },
     "metadata": {},
     "output_type": "display_data"
    },
    {
     "data": {
      "application/vnd.jupyter.widget-view+json": {
       "model_id": "",
       "version_major": 2,
       "version_minor": 0
      },
      "text/plain": [
       "  0%|          | 0/46 [00:00<?, ?it/s]"
      ]
     },
     "metadata": {},
     "output_type": "display_data"
    },
    {
     "name": "stdout",
     "output_type": "stream",
     "text": [
      "epoch: 27/200 | trn_loss: 0.0196 | val_loss: 0.0166\n"
     ]
    },
    {
     "data": {
      "application/vnd.jupyter.widget-view+json": {
       "model_id": "",
       "version_major": 2,
       "version_minor": 0
      },
      "text/plain": [
       "  0%|          | 0/390 [00:00<?, ?it/s]"
      ]
     },
     "metadata": {},
     "output_type": "display_data"
    },
    {
     "data": {
      "application/vnd.jupyter.widget-view+json": {
       "model_id": "",
       "version_major": 2,
       "version_minor": 0
      },
      "text/plain": [
       "  0%|          | 0/46 [00:00<?, ?it/s]"
      ]
     },
     "metadata": {},
     "output_type": "display_data"
    },
    {
     "name": "stdout",
     "output_type": "stream",
     "text": [
      "epoch: 28/200 | trn_loss: 0.0196 | val_loss: 0.0151\n"
     ]
    },
    {
     "data": {
      "application/vnd.jupyter.widget-view+json": {
       "model_id": "",
       "version_major": 2,
       "version_minor": 0
      },
      "text/plain": [
       "  0%|          | 0/390 [00:00<?, ?it/s]"
      ]
     },
     "metadata": {},
     "output_type": "display_data"
    },
    {
     "data": {
      "application/vnd.jupyter.widget-view+json": {
       "model_id": "",
       "version_major": 2,
       "version_minor": 0
      },
      "text/plain": [
       "  0%|          | 0/46 [00:00<?, ?it/s]"
      ]
     },
     "metadata": {},
     "output_type": "display_data"
    },
    {
     "name": "stdout",
     "output_type": "stream",
     "text": [
      "epoch: 29/200 | trn_loss: 0.0194 | val_loss: 0.0154\n"
     ]
    },
    {
     "data": {
      "application/vnd.jupyter.widget-view+json": {
       "model_id": "",
       "version_major": 2,
       "version_minor": 0
      },
      "text/plain": [
       "  0%|          | 0/390 [00:00<?, ?it/s]"
      ]
     },
     "metadata": {},
     "output_type": "display_data"
    },
    {
     "data": {
      "application/vnd.jupyter.widget-view+json": {
       "model_id": "",
       "version_major": 2,
       "version_minor": 0
      },
      "text/plain": [
       "  0%|          | 0/46 [00:00<?, ?it/s]"
      ]
     },
     "metadata": {},
     "output_type": "display_data"
    },
    {
     "name": "stdout",
     "output_type": "stream",
     "text": [
      "epoch: 30/200 | trn_loss: 0.0192 | val_loss: 0.0210\n"
     ]
    },
    {
     "data": {
      "application/vnd.jupyter.widget-view+json": {
       "model_id": "",
       "version_major": 2,
       "version_minor": 0
      },
      "text/plain": [
       "  0%|          | 0/390 [00:00<?, ?it/s]"
      ]
     },
     "metadata": {},
     "output_type": "display_data"
    },
    {
     "data": {
      "application/vnd.jupyter.widget-view+json": {
       "model_id": "",
       "version_major": 2,
       "version_minor": 0
      },
      "text/plain": [
       "  0%|          | 0/46 [00:00<?, ?it/s]"
      ]
     },
     "metadata": {},
     "output_type": "display_data"
    },
    {
     "name": "stdout",
     "output_type": "stream",
     "text": [
      "epoch: 31/200 | trn_loss: 0.0190 | val_loss: 0.0154\n"
     ]
    },
    {
     "data": {
      "application/vnd.jupyter.widget-view+json": {
       "model_id": "3d13444135994caf87814a941d429f93",
       "version_major": 2,
       "version_minor": 0
      },
      "text/plain": [
       "  0%|          | 0/390 [00:00<?, ?it/s]"
      ]
     },
     "metadata": {},
     "output_type": "display_data"
    },
    {
     "ename": "KeyboardInterrupt",
     "evalue": "",
     "output_type": "error",
     "traceback": [
      "\u001b[0;31m---------------------------------------------------------------------------\u001b[0m",
      "\u001b[0;31mKeyboardInterrupt\u001b[0m                         Traceback (most recent call last)",
      "Input \u001b[0;32mIn [19]\u001b[0m, in \u001b[0;36m<module>\u001b[0;34m\u001b[0m\n\u001b[1;32m     10\u001b[0m y \u001b[38;5;241m=\u001b[39m y\u001b[38;5;241m.\u001b[39mto(device)\u001b[38;5;241m.\u001b[39msqueeze()\n\u001b[1;32m     12\u001b[0m optimizer\u001b[38;5;241m.\u001b[39mzero_grad()\n\u001b[0;32m---> 13\u001b[0m outputs \u001b[38;5;241m=\u001b[39m \u001b[43mmodel\u001b[49m\u001b[43m(\u001b[49m\u001b[43mx\u001b[49m\u001b[43m)\u001b[49m\n\u001b[1;32m     15\u001b[0m loss \u001b[38;5;241m=\u001b[39m torch\u001b[38;5;241m.\u001b[39msqrt(criterion(outputs\u001b[38;5;241m.\u001b[39msqueeze(), y\u001b[38;5;241m.\u001b[39msqueeze()))\n\u001b[1;32m     17\u001b[0m loss\u001b[38;5;241m.\u001b[39mbackward()\n",
      "File \u001b[0;32m~/anaconda3/envs/pytorch/lib/python3.8/site-packages/torch/nn/modules/module.py:1102\u001b[0m, in \u001b[0;36mModule._call_impl\u001b[0;34m(self, *input, **kwargs)\u001b[0m\n\u001b[1;32m   1098\u001b[0m \u001b[38;5;66;03m# If we don't have any hooks, we want to skip the rest of the logic in\u001b[39;00m\n\u001b[1;32m   1099\u001b[0m \u001b[38;5;66;03m# this function, and just call forward.\u001b[39;00m\n\u001b[1;32m   1100\u001b[0m \u001b[38;5;28;01mif\u001b[39;00m \u001b[38;5;129;01mnot\u001b[39;00m (\u001b[38;5;28mself\u001b[39m\u001b[38;5;241m.\u001b[39m_backward_hooks \u001b[38;5;129;01mor\u001b[39;00m \u001b[38;5;28mself\u001b[39m\u001b[38;5;241m.\u001b[39m_forward_hooks \u001b[38;5;129;01mor\u001b[39;00m \u001b[38;5;28mself\u001b[39m\u001b[38;5;241m.\u001b[39m_forward_pre_hooks \u001b[38;5;129;01mor\u001b[39;00m _global_backward_hooks\n\u001b[1;32m   1101\u001b[0m         \u001b[38;5;129;01mor\u001b[39;00m _global_forward_hooks \u001b[38;5;129;01mor\u001b[39;00m _global_forward_pre_hooks):\n\u001b[0;32m-> 1102\u001b[0m     \u001b[38;5;28;01mreturn\u001b[39;00m \u001b[43mforward_call\u001b[49m\u001b[43m(\u001b[49m\u001b[38;5;241;43m*\u001b[39;49m\u001b[38;5;28;43minput\u001b[39;49m\u001b[43m,\u001b[49m\u001b[43m \u001b[49m\u001b[38;5;241;43m*\u001b[39;49m\u001b[38;5;241;43m*\u001b[39;49m\u001b[43mkwargs\u001b[49m\u001b[43m)\u001b[49m\n\u001b[1;32m   1103\u001b[0m \u001b[38;5;66;03m# Do not call functions when jit is used\u001b[39;00m\n\u001b[1;32m   1104\u001b[0m full_backward_hooks, non_full_backward_hooks \u001b[38;5;241m=\u001b[39m [], []\n",
      "Input \u001b[0;32mIn [15]\u001b[0m, in \u001b[0;36mCapsuleNet.forward\u001b[0;34m(self, x, y)\u001b[0m\n\u001b[1;32m     41\u001b[0m x \u001b[38;5;241m=\u001b[39m \u001b[38;5;28mself\u001b[39m\u001b[38;5;241m.\u001b[39mrelu(\u001b[38;5;28mself\u001b[39m\u001b[38;5;241m.\u001b[39mconv1(x\u001b[38;5;241m.\u001b[39munsqueeze(\u001b[38;5;241m2\u001b[39m)))\n\u001b[1;32m     42\u001b[0m x \u001b[38;5;241m=\u001b[39m \u001b[38;5;28mself\u001b[39m\u001b[38;5;241m.\u001b[39mprimarycaps(x)\n\u001b[0;32m---> 43\u001b[0m x \u001b[38;5;241m=\u001b[39m \u001b[38;5;28;43mself\u001b[39;49m\u001b[38;5;241;43m.\u001b[39;49m\u001b[43mdigitcaps\u001b[49m\u001b[43m(\u001b[49m\u001b[43mx\u001b[49m\u001b[43m)\u001b[49m\n\u001b[1;32m     44\u001b[0m length \u001b[38;5;241m=\u001b[39m x\u001b[38;5;241m.\u001b[39mnorm(dim\u001b[38;5;241m=\u001b[39m\u001b[38;5;241m-\u001b[39m\u001b[38;5;241m1\u001b[39m)\n\u001b[1;32m     45\u001b[0m \u001b[38;5;28;01mif\u001b[39;00m y \u001b[38;5;129;01mis\u001b[39;00m \u001b[38;5;28;01mNone\u001b[39;00m:  \u001b[38;5;66;03m# during testing, no label given. create one-hot coding using `length`\u001b[39;00m\n",
      "File \u001b[0;32m~/anaconda3/envs/pytorch/lib/python3.8/site-packages/torch/nn/modules/module.py:1102\u001b[0m, in \u001b[0;36mModule._call_impl\u001b[0;34m(self, *input, **kwargs)\u001b[0m\n\u001b[1;32m   1098\u001b[0m \u001b[38;5;66;03m# If we don't have any hooks, we want to skip the rest of the logic in\u001b[39;00m\n\u001b[1;32m   1099\u001b[0m \u001b[38;5;66;03m# this function, and just call forward.\u001b[39;00m\n\u001b[1;32m   1100\u001b[0m \u001b[38;5;28;01mif\u001b[39;00m \u001b[38;5;129;01mnot\u001b[39;00m (\u001b[38;5;28mself\u001b[39m\u001b[38;5;241m.\u001b[39m_backward_hooks \u001b[38;5;129;01mor\u001b[39;00m \u001b[38;5;28mself\u001b[39m\u001b[38;5;241m.\u001b[39m_forward_hooks \u001b[38;5;129;01mor\u001b[39;00m \u001b[38;5;28mself\u001b[39m\u001b[38;5;241m.\u001b[39m_forward_pre_hooks \u001b[38;5;129;01mor\u001b[39;00m _global_backward_hooks\n\u001b[1;32m   1101\u001b[0m         \u001b[38;5;129;01mor\u001b[39;00m _global_forward_hooks \u001b[38;5;129;01mor\u001b[39;00m _global_forward_pre_hooks):\n\u001b[0;32m-> 1102\u001b[0m     \u001b[38;5;28;01mreturn\u001b[39;00m \u001b[43mforward_call\u001b[49m\u001b[43m(\u001b[49m\u001b[38;5;241;43m*\u001b[39;49m\u001b[38;5;28;43minput\u001b[39;49m\u001b[43m,\u001b[49m\u001b[43m \u001b[49m\u001b[38;5;241;43m*\u001b[39;49m\u001b[38;5;241;43m*\u001b[39;49m\u001b[43mkwargs\u001b[49m\u001b[43m)\u001b[49m\n\u001b[1;32m   1103\u001b[0m \u001b[38;5;66;03m# Do not call functions when jit is used\u001b[39;00m\n\u001b[1;32m   1104\u001b[0m full_backward_hooks, non_full_backward_hooks \u001b[38;5;241m=\u001b[39m [], []\n",
      "Input \u001b[0;32mIn [14]\u001b[0m, in \u001b[0;36mDenseCapsule.forward\u001b[0;34m(self, x)\u001b[0m\n\u001b[1;32m     50\u001b[0m x_hat_detached \u001b[38;5;241m=\u001b[39m x_hat\u001b[38;5;241m.\u001b[39mdetach()\n\u001b[1;32m     52\u001b[0m \u001b[38;5;66;03m# The prior for coupling coefficient, initialized as zeros.\u001b[39;00m\n\u001b[1;32m     53\u001b[0m \u001b[38;5;66;03m# b.size = [batch, out_num_caps, in_num_caps]\u001b[39;00m\n\u001b[0;32m---> 54\u001b[0m b \u001b[38;5;241m=\u001b[39m Variable(\u001b[43mtorch\u001b[49m\u001b[38;5;241;43m.\u001b[39;49m\u001b[43mzeros\u001b[49m\u001b[43m(\u001b[49m\u001b[43mx\u001b[49m\u001b[38;5;241;43m.\u001b[39;49m\u001b[43msize\u001b[49m\u001b[43m(\u001b[49m\u001b[38;5;241;43m0\u001b[39;49m\u001b[43m)\u001b[49m\u001b[43m,\u001b[49m\u001b[43m \u001b[49m\u001b[38;5;28;43mself\u001b[39;49m\u001b[38;5;241;43m.\u001b[39;49m\u001b[43mout_num_caps\u001b[49m\u001b[43m,\u001b[49m\u001b[43m \u001b[49m\u001b[38;5;28;43mself\u001b[39;49m\u001b[38;5;241;43m.\u001b[39;49m\u001b[43min_num_caps\u001b[49m\u001b[43m)\u001b[49m)\u001b[38;5;241m.\u001b[39mcuda()\n\u001b[1;32m     56\u001b[0m \u001b[38;5;28;01massert\u001b[39;00m \u001b[38;5;28mself\u001b[39m\u001b[38;5;241m.\u001b[39mroutings \u001b[38;5;241m>\u001b[39m \u001b[38;5;241m0\u001b[39m, \u001b[38;5;124m'\u001b[39m\u001b[38;5;124mThe \u001b[39m\u001b[38;5;130;01m\\'\u001b[39;00m\u001b[38;5;124mroutings\u001b[39m\u001b[38;5;130;01m\\'\u001b[39;00m\u001b[38;5;124m should be > 0.\u001b[39m\u001b[38;5;124m'\u001b[39m\n\u001b[1;32m     57\u001b[0m \u001b[38;5;28;01mfor\u001b[39;00m i \u001b[38;5;129;01min\u001b[39;00m \u001b[38;5;28mrange\u001b[39m(\u001b[38;5;28mself\u001b[39m\u001b[38;5;241m.\u001b[39mroutings):\n\u001b[1;32m     58\u001b[0m     \u001b[38;5;66;03m# c.size = [batch, out_num_caps, in_num_caps]\u001b[39;00m\n",
      "\u001b[0;31mKeyboardInterrupt\u001b[0m: "
     ]
    }
   ],
   "source": [
    "train_loss_list = []\n",
    "valid_loss_list = []\n",
    "    \n",
    "for epoch in range(0, num_epoch+1):\n",
    "    model = model.train()\n",
    "\n",
    "    train_loss = []\n",
    "    for (x, y) in tqdm(train_loader, leave=False):\n",
    "        x = x.to(device).transpose(1,2)\n",
    "        y = y.to(device).squeeze()\n",
    "\n",
    "        optimizer.zero_grad()\n",
    "        outputs = model(x)\n",
    "\n",
    "        loss = torch.sqrt(criterion(outputs.squeeze(), y.squeeze()))\n",
    "        \n",
    "        loss.backward()\n",
    "        optimizer.step()\n",
    "        \n",
    "        train_loss.append(loss.item())\n",
    "\n",
    "    train_loss = np.mean(train_loss)\n",
    "    \n",
    "    model = model.eval()\n",
    "    predictions = []\n",
    "    answers = []\n",
    "    valid_loss = []\n",
    "    with torch.no_grad():\n",
    "        for (x, y) in tqdm(valid_loader, leave=False):\n",
    "            x = x.to(device).transpose(1,2)\n",
    "            y = y.to(device).squeeze()\n",
    "            answers.extend(y.detach().cpu().numpy())\n",
    "\n",
    "            outputs = model(x)\n",
    "\n",
    "            loss = torch.sqrt(criterion(outputs.squeeze(), y.squeeze()))\n",
    "        \n",
    "            predictions.extend(outputs.squeeze().detach().cpu().numpy())\n",
    "            valid_loss.append(loss.item())    \n",
    "\n",
    "    valid_loss = np.mean(valid_loss)\n",
    "    #scheduler.step(valid_loss)\n",
    "    \n",
    "    print(\"epoch: {}/{} | trn_loss: {:.4f} | val_loss: {:.4f}\".format(\n",
    "                epoch, num_epoch, train_loss, valid_loss\n",
    "            ))\n",
    "    train_loss_list.append(train_loss)\n",
    "    valid_loss_list.append(valid_loss)\n",
    "\n",
    "    if epoch % 10 ==0 :\n",
    "        torch.save({\n",
    "            'epoch': epoch,\n",
    "            'model_state_dict' : model.state_dict(),\n",
    "            'optimizer_state_dict' : optimizer.state_dict(),\n",
    "            'criterion' : criterion\n",
    "        }, result_folder + f'dr-pred-stock-best.pt')\n",
    "        \n",
    "    if (epoch==0) or (epoch>0 and (min(valid_loss_list[:-1])>valid_loss_list[-1])):\n",
    "        torch.save({\n",
    "            'epoch': epoch,\n",
    "            'model_state_dict' : model.state_dict(),\n",
    "            'optimizer_state_dict' : optimizer.state_dict(),\n",
    "            'criterion' : criterion\n",
    "        }, result_folder + f'dr-pred-stock-best.pt')"
   ]
  },
  {
   "cell_type": "code",
   "execution_count": 20,
   "metadata": {},
   "outputs": [
    {
     "data": {
      "image/png": "[encoded data removed]",
      "text/plain": [
       "<Figure size 1440x360 with 2 Axes>"
      ]
     },
     "metadata": {
      "needs_background": "light"
     },
     "output_type": "display_data"
    }
   ],
   "source": [
    "fig, ax = plt.subplots(1,2,figsize=(20,5))\n",
    "\n",
    "ax0 = ax[0]\n",
    "ax0.plot(train_loss_list, c= 'blue')\n",
    "ax0.plot(valid_loss_list, c='red')\n",
    "\n",
    "ax1 = ax[1]\n",
    "ax1.plot(valid_loss_list, c='red', marker='o')\n",
    "\n",
    "fig.suptitle(\"Loss\", fontsize=15)\n",
    "plt.savefig(result_folder+'dr_loss.png')"
   ]
  },
  {
   "cell_type": "markdown",
   "metadata": {},
   "source": [
    "### Performance Evaluation"
   ]
  },
  {
   "cell_type": "code",
   "execution_count": 21,
   "metadata": {},
   "outputs": [
    {
     "name": "stdout",
     "output_type": "stream",
     "text": [
      "30\n"
     ]
    }
   ],
   "source": [
    "checkpoint = torch.load(result_folder + 'dr-pred-stock-best.pt')\n",
    "model.load_state_dict(checkpoint['model_state_dict']) #, strict=False)\n",
    "optimizer.load_state_dict(checkpoint['optimizer_state_dict'])\n",
    "criterion = checkpoint['criterion']\n",
    "print(checkpoint['epoch'])"
   ]
  },
  {
   "cell_type": "code",
   "execution_count": 22,
   "metadata": {
    "scrolled": true
   },
   "outputs": [
    {
     "data": {
      "application/vnd.jupyter.widget-view+json": {
       "model_id": "",
       "version_major": 2,
       "version_minor": 0
      },
      "text/plain": [
       "  0%|          | 0/46 [00:00<?, ?it/s]"
      ]
     },
     "metadata": {},
     "output_type": "display_data"
    },
    {
     "name": "stdout",
     "output_type": "stream",
     "text": [
      "test loss: 0.027873847795569378\n"
     ]
    }
   ],
   "source": [
    "model = model.eval()\n",
    "test_loss = []\n",
    "answers = []\n",
    "predictions = []\n",
    "\n",
    "with torch.no_grad():\n",
    "    for (x, y) in tqdm(test_loader, leave=False):\n",
    "        x = x.to(device).transpose(1,2)\n",
    "        y = y.to(device).squeeze()\n",
    "\n",
    "        outputs = model(x)\n",
    "\n",
    "        loss = torch.sqrt(criterion(outputs, y))\n",
    "        \n",
    "        answers.extend(y.squeeze().detach().cpu().numpy())\n",
    "        predictions.extend(outputs.squeeze().detach().cpu().numpy())\n",
    "        test_loss.append(loss.item())  \n",
    "        \n",
    "test_loss = np.mean(test_loss)\n",
    "print(f'test loss: {test_loss}')"
   ]
  },
  {
   "cell_type": "code",
   "execution_count": 23,
   "metadata": {},
   "outputs": [],
   "source": [
    "answers = pd.DataFrame(answers)\n",
    "answers = pd.concat([answers, test_sc.iloc[:, 1:]])\n",
    "predictions = pd.DataFrame(predictions)\n",
    "predictions = pd.concat([predictions, test_sc.iloc[:, 1:]])\n",
    "\n",
    "result_ans = pd.DataFrame(sc.inverse_transform(answers), columns = test_sc.columns)\n",
    "result_pred= pd.DataFrame(sc.inverse_transform(predictions), columns = test_sc.columns)\n",
    "\n",
    "\n",
    "result_ans.to_csv(result_folder + 'result_ans.csv')\n",
    "result_pred.to_csv(result_folder + 'result_pred.csv')"
   ]
  },
  {
   "cell_type": "code",
   "execution_count": 24,
   "metadata": {
    "scrolled": true
   },
   "outputs": [
    {
     "data": {
      "image/png": "[encoded data removed]",
      "text/plain": [
       "<Figure size 1440x216 with 1 Axes>"
      ]
     },
     "metadata": {
      "needs_background": "light"
     },
     "output_type": "display_data"
    },
    {
     "data": {
      "image/png": "[encoded data removed]",
      "text/plain": [
       "<Figure size 1440x216 with 1 Axes>"
      ]
     },
     "metadata": {
      "needs_background": "light"
     },
     "output_type": "display_data"
    },
    {
     "data": {
      "image/png": "[encoded data removed]",
      "text/plain": [
       "<Figure size 1440x216 with 1 Axes>"
      ]
     },
     "metadata": {
      "needs_background": "light"
     },
     "output_type": "display_data"
    },
    {
     "data": {
      "image/png": "[encoded data removed]",
      "text/plain": [
       "<Figure size 1440x216 with 1 Axes>"
      ]
     },
     "metadata": {
      "needs_background": "light"
     },
     "output_type": "display_data"
    },
    {
     "data": {
      "image/png": "[encoded data removed]",
      "text/plain": [
       "<Figure size 1440x216 with 1 Axes>"
      ]
     },
     "metadata": {
      "needs_background": "light"
     },
     "output_type": "display_data"
    }
   ],
   "source": [
    "for i in range(0,1000,200):\n",
    "    plt.figure(figsize=(20,3))\n",
    "    plt.plot(result_ans.iloc[i:i+400, 0], c='black', ls=':', label = 'GroundTruth')\n",
    "    plt.plot(result_pred.iloc[i:i+400, 0], c='blue', label='Reconstruction')\n",
    "    plt.legend()\n",
    "    plt.show()"
   ]
  },
  {
   "cell_type": "code",
   "execution_count": null,
   "metadata": {},
   "outputs": [],
   "source": []
  }
 ],
 "metadata": {
  "kernelspec": {
   "display_name": "pytorch",
   "language": "python",
   "name": "pytorch"
  },
  "language_info": {
   "codemirror_mode": {
    "name": "ipython",
    "version": 3
   },
   "file_extension": ".py",
   "mimetype": "text/x-python",
   "name": "python",
   "nbconvert_exporter": "python",
   "pygments_lexer": "ipython3",
   "version": "3.8.0"
  }
 },
 "nbformat": 4,
 "nbformat_minor": 2
}
